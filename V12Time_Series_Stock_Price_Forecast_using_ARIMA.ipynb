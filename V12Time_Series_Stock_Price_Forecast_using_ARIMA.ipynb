{
  "nbformat": 4,
  "nbformat_minor": 0,
  "metadata": {
    "kernelspec": {
      "display_name": "Python 3",
      "language": "python",
      "name": "python3"
    },
    "language_info": {
      "codemirror_mode": {
        "name": "ipython",
        "version": 3
      },
      "file_extension": ".py",
      "mimetype": "text/x-python",
      "name": "python",
      "nbconvert_exporter": "python",
      "pygments_lexer": "ipython3",
      "version": "3.7.3"
    },
    "colab": {
      "name": "V12Time Series - Stock Price Forecast using ARIMA.ipynb",
      "version": "0.3.2",
      "provenance": [],
      "collapsed_sections": [],
      "include_colab_link": true
    }
  },
  "cells": [
    {
      "cell_type": "markdown",
      "metadata": {
        "id": "view-in-github",
        "colab_type": "text"
      },
      "source": [
        "<a href=\"https://colab.research.google.com/github/mithil2311/Time_Series_Stock_Price_Forecast_/blob/version1/V12Time_Series_Stock_Price_Forecast_using_ARIMA.ipynb\" target=\"_parent\"><img src=\"https://colab.research.google.com/assets/colab-badge.svg\" alt=\"Open In Colab\"/></a>"
      ]
    },
    {
      "cell_type": "code",
      "metadata": {
        "id": "a1Y_6AnEFNxl",
        "colab_type": "code",
        "colab": {}
      },
      "source": [
        "import pandas as pd\n",
        "import numpy as np\n",
        "import matplotlib.pyplot as plt\n",
        "\n",
        "from sklearn import metrics\n",
        "\n",
        "plt.style.use(\"ggplot\")\n",
        "\n",
        "%matplotlib inline"
      ],
      "execution_count": 0,
      "outputs": []
    },
    {
      "cell_type": "code",
      "metadata": {
        "id": "s9LJl5yOFNxq",
        "colab_type": "code",
        "colab": {}
      },
      "source": [
        "plt.rcParams[\"figure.figsize\"] = (12, 6)"
      ],
      "execution_count": 0,
      "outputs": []
    },
    {
      "cell_type": "markdown",
      "metadata": {
        "id": "rKof6OFmFNxs",
        "colab_type": "text"
      },
      "source": [
        "Download stock price data from NSE [website](https://www.nseindia.com/products/content/equities/equities/eq_security.htm). Here I download stock price data for TCS stock.\n"
      ]
    },
    {
      "cell_type": "code",
      "metadata": {
        "id": "_yeVM2w-FNxt",
        "colab_type": "code",
        "outputId": "40647135-e2e4-4ac7-fd9b-ee45b3f71b36",
        "colab": {
          "base_uri": "https://localhost:8080/",
          "height": 443
        }
      },
      "source": [
        "df = pd.read_csv(\"tcsstock.csv\")\n",
        "df.head()\n",
        "\n"
      ],
      "execution_count": 0,
      "outputs": [
        {
          "output_type": "execute_result",
          "data": {
            "text/html": [
              "<div>\n",
              "<style scoped>\n",
              "    .dataframe tbody tr th:only-of-type {\n",
              "        vertical-align: middle;\n",
              "    }\n",
              "\n",
              "    .dataframe tbody tr th {\n",
              "        vertical-align: top;\n",
              "    }\n",
              "\n",
              "    .dataframe thead th {\n",
              "        text-align: right;\n",
              "    }\n",
              "</style>\n",
              "<table border=\"1\" class=\"dataframe\">\n",
              "  <thead>\n",
              "    <tr style=\"text-align: right;\">\n",
              "      <th></th>\n",
              "      <th>Symbol</th>\n",
              "      <th>Series</th>\n",
              "      <th>Date</th>\n",
              "      <th>Prev Close</th>\n",
              "      <th>Open Price</th>\n",
              "      <th>High Price</th>\n",
              "      <th>Low Price</th>\n",
              "      <th>Last Price</th>\n",
              "      <th>Close Price</th>\n",
              "      <th>Average Price</th>\n",
              "      <th>Total Traded Quantity</th>\n",
              "      <th>Turnover</th>\n",
              "      <th>No. of Trades</th>\n",
              "      <th>Deliverable Qty</th>\n",
              "      <th>% Dly Qt to Traded Qty</th>\n",
              "    </tr>\n",
              "  </thead>\n",
              "  <tbody>\n",
              "    <tr>\n",
              "      <th>0</th>\n",
              "      <td>TCS</td>\n",
              "      <td>EQ</td>\n",
              "      <td>21-Aug-2017</td>\n",
              "      <td>2513.80</td>\n",
              "      <td>2505.5</td>\n",
              "      <td>2549.00</td>\n",
              "      <td>2494.30</td>\n",
              "      <td>2513.20</td>\n",
              "      <td>2528.80</td>\n",
              "      <td>2534.62</td>\n",
              "      <td>1152417</td>\n",
              "      <td>2.920942e+09</td>\n",
              "      <td>54265</td>\n",
              "      <td>747946</td>\n",
              "      <td>64.90</td>\n",
              "    </tr>\n",
              "    <tr>\n",
              "      <th>1</th>\n",
              "      <td>TCS</td>\n",
              "      <td>EQ</td>\n",
              "      <td>22-Aug-2017</td>\n",
              "      <td>2528.80</td>\n",
              "      <td>2523.0</td>\n",
              "      <td>2539.50</td>\n",
              "      <td>2492.00</td>\n",
              "      <td>2500.00</td>\n",
              "      <td>2497.55</td>\n",
              "      <td>2516.08</td>\n",
              "      <td>565663</td>\n",
              "      <td>1.423252e+09</td>\n",
              "      <td>35029</td>\n",
              "      <td>287383</td>\n",
              "      <td>50.80</td>\n",
              "    </tr>\n",
              "    <tr>\n",
              "      <th>2</th>\n",
              "      <td>TCS</td>\n",
              "      <td>EQ</td>\n",
              "      <td>23-Aug-2017</td>\n",
              "      <td>2497.55</td>\n",
              "      <td>2505.0</td>\n",
              "      <td>2516.80</td>\n",
              "      <td>2473.15</td>\n",
              "      <td>2491.60</td>\n",
              "      <td>2489.45</td>\n",
              "      <td>2487.52</td>\n",
              "      <td>781136</td>\n",
              "      <td>1.943094e+09</td>\n",
              "      <td>39129</td>\n",
              "      <td>512785</td>\n",
              "      <td>65.65</td>\n",
              "    </tr>\n",
              "    <tr>\n",
              "      <th>3</th>\n",
              "      <td>TCS</td>\n",
              "      <td>EQ</td>\n",
              "      <td>24-Aug-2017</td>\n",
              "      <td>2489.45</td>\n",
              "      <td>2497.7</td>\n",
              "      <td>2517.95</td>\n",
              "      <td>2486.15</td>\n",
              "      <td>2498.05</td>\n",
              "      <td>2496.60</td>\n",
              "      <td>2495.82</td>\n",
              "      <td>811954</td>\n",
              "      <td>2.026487e+09</td>\n",
              "      <td>42614</td>\n",
              "      <td>596982</td>\n",
              "      <td>73.52</td>\n",
              "    </tr>\n",
              "    <tr>\n",
              "      <th>4</th>\n",
              "      <td>TCS</td>\n",
              "      <td>EQ</td>\n",
              "      <td>28-Aug-2017</td>\n",
              "      <td>2496.60</td>\n",
              "      <td>2504.6</td>\n",
              "      <td>2505.40</td>\n",
              "      <td>2461.00</td>\n",
              "      <td>2491.00</td>\n",
              "      <td>2487.30</td>\n",
              "      <td>2479.76</td>\n",
              "      <td>1018398</td>\n",
              "      <td>2.525379e+09</td>\n",
              "      <td>54931</td>\n",
              "      <td>696983</td>\n",
              "      <td>68.44</td>\n",
              "    </tr>\n",
              "  </tbody>\n",
              "</table>\n",
              "</div>"
            ],
            "text/plain": [
              "  Symbol Series  ... Deliverable Qty  % Dly Qt to Traded Qty\n",
              "0    TCS     EQ  ...          747946                   64.90\n",
              "1    TCS     EQ  ...          287383                   50.80\n",
              "2    TCS     EQ  ...          512785                   65.65\n",
              "3    TCS     EQ  ...          596982                   73.52\n",
              "4    TCS     EQ  ...          696983                   68.44\n",
              "\n",
              "[5 rows x 15 columns]"
            ]
          },
          "metadata": {
            "tags": []
          },
          "execution_count": 4
        }
      ]
    },
    {
      "cell_type": "markdown",
      "metadata": {
        "id": "Rm9oEbtRFNxw",
        "colab_type": "text"
      },
      "source": [
        "Check whether you have duplicate data on by date. It looks like 11/2/2019, 18/2/2019, 25/2/2019 etc. have duplicate data. Not sure why there are duplicates by date. It could be ammendment to the data."
      ]
    },
    {
      "cell_type": "code",
      "metadata": {
        "id": "Q2LX2zApFNxx",
        "colab_type": "code",
        "outputId": "417daefa-0d66-43d3-867c-e11976a6c637",
        "colab": {
          "base_uri": "https://localhost:8080/",
          "height": 636
        }
      },
      "source": [
        "df[df[\"Date\"].duplicated(keep = False)]"
      ],
      "execution_count": 0,
      "outputs": [
        {
          "output_type": "execute_result",
          "data": {
            "text/html": [
              "<div>\n",
              "<style scoped>\n",
              "    .dataframe tbody tr th:only-of-type {\n",
              "        vertical-align: middle;\n",
              "    }\n",
              "\n",
              "    .dataframe tbody tr th {\n",
              "        vertical-align: top;\n",
              "    }\n",
              "\n",
              "    .dataframe thead th {\n",
              "        text-align: right;\n",
              "    }\n",
              "</style>\n",
              "<table border=\"1\" class=\"dataframe\">\n",
              "  <thead>\n",
              "    <tr style=\"text-align: right;\">\n",
              "      <th></th>\n",
              "      <th>Symbol</th>\n",
              "      <th>Series</th>\n",
              "      <th>Date</th>\n",
              "      <th>Prev Close</th>\n",
              "      <th>Open Price</th>\n",
              "      <th>High Price</th>\n",
              "      <th>Low Price</th>\n",
              "      <th>Last Price</th>\n",
              "      <th>Close Price</th>\n",
              "      <th>Average Price</th>\n",
              "      <th>Total Traded Quantity</th>\n",
              "      <th>Turnover</th>\n",
              "      <th>No. of Trades</th>\n",
              "      <th>Deliverable Qty</th>\n",
              "      <th>% Dly Qt to Traded Qty</th>\n",
              "    </tr>\n",
              "  </thead>\n",
              "  <tbody>\n",
              "    <tr>\n",
              "      <th>366</th>\n",
              "      <td>TCS</td>\n",
              "      <td>BL</td>\n",
              "      <td>11-Feb-2019</td>\n",
              "      <td>2604.20</td>\n",
              "      <td>2061.40</td>\n",
              "      <td>2061.40</td>\n",
              "      <td>2061.40</td>\n",
              "      <td>2061.40</td>\n",
              "      <td>2061.40</td>\n",
              "      <td>2061.40</td>\n",
              "      <td>376308</td>\n",
              "      <td>7.757213e+08</td>\n",
              "      <td>1</td>\n",
              "      <td>0</td>\n",
              "      <td>0.00</td>\n",
              "    </tr>\n",
              "    <tr>\n",
              "      <th>367</th>\n",
              "      <td>TCS</td>\n",
              "      <td>EQ</td>\n",
              "      <td>11-Feb-2019</td>\n",
              "      <td>2061.40</td>\n",
              "      <td>2060.00</td>\n",
              "      <td>2096.00</td>\n",
              "      <td>2048.90</td>\n",
              "      <td>2065.60</td>\n",
              "      <td>2065.90</td>\n",
              "      <td>2077.11</td>\n",
              "      <td>1778730</td>\n",
              "      <td>3.694622e+09</td>\n",
              "      <td>83603</td>\n",
              "      <td>901516</td>\n",
              "      <td>50.68</td>\n",
              "    </tr>\n",
              "    <tr>\n",
              "      <th>372</th>\n",
              "      <td>TCS</td>\n",
              "      <td>BL</td>\n",
              "      <td>18-Feb-2019</td>\n",
              "      <td>2061.40</td>\n",
              "      <td>2029.70</td>\n",
              "      <td>2029.70</td>\n",
              "      <td>2029.70</td>\n",
              "      <td>2029.70</td>\n",
              "      <td>2029.70</td>\n",
              "      <td>2029.70</td>\n",
              "      <td>2474600</td>\n",
              "      <td>5.022696e+09</td>\n",
              "      <td>1</td>\n",
              "      <td>0</td>\n",
              "      <td>0.00</td>\n",
              "    </tr>\n",
              "    <tr>\n",
              "      <th>373</th>\n",
              "      <td>TCS</td>\n",
              "      <td>EQ</td>\n",
              "      <td>18-Feb-2019</td>\n",
              "      <td>2029.70</td>\n",
              "      <td>2037.60</td>\n",
              "      <td>2041.95</td>\n",
              "      <td>1962.65</td>\n",
              "      <td>1969.60</td>\n",
              "      <td>1970.30</td>\n",
              "      <td>1988.87</td>\n",
              "      <td>2942184</td>\n",
              "      <td>5.851634e+09</td>\n",
              "      <td>100585</td>\n",
              "      <td>1668905</td>\n",
              "      <td>56.72</td>\n",
              "    </tr>\n",
              "    <tr>\n",
              "      <th>378</th>\n",
              "      <td>TCS</td>\n",
              "      <td>BL</td>\n",
              "      <td>25-Feb-2019</td>\n",
              "      <td>2029.70</td>\n",
              "      <td>1925.65</td>\n",
              "      <td>1925.65</td>\n",
              "      <td>1925.65</td>\n",
              "      <td>1925.65</td>\n",
              "      <td>1925.65</td>\n",
              "      <td>1925.65</td>\n",
              "      <td>1057509</td>\n",
              "      <td>2.036392e+09</td>\n",
              "      <td>2</td>\n",
              "      <td>0</td>\n",
              "      <td>0.00</td>\n",
              "    </tr>\n",
              "    <tr>\n",
              "      <th>379</th>\n",
              "      <td>TCS</td>\n",
              "      <td>EQ</td>\n",
              "      <td>25-Feb-2019</td>\n",
              "      <td>1925.65</td>\n",
              "      <td>1932.50</td>\n",
              "      <td>1990.00</td>\n",
              "      <td>1930.50</td>\n",
              "      <td>1987.00</td>\n",
              "      <td>1985.15</td>\n",
              "      <td>1961.61</td>\n",
              "      <td>2934880</td>\n",
              "      <td>5.757095e+09</td>\n",
              "      <td>140541</td>\n",
              "      <td>1341508</td>\n",
              "      <td>45.71</td>\n",
              "    </tr>\n",
              "    <tr>\n",
              "      <th>396</th>\n",
              "      <td>TCS</td>\n",
              "      <td>BL</td>\n",
              "      <td>22-Mar-2019</td>\n",
              "      <td>1925.65</td>\n",
              "      <td>2015.05</td>\n",
              "      <td>2015.05</td>\n",
              "      <td>2015.05</td>\n",
              "      <td>2015.05</td>\n",
              "      <td>2015.05</td>\n",
              "      <td>2015.05</td>\n",
              "      <td>264913</td>\n",
              "      <td>5.338129e+08</td>\n",
              "      <td>1</td>\n",
              "      <td>264913</td>\n",
              "      <td>100.00</td>\n",
              "    </tr>\n",
              "    <tr>\n",
              "      <th>397</th>\n",
              "      <td>TCS</td>\n",
              "      <td>EQ</td>\n",
              "      <td>22-Mar-2019</td>\n",
              "      <td>2015.05</td>\n",
              "      <td>2015.00</td>\n",
              "      <td>2016.00</td>\n",
              "      <td>1983.30</td>\n",
              "      <td>2010.00</td>\n",
              "      <td>2005.65</td>\n",
              "      <td>1998.96</td>\n",
              "      <td>3148149</td>\n",
              "      <td>6.293032e+09</td>\n",
              "      <td>155770</td>\n",
              "      <td>1787595</td>\n",
              "      <td>56.78</td>\n",
              "    </tr>\n",
              "  </tbody>\n",
              "</table>\n",
              "</div>"
            ],
            "text/plain": [
              "    Symbol Series  ... Deliverable Qty  % Dly Qt to Traded Qty\n",
              "366    TCS     BL  ...               0                    0.00\n",
              "367    TCS     EQ  ...          901516                   50.68\n",
              "372    TCS     BL  ...               0                    0.00\n",
              "373    TCS     EQ  ...         1668905                   56.72\n",
              "378    TCS     BL  ...               0                    0.00\n",
              "379    TCS     EQ  ...         1341508                   45.71\n",
              "396    TCS     BL  ...          264913                  100.00\n",
              "397    TCS     EQ  ...         1787595                   56.78\n",
              "\n",
              "[8 rows x 15 columns]"
            ]
          },
          "metadata": {
            "tags": []
          },
          "execution_count": 5
        }
      ]
    },
    {
      "cell_type": "markdown",
      "metadata": {
        "id": "xBj54o8BFNxz",
        "colab_type": "text"
      },
      "source": [
        "Drop the duplicate from the dataset."
      ]
    },
    {
      "cell_type": "code",
      "metadata": {
        "id": "3NJDViYzFNx0",
        "colab_type": "code",
        "colab": {}
      },
      "source": [
        "df = df[~df[\"Date\"].duplicated()]"
      ],
      "execution_count": 0,
      "outputs": []
    },
    {
      "cell_type": "markdown",
      "metadata": {
        "id": "NAPDI9DZFNx2",
        "colab_type": "text"
      },
      "source": [
        "Convert the dataset into time series data by undating the index to time series index. "
      ]
    },
    {
      "cell_type": "code",
      "metadata": {
        "id": "lpSVA0-KFNx3",
        "colab_type": "code",
        "outputId": "f5a57286-f28d-41e6-b732-ad666444ef8b",
        "colab": {
          "base_uri": "https://localhost:8080/",
          "height": 473
        }
      },
      "source": [
        "df.index = pd.to_datetime(df[\"Date\"])\n",
        "df.head()"
      ],
      "execution_count": 0,
      "outputs": [
        {
          "output_type": "execute_result",
          "data": {
            "text/html": [
              "<div>\n",
              "<style scoped>\n",
              "    .dataframe tbody tr th:only-of-type {\n",
              "        vertical-align: middle;\n",
              "    }\n",
              "\n",
              "    .dataframe tbody tr th {\n",
              "        vertical-align: top;\n",
              "    }\n",
              "\n",
              "    .dataframe thead th {\n",
              "        text-align: right;\n",
              "    }\n",
              "</style>\n",
              "<table border=\"1\" class=\"dataframe\">\n",
              "  <thead>\n",
              "    <tr style=\"text-align: right;\">\n",
              "      <th></th>\n",
              "      <th>Symbol</th>\n",
              "      <th>Series</th>\n",
              "      <th>Date</th>\n",
              "      <th>Prev Close</th>\n",
              "      <th>Open Price</th>\n",
              "      <th>High Price</th>\n",
              "      <th>Low Price</th>\n",
              "      <th>Last Price</th>\n",
              "      <th>Close Price</th>\n",
              "      <th>Average Price</th>\n",
              "      <th>Total Traded Quantity</th>\n",
              "      <th>Turnover</th>\n",
              "      <th>No. of Trades</th>\n",
              "      <th>Deliverable Qty</th>\n",
              "      <th>% Dly Qt to Traded Qty</th>\n",
              "    </tr>\n",
              "    <tr>\n",
              "      <th>Date</th>\n",
              "      <th></th>\n",
              "      <th></th>\n",
              "      <th></th>\n",
              "      <th></th>\n",
              "      <th></th>\n",
              "      <th></th>\n",
              "      <th></th>\n",
              "      <th></th>\n",
              "      <th></th>\n",
              "      <th></th>\n",
              "      <th></th>\n",
              "      <th></th>\n",
              "      <th></th>\n",
              "      <th></th>\n",
              "      <th></th>\n",
              "    </tr>\n",
              "  </thead>\n",
              "  <tbody>\n",
              "    <tr>\n",
              "      <th>2017-08-21</th>\n",
              "      <td>TCS</td>\n",
              "      <td>EQ</td>\n",
              "      <td>21-Aug-2017</td>\n",
              "      <td>2513.80</td>\n",
              "      <td>2505.5</td>\n",
              "      <td>2549.00</td>\n",
              "      <td>2494.30</td>\n",
              "      <td>2513.20</td>\n",
              "      <td>2528.80</td>\n",
              "      <td>2534.62</td>\n",
              "      <td>1152417</td>\n",
              "      <td>2.920942e+09</td>\n",
              "      <td>54265</td>\n",
              "      <td>747946</td>\n",
              "      <td>64.90</td>\n",
              "    </tr>\n",
              "    <tr>\n",
              "      <th>2017-08-22</th>\n",
              "      <td>TCS</td>\n",
              "      <td>EQ</td>\n",
              "      <td>22-Aug-2017</td>\n",
              "      <td>2528.80</td>\n",
              "      <td>2523.0</td>\n",
              "      <td>2539.50</td>\n",
              "      <td>2492.00</td>\n",
              "      <td>2500.00</td>\n",
              "      <td>2497.55</td>\n",
              "      <td>2516.08</td>\n",
              "      <td>565663</td>\n",
              "      <td>1.423252e+09</td>\n",
              "      <td>35029</td>\n",
              "      <td>287383</td>\n",
              "      <td>50.80</td>\n",
              "    </tr>\n",
              "    <tr>\n",
              "      <th>2017-08-23</th>\n",
              "      <td>TCS</td>\n",
              "      <td>EQ</td>\n",
              "      <td>23-Aug-2017</td>\n",
              "      <td>2497.55</td>\n",
              "      <td>2505.0</td>\n",
              "      <td>2516.80</td>\n",
              "      <td>2473.15</td>\n",
              "      <td>2491.60</td>\n",
              "      <td>2489.45</td>\n",
              "      <td>2487.52</td>\n",
              "      <td>781136</td>\n",
              "      <td>1.943094e+09</td>\n",
              "      <td>39129</td>\n",
              "      <td>512785</td>\n",
              "      <td>65.65</td>\n",
              "    </tr>\n",
              "    <tr>\n",
              "      <th>2017-08-24</th>\n",
              "      <td>TCS</td>\n",
              "      <td>EQ</td>\n",
              "      <td>24-Aug-2017</td>\n",
              "      <td>2489.45</td>\n",
              "      <td>2497.7</td>\n",
              "      <td>2517.95</td>\n",
              "      <td>2486.15</td>\n",
              "      <td>2498.05</td>\n",
              "      <td>2496.60</td>\n",
              "      <td>2495.82</td>\n",
              "      <td>811954</td>\n",
              "      <td>2.026487e+09</td>\n",
              "      <td>42614</td>\n",
              "      <td>596982</td>\n",
              "      <td>73.52</td>\n",
              "    </tr>\n",
              "    <tr>\n",
              "      <th>2017-08-28</th>\n",
              "      <td>TCS</td>\n",
              "      <td>EQ</td>\n",
              "      <td>28-Aug-2017</td>\n",
              "      <td>2496.60</td>\n",
              "      <td>2504.6</td>\n",
              "      <td>2505.40</td>\n",
              "      <td>2461.00</td>\n",
              "      <td>2491.00</td>\n",
              "      <td>2487.30</td>\n",
              "      <td>2479.76</td>\n",
              "      <td>1018398</td>\n",
              "      <td>2.525379e+09</td>\n",
              "      <td>54931</td>\n",
              "      <td>696983</td>\n",
              "      <td>68.44</td>\n",
              "    </tr>\n",
              "  </tbody>\n",
              "</table>\n",
              "</div>"
            ],
            "text/plain": [
              "           Symbol Series  ... Deliverable Qty  % Dly Qt to Traded Qty\n",
              "Date                      ...                                        \n",
              "2017-08-21    TCS     EQ  ...          747946                   64.90\n",
              "2017-08-22    TCS     EQ  ...          287383                   50.80\n",
              "2017-08-23    TCS     EQ  ...          512785                   65.65\n",
              "2017-08-24    TCS     EQ  ...          596982                   73.52\n",
              "2017-08-28    TCS     EQ  ...          696983                   68.44\n",
              "\n",
              "[5 rows x 15 columns]"
            ]
          },
          "metadata": {
            "tags": []
          },
          "execution_count": 6
        }
      ]
    },
    {
      "cell_type": "code",
      "metadata": {
        "id": "oeUjvDmUFNx5",
        "colab_type": "code",
        "outputId": "2321feca-7cb3-4f4c-de29-7717f18c339d",
        "colab": {
          "base_uri": "https://localhost:8080/",
          "height": 163
        }
      },
      "source": [
        "df.index"
      ],
      "execution_count": 0,
      "outputs": [
        {
          "output_type": "execute_result",
          "data": {
            "text/plain": [
              "DatetimeIndex(['2017-08-21', '2017-08-22', '2017-08-23', '2017-08-24',\n",
              "               '2017-08-28', '2017-08-29', '2017-08-30', '2017-08-31',\n",
              "               '2017-09-01', '2017-09-04',\n",
              "               ...\n",
              "               '2019-08-02', '2019-08-05', '2019-08-06', '2019-08-07',\n",
              "               '2019-08-08', '2019-08-09', '2019-08-13', '2019-08-14',\n",
              "               '2019-08-16', '2019-08-19'],\n",
              "              dtype='datetime64[ns]', name='Date', length=497, freq=None)"
            ]
          },
          "metadata": {
            "tags": []
          },
          "execution_count": 7
        }
      ]
    },
    {
      "cell_type": "code",
      "metadata": {
        "id": "k6PBSfhsFNx7",
        "colab_type": "code",
        "outputId": "3f465462-6f05-443b-8a5d-0f982151455d",
        "colab": {
          "base_uri": "https://localhost:8080/",
          "height": 421
        }
      },
      "source": [
        "y = np.log(df[\"Close Price\"])\n",
        "y.plot()"
      ],
      "execution_count": 0,
      "outputs": [
        {
          "output_type": "execute_result",
          "data": {
            "text/plain": [
              "<matplotlib.axes._subplots.AxesSubplot at 0x7f066e420198>"
            ]
          },
          "metadata": {
            "tags": []
          },
          "execution_count": 8
        },
        {
          "output_type": "display_data",
          "data": {
            "image/png": "[encoded data removed]",
            "text/plain": [
              "<Figure size 864x432 with 1 Axes>"
            ]
          },
          "metadata": {
            "tags": []
          }
        }
      ]
    },
    {
      "cell_type": "code",
      "metadata": {
        "id": "5T3AzUUDFNx9",
        "colab_type": "code",
        "outputId": "4b721c0b-2e29-4644-da15-995eaad17084",
        "colab": {
          "base_uri": "https://localhost:8080/",
          "height": 163
        }
      },
      "source": [
        "y.index"
      ],
      "execution_count": 0,
      "outputs": [
        {
          "output_type": "execute_result",
          "data": {
            "text/plain": [
              "DatetimeIndex(['2017-08-21', '2017-08-22', '2017-08-23', '2017-08-24',\n",
              "               '2017-08-28', '2017-08-29', '2017-08-30', '2017-08-31',\n",
              "               '2017-09-01', '2017-09-04',\n",
              "               ...\n",
              "               '2019-08-02', '2019-08-05', '2019-08-06', '2019-08-07',\n",
              "               '2019-08-08', '2019-08-09', '2019-08-13', '2019-08-14',\n",
              "               '2019-08-16', '2019-08-19'],\n",
              "              dtype='datetime64[ns]', name='Date', length=497, freq=None)"
            ]
          },
          "metadata": {
            "tags": []
          },
          "execution_count": 9
        }
      ]
    },
    {
      "cell_type": "markdown",
      "metadata": {
        "id": "gu3VrP8-FNx_",
        "colab_type": "text"
      },
      "source": [
        "Let's see if there are gaps in the data in terms of date range. Trading does not happen on weekends or national holidays. So there is no data on those days. "
      ]
    },
    {
      "cell_type": "code",
      "metadata": {
        "id": "TmV_rjcAFNyA",
        "colab_type": "code",
        "outputId": "b81da694-ea1b-4306-cb25-d5e9342559bf",
        "colab": {
          "base_uri": "https://localhost:8080/",
          "height": 199
        }
      },
      "source": [
        "list(y.index[:10])"
      ],
      "execution_count": 0,
      "outputs": [
        {
          "output_type": "execute_result",
          "data": {
            "text/plain": [
              "[Timestamp('2017-08-21 00:00:00'),\n",
              " Timestamp('2017-08-22 00:00:00'),\n",
              " Timestamp('2017-08-23 00:00:00'),\n",
              " Timestamp('2017-08-24 00:00:00'),\n",
              " Timestamp('2017-08-28 00:00:00'),\n",
              " Timestamp('2017-08-29 00:00:00'),\n",
              " Timestamp('2017-08-30 00:00:00'),\n",
              " Timestamp('2017-08-31 00:00:00'),\n",
              " Timestamp('2017-09-01 00:00:00'),\n",
              " Timestamp('2017-09-04 00:00:00')]"
            ]
          },
          "metadata": {
            "tags": []
          },
          "execution_count": 14
        }
      ]
    },
    {
      "cell_type": "code",
      "metadata": {
        "id": "YwVAfzHDFNyC",
        "colab_type": "code",
        "outputId": "0e3ec4f9-3436-4f3f-f898-81f4e987d099",
        "colab": {
          "base_uri": "https://localhost:8080/",
          "height": 342
        }
      },
      "source": [
        "y.asfreq(\"D\")[:15]"
      ],
      "execution_count": 0,
      "outputs": [
        {
          "output_type": "error",
          "ename": "ValueError",
          "evalue": "ignored",
          "traceback": [
            "\u001b[0;31m---------------------------------------------------------------------------\u001b[0m",
            "\u001b[0;31mValueError\u001b[0m                                Traceback (most recent call last)",
            "\u001b[0;32m<ipython-input-16-9c3a014cf55a>\u001b[0m in \u001b[0;36m<module>\u001b[0;34m()\u001b[0m\n\u001b[0;32m----> 1\u001b[0;31m \u001b[0my\u001b[0m\u001b[0;34m.\u001b[0m\u001b[0masfreq\u001b[0m\u001b[0;34m(\u001b[0m\u001b[0;34m\"D\"\u001b[0m\u001b[0;34m)\u001b[0m\u001b[0;34m[\u001b[0m\u001b[0;34m:\u001b[0m\u001b[0;36m15\u001b[0m\u001b[0;34m]\u001b[0m\u001b[0;34m\u001b[0m\u001b[0;34m\u001b[0m\u001b[0m\n\u001b[0m",
            "\u001b[0;32m/usr/local/lib/python3.6/dist-packages/pandas/core/generic.py\u001b[0m in \u001b[0;36masfreq\u001b[0;34m(self, freq, method, how, normalize, fill_value)\u001b[0m\n\u001b[1;32m   7729\u001b[0m         \u001b[0;32mfrom\u001b[0m \u001b[0mpandas\u001b[0m\u001b[0;34m.\u001b[0m\u001b[0mcore\u001b[0m\u001b[0;34m.\u001b[0m\u001b[0mresample\u001b[0m \u001b[0;32mimport\u001b[0m \u001b[0masfreq\u001b[0m\u001b[0;34m\u001b[0m\u001b[0;34m\u001b[0m\u001b[0m\n\u001b[1;32m   7730\u001b[0m         return asfreq(self, freq, method=method, how=how, normalize=normalize,\n\u001b[0;32m-> 7731\u001b[0;31m                       fill_value=fill_value)\n\u001b[0m\u001b[1;32m   7732\u001b[0m \u001b[0;34m\u001b[0m\u001b[0m\n\u001b[1;32m   7733\u001b[0m     \u001b[0;32mdef\u001b[0m \u001b[0mat_time\u001b[0m\u001b[0;34m(\u001b[0m\u001b[0mself\u001b[0m\u001b[0;34m,\u001b[0m \u001b[0mtime\u001b[0m\u001b[0;34m,\u001b[0m \u001b[0masof\u001b[0m\u001b[0;34m=\u001b[0m\u001b[0;32mFalse\u001b[0m\u001b[0;34m,\u001b[0m \u001b[0maxis\u001b[0m\u001b[0;34m=\u001b[0m\u001b[0;32mNone\u001b[0m\u001b[0;34m)\u001b[0m\u001b[0;34m:\u001b[0m\u001b[0;34m\u001b[0m\u001b[0;34m\u001b[0m\u001b[0m\n",
            "\u001b[0;32m/usr/local/lib/python3.6/dist-packages/pandas/core/resample.py\u001b[0m in \u001b[0;36masfreq\u001b[0;34m(obj, freq, method, how, normalize, fill_value)\u001b[0m\n\u001b[1;32m   1760\u001b[0m         \u001b[0mdti\u001b[0m \u001b[0;34m=\u001b[0m \u001b[0mdate_range\u001b[0m\u001b[0;34m(\u001b[0m\u001b[0mobj\u001b[0m\u001b[0;34m.\u001b[0m\u001b[0mindex\u001b[0m\u001b[0;34m[\u001b[0m\u001b[0;36m0\u001b[0m\u001b[0;34m]\u001b[0m\u001b[0;34m,\u001b[0m \u001b[0mobj\u001b[0m\u001b[0;34m.\u001b[0m\u001b[0mindex\u001b[0m\u001b[0;34m[\u001b[0m\u001b[0;34m-\u001b[0m\u001b[0;36m1\u001b[0m\u001b[0;34m]\u001b[0m\u001b[0;34m,\u001b[0m \u001b[0mfreq\u001b[0m\u001b[0;34m=\u001b[0m\u001b[0mfreq\u001b[0m\u001b[0;34m)\u001b[0m\u001b[0;34m\u001b[0m\u001b[0;34m\u001b[0m\u001b[0m\n\u001b[1;32m   1761\u001b[0m         \u001b[0mdti\u001b[0m\u001b[0;34m.\u001b[0m\u001b[0mname\u001b[0m \u001b[0;34m=\u001b[0m \u001b[0mobj\u001b[0m\u001b[0;34m.\u001b[0m\u001b[0mindex\u001b[0m\u001b[0;34m.\u001b[0m\u001b[0mname\u001b[0m\u001b[0;34m\u001b[0m\u001b[0;34m\u001b[0m\u001b[0m\n\u001b[0;32m-> 1762\u001b[0;31m         \u001b[0mnew_obj\u001b[0m \u001b[0;34m=\u001b[0m \u001b[0mobj\u001b[0m\u001b[0;34m.\u001b[0m\u001b[0mreindex\u001b[0m\u001b[0;34m(\u001b[0m\u001b[0mdti\u001b[0m\u001b[0;34m,\u001b[0m \u001b[0mmethod\u001b[0m\u001b[0;34m=\u001b[0m\u001b[0mmethod\u001b[0m\u001b[0;34m,\u001b[0m \u001b[0mfill_value\u001b[0m\u001b[0;34m=\u001b[0m\u001b[0mfill_value\u001b[0m\u001b[0;34m)\u001b[0m\u001b[0;34m\u001b[0m\u001b[0;34m\u001b[0m\u001b[0m\n\u001b[0m\u001b[1;32m   1763\u001b[0m         \u001b[0;32mif\u001b[0m \u001b[0mnormalize\u001b[0m\u001b[0;34m:\u001b[0m\u001b[0;34m\u001b[0m\u001b[0;34m\u001b[0m\u001b[0m\n\u001b[1;32m   1764\u001b[0m             \u001b[0mnew_obj\u001b[0m\u001b[0;34m.\u001b[0m\u001b[0mindex\u001b[0m \u001b[0;34m=\u001b[0m \u001b[0mnew_obj\u001b[0m\u001b[0;34m.\u001b[0m\u001b[0mindex\u001b[0m\u001b[0;34m.\u001b[0m\u001b[0mnormalize\u001b[0m\u001b[0;34m(\u001b[0m\u001b[0;34m)\u001b[0m\u001b[0;34m\u001b[0m\u001b[0;34m\u001b[0m\u001b[0m\n",
            "\u001b[0;32m/usr/local/lib/python3.6/dist-packages/pandas/core/series.py\u001b[0m in \u001b[0;36mreindex\u001b[0;34m(self, index, **kwargs)\u001b[0m\n\u001b[1;32m   3736\u001b[0m     \u001b[0;34m@\u001b[0m\u001b[0mAppender\u001b[0m\u001b[0;34m(\u001b[0m\u001b[0mgeneric\u001b[0m\u001b[0;34m.\u001b[0m\u001b[0mNDFrame\u001b[0m\u001b[0;34m.\u001b[0m\u001b[0mreindex\u001b[0m\u001b[0;34m.\u001b[0m\u001b[0m__doc__\u001b[0m\u001b[0;34m)\u001b[0m\u001b[0;34m\u001b[0m\u001b[0;34m\u001b[0m\u001b[0m\n\u001b[1;32m   3737\u001b[0m     \u001b[0;32mdef\u001b[0m \u001b[0mreindex\u001b[0m\u001b[0;34m(\u001b[0m\u001b[0mself\u001b[0m\u001b[0;34m,\u001b[0m \u001b[0mindex\u001b[0m\u001b[0;34m=\u001b[0m\u001b[0;32mNone\u001b[0m\u001b[0;34m,\u001b[0m \u001b[0;34m**\u001b[0m\u001b[0mkwargs\u001b[0m\u001b[0;34m)\u001b[0m\u001b[0;34m:\u001b[0m\u001b[0;34m\u001b[0m\u001b[0;34m\u001b[0m\u001b[0m\n\u001b[0;32m-> 3738\u001b[0;31m         \u001b[0;32mreturn\u001b[0m \u001b[0msuper\u001b[0m\u001b[0;34m(\u001b[0m\u001b[0mSeries\u001b[0m\u001b[0;34m,\u001b[0m \u001b[0mself\u001b[0m\u001b[0;34m)\u001b[0m\u001b[0;34m.\u001b[0m\u001b[0mreindex\u001b[0m\u001b[0;34m(\u001b[0m\u001b[0mindex\u001b[0m\u001b[0;34m=\u001b[0m\u001b[0mindex\u001b[0m\u001b[0;34m,\u001b[0m \u001b[0;34m**\u001b[0m\u001b[0mkwargs\u001b[0m\u001b[0;34m)\u001b[0m\u001b[0;34m\u001b[0m\u001b[0;34m\u001b[0m\u001b[0m\n\u001b[0m\u001b[1;32m   3739\u001b[0m \u001b[0;34m\u001b[0m\u001b[0m\n\u001b[1;32m   3740\u001b[0m     def drop(self, labels=None, axis=0, index=None, columns=None,\n",
            "\u001b[0;32m/usr/local/lib/python3.6/dist-packages/pandas/core/generic.py\u001b[0m in \u001b[0;36mreindex\u001b[0;34m(self, *args, **kwargs)\u001b[0m\n\u001b[1;32m   4354\u001b[0m         \u001b[0;31m# perform the reindex on the axes\u001b[0m\u001b[0;34m\u001b[0m\u001b[0;34m\u001b[0m\u001b[0;34m\u001b[0m\u001b[0m\n\u001b[1;32m   4355\u001b[0m         return self._reindex_axes(axes, level, limit, tolerance, method,\n\u001b[0;32m-> 4356\u001b[0;31m                                   fill_value, copy).__finalize__(self)\n\u001b[0m\u001b[1;32m   4357\u001b[0m \u001b[0;34m\u001b[0m\u001b[0m\n\u001b[1;32m   4358\u001b[0m     def _reindex_axes(self, axes, level, limit, tolerance, method, fill_value,\n",
            "\u001b[0;32m/usr/local/lib/python3.6/dist-packages/pandas/core/generic.py\u001b[0m in \u001b[0;36m_reindex_axes\u001b[0;34m(self, axes, level, limit, tolerance, method, fill_value, copy)\u001b[0m\n\u001b[1;32m   4372\u001b[0m             obj = obj._reindex_with_indexers({axis: [new_index, indexer]},\n\u001b[1;32m   4373\u001b[0m                                              \u001b[0mfill_value\u001b[0m\u001b[0;34m=\u001b[0m\u001b[0mfill_value\u001b[0m\u001b[0;34m,\u001b[0m\u001b[0;34m\u001b[0m\u001b[0;34m\u001b[0m\u001b[0m\n\u001b[0;32m-> 4374\u001b[0;31m                                              copy=copy, allow_dups=False)\n\u001b[0m\u001b[1;32m   4375\u001b[0m \u001b[0;34m\u001b[0m\u001b[0m\n\u001b[1;32m   4376\u001b[0m         \u001b[0;32mreturn\u001b[0m \u001b[0mobj\u001b[0m\u001b[0;34m\u001b[0m\u001b[0;34m\u001b[0m\u001b[0m\n",
            "\u001b[0;32m/usr/local/lib/python3.6/dist-packages/pandas/core/generic.py\u001b[0m in \u001b[0;36m_reindex_with_indexers\u001b[0;34m(self, reindexers, fill_value, copy, allow_dups)\u001b[0m\n\u001b[1;32m   4488\u001b[0m                                                 \u001b[0mfill_value\u001b[0m\u001b[0;34m=\u001b[0m\u001b[0mfill_value\u001b[0m\u001b[0;34m,\u001b[0m\u001b[0;34m\u001b[0m\u001b[0;34m\u001b[0m\u001b[0m\n\u001b[1;32m   4489\u001b[0m                                                 \u001b[0mallow_dups\u001b[0m\u001b[0;34m=\u001b[0m\u001b[0mallow_dups\u001b[0m\u001b[0;34m,\u001b[0m\u001b[0;34m\u001b[0m\u001b[0;34m\u001b[0m\u001b[0m\n\u001b[0;32m-> 4490\u001b[0;31m                                                 copy=copy)\n\u001b[0m\u001b[1;32m   4491\u001b[0m \u001b[0;34m\u001b[0m\u001b[0m\n\u001b[1;32m   4492\u001b[0m         \u001b[0;32mif\u001b[0m \u001b[0mcopy\u001b[0m \u001b[0;32mand\u001b[0m \u001b[0mnew_data\u001b[0m \u001b[0;32mis\u001b[0m \u001b[0mself\u001b[0m\u001b[0;34m.\u001b[0m\u001b[0m_data\u001b[0m\u001b[0;34m:\u001b[0m\u001b[0;34m\u001b[0m\u001b[0;34m\u001b[0m\u001b[0m\n",
            "\u001b[0;32m/usr/local/lib/python3.6/dist-packages/pandas/core/internals/managers.py\u001b[0m in \u001b[0;36mreindex_indexer\u001b[0;34m(self, new_axis, indexer, axis, fill_value, allow_dups, copy)\u001b[0m\n\u001b[1;32m   1222\u001b[0m         \u001b[0;31m# some axes don't allow reindexing with dups\u001b[0m\u001b[0;34m\u001b[0m\u001b[0;34m\u001b[0m\u001b[0;34m\u001b[0m\u001b[0m\n\u001b[1;32m   1223\u001b[0m         \u001b[0;32mif\u001b[0m \u001b[0;32mnot\u001b[0m \u001b[0mallow_dups\u001b[0m\u001b[0;34m:\u001b[0m\u001b[0;34m\u001b[0m\u001b[0;34m\u001b[0m\u001b[0m\n\u001b[0;32m-> 1224\u001b[0;31m             \u001b[0mself\u001b[0m\u001b[0;34m.\u001b[0m\u001b[0maxes\u001b[0m\u001b[0;34m[\u001b[0m\u001b[0maxis\u001b[0m\u001b[0;34m]\u001b[0m\u001b[0;34m.\u001b[0m\u001b[0m_can_reindex\u001b[0m\u001b[0;34m(\u001b[0m\u001b[0mindexer\u001b[0m\u001b[0;34m)\u001b[0m\u001b[0;34m\u001b[0m\u001b[0;34m\u001b[0m\u001b[0m\n\u001b[0m\u001b[1;32m   1225\u001b[0m \u001b[0;34m\u001b[0m\u001b[0m\n\u001b[1;32m   1226\u001b[0m         \u001b[0;32mif\u001b[0m \u001b[0maxis\u001b[0m \u001b[0;34m>=\u001b[0m \u001b[0mself\u001b[0m\u001b[0;34m.\u001b[0m\u001b[0mndim\u001b[0m\u001b[0;34m:\u001b[0m\u001b[0;34m\u001b[0m\u001b[0;34m\u001b[0m\u001b[0m\n",
            "\u001b[0;32m/usr/local/lib/python3.6/dist-packages/pandas/core/indexes/base.py\u001b[0m in \u001b[0;36m_can_reindex\u001b[0;34m(self, indexer)\u001b[0m\n\u001b[1;32m   3085\u001b[0m         \u001b[0;31m# trying to reindex on an axis with duplicates\u001b[0m\u001b[0;34m\u001b[0m\u001b[0;34m\u001b[0m\u001b[0;34m\u001b[0m\u001b[0m\n\u001b[1;32m   3086\u001b[0m         \u001b[0;32mif\u001b[0m \u001b[0;32mnot\u001b[0m \u001b[0mself\u001b[0m\u001b[0;34m.\u001b[0m\u001b[0mis_unique\u001b[0m \u001b[0;32mand\u001b[0m \u001b[0mlen\u001b[0m\u001b[0;34m(\u001b[0m\u001b[0mindexer\u001b[0m\u001b[0;34m)\u001b[0m\u001b[0;34m:\u001b[0m\u001b[0;34m\u001b[0m\u001b[0;34m\u001b[0m\u001b[0m\n\u001b[0;32m-> 3087\u001b[0;31m             \u001b[0;32mraise\u001b[0m \u001b[0mValueError\u001b[0m\u001b[0;34m(\u001b[0m\u001b[0;34m\"cannot reindex from a duplicate axis\"\u001b[0m\u001b[0;34m)\u001b[0m\u001b[0;34m\u001b[0m\u001b[0;34m\u001b[0m\u001b[0m\n\u001b[0m\u001b[1;32m   3088\u001b[0m \u001b[0;34m\u001b[0m\u001b[0m\n\u001b[1;32m   3089\u001b[0m     def reindex(self, target, method=None, level=None, limit=None,\n",
            "\u001b[0;31mValueError\u001b[0m: cannot reindex from a duplicate axis"
          ]
        }
      ]
    },
    {
      "cell_type": "markdown",
      "metadata": {
        "id": "ehtzDcurFNyE",
        "colab_type": "text"
      },
      "source": [
        "Let's impute the missing data by forward fill using asfreq method."
      ]
    },
    {
      "cell_type": "code",
      "metadata": {
        "scrolled": false,
        "id": "l_-rBTydFNyF",
        "colab_type": "code",
        "outputId": "cd17d77c-ed15-45c2-9876-3556b65e0b93",
        "colab": {
          "base_uri": "https://localhost:8080/",
          "height": 342
        }
      },
      "source": [
        "y.asfreq(\"D\", method=\"ffill\")[:15]"
      ],
      "execution_count": 0,
      "outputs": [
        {
          "output_type": "error",
          "ename": "ValueError",
          "evalue": "ignored",
          "traceback": [
            "\u001b[0;31m---------------------------------------------------------------------------\u001b[0m",
            "\u001b[0;31mValueError\u001b[0m                                Traceback (most recent call last)",
            "\u001b[0;32m<ipython-input-13-6d11a526262f>\u001b[0m in \u001b[0;36m<module>\u001b[0;34m()\u001b[0m\n\u001b[0;32m----> 1\u001b[0;31m \u001b[0my\u001b[0m\u001b[0;34m.\u001b[0m\u001b[0masfreq\u001b[0m\u001b[0;34m(\u001b[0m\u001b[0;34m\"D\"\u001b[0m\u001b[0;34m,\u001b[0m \u001b[0mmethod\u001b[0m\u001b[0;34m=\u001b[0m\u001b[0;34m\"ffill\"\u001b[0m\u001b[0;34m)\u001b[0m\u001b[0;34m[\u001b[0m\u001b[0;34m:\u001b[0m\u001b[0;36m15\u001b[0m\u001b[0;34m]\u001b[0m\u001b[0;34m\u001b[0m\u001b[0;34m\u001b[0m\u001b[0m\n\u001b[0m",
            "\u001b[0;32m/usr/local/lib/python3.6/dist-packages/pandas/core/generic.py\u001b[0m in \u001b[0;36masfreq\u001b[0;34m(self, freq, method, how, normalize, fill_value)\u001b[0m\n\u001b[1;32m   7729\u001b[0m         \u001b[0;32mfrom\u001b[0m \u001b[0mpandas\u001b[0m\u001b[0;34m.\u001b[0m\u001b[0mcore\u001b[0m\u001b[0;34m.\u001b[0m\u001b[0mresample\u001b[0m \u001b[0;32mimport\u001b[0m \u001b[0masfreq\u001b[0m\u001b[0;34m\u001b[0m\u001b[0;34m\u001b[0m\u001b[0m\n\u001b[1;32m   7730\u001b[0m         return asfreq(self, freq, method=method, how=how, normalize=normalize,\n\u001b[0;32m-> 7731\u001b[0;31m                       fill_value=fill_value)\n\u001b[0m\u001b[1;32m   7732\u001b[0m \u001b[0;34m\u001b[0m\u001b[0m\n\u001b[1;32m   7733\u001b[0m     \u001b[0;32mdef\u001b[0m \u001b[0mat_time\u001b[0m\u001b[0;34m(\u001b[0m\u001b[0mself\u001b[0m\u001b[0;34m,\u001b[0m \u001b[0mtime\u001b[0m\u001b[0;34m,\u001b[0m \u001b[0masof\u001b[0m\u001b[0;34m=\u001b[0m\u001b[0;32mFalse\u001b[0m\u001b[0;34m,\u001b[0m \u001b[0maxis\u001b[0m\u001b[0;34m=\u001b[0m\u001b[0;32mNone\u001b[0m\u001b[0;34m)\u001b[0m\u001b[0;34m:\u001b[0m\u001b[0;34m\u001b[0m\u001b[0;34m\u001b[0m\u001b[0m\n",
            "\u001b[0;32m/usr/local/lib/python3.6/dist-packages/pandas/core/resample.py\u001b[0m in \u001b[0;36masfreq\u001b[0;34m(obj, freq, method, how, normalize, fill_value)\u001b[0m\n\u001b[1;32m   1760\u001b[0m         \u001b[0mdti\u001b[0m \u001b[0;34m=\u001b[0m \u001b[0mdate_range\u001b[0m\u001b[0;34m(\u001b[0m\u001b[0mobj\u001b[0m\u001b[0;34m.\u001b[0m\u001b[0mindex\u001b[0m\u001b[0;34m[\u001b[0m\u001b[0;36m0\u001b[0m\u001b[0;34m]\u001b[0m\u001b[0;34m,\u001b[0m \u001b[0mobj\u001b[0m\u001b[0;34m.\u001b[0m\u001b[0mindex\u001b[0m\u001b[0;34m[\u001b[0m\u001b[0;34m-\u001b[0m\u001b[0;36m1\u001b[0m\u001b[0;34m]\u001b[0m\u001b[0;34m,\u001b[0m \u001b[0mfreq\u001b[0m\u001b[0;34m=\u001b[0m\u001b[0mfreq\u001b[0m\u001b[0;34m)\u001b[0m\u001b[0;34m\u001b[0m\u001b[0;34m\u001b[0m\u001b[0m\n\u001b[1;32m   1761\u001b[0m         \u001b[0mdti\u001b[0m\u001b[0;34m.\u001b[0m\u001b[0mname\u001b[0m \u001b[0;34m=\u001b[0m \u001b[0mobj\u001b[0m\u001b[0;34m.\u001b[0m\u001b[0mindex\u001b[0m\u001b[0;34m.\u001b[0m\u001b[0mname\u001b[0m\u001b[0;34m\u001b[0m\u001b[0;34m\u001b[0m\u001b[0m\n\u001b[0;32m-> 1762\u001b[0;31m         \u001b[0mnew_obj\u001b[0m \u001b[0;34m=\u001b[0m \u001b[0mobj\u001b[0m\u001b[0;34m.\u001b[0m\u001b[0mreindex\u001b[0m\u001b[0;34m(\u001b[0m\u001b[0mdti\u001b[0m\u001b[0;34m,\u001b[0m \u001b[0mmethod\u001b[0m\u001b[0;34m=\u001b[0m\u001b[0mmethod\u001b[0m\u001b[0;34m,\u001b[0m \u001b[0mfill_value\u001b[0m\u001b[0;34m=\u001b[0m\u001b[0mfill_value\u001b[0m\u001b[0;34m)\u001b[0m\u001b[0;34m\u001b[0m\u001b[0;34m\u001b[0m\u001b[0m\n\u001b[0m\u001b[1;32m   1763\u001b[0m         \u001b[0;32mif\u001b[0m \u001b[0mnormalize\u001b[0m\u001b[0;34m:\u001b[0m\u001b[0;34m\u001b[0m\u001b[0;34m\u001b[0m\u001b[0m\n\u001b[1;32m   1764\u001b[0m             \u001b[0mnew_obj\u001b[0m\u001b[0;34m.\u001b[0m\u001b[0mindex\u001b[0m \u001b[0;34m=\u001b[0m \u001b[0mnew_obj\u001b[0m\u001b[0;34m.\u001b[0m\u001b[0mindex\u001b[0m\u001b[0;34m.\u001b[0m\u001b[0mnormalize\u001b[0m\u001b[0;34m(\u001b[0m\u001b[0;34m)\u001b[0m\u001b[0;34m\u001b[0m\u001b[0;34m\u001b[0m\u001b[0m\n",
            "\u001b[0;32m/usr/local/lib/python3.6/dist-packages/pandas/core/series.py\u001b[0m in \u001b[0;36mreindex\u001b[0;34m(self, index, **kwargs)\u001b[0m\n\u001b[1;32m   3736\u001b[0m     \u001b[0;34m@\u001b[0m\u001b[0mAppender\u001b[0m\u001b[0;34m(\u001b[0m\u001b[0mgeneric\u001b[0m\u001b[0;34m.\u001b[0m\u001b[0mNDFrame\u001b[0m\u001b[0;34m.\u001b[0m\u001b[0mreindex\u001b[0m\u001b[0;34m.\u001b[0m\u001b[0m__doc__\u001b[0m\u001b[0;34m)\u001b[0m\u001b[0;34m\u001b[0m\u001b[0;34m\u001b[0m\u001b[0m\n\u001b[1;32m   3737\u001b[0m     \u001b[0;32mdef\u001b[0m \u001b[0mreindex\u001b[0m\u001b[0;34m(\u001b[0m\u001b[0mself\u001b[0m\u001b[0;34m,\u001b[0m \u001b[0mindex\u001b[0m\u001b[0;34m=\u001b[0m\u001b[0;32mNone\u001b[0m\u001b[0;34m,\u001b[0m \u001b[0;34m**\u001b[0m\u001b[0mkwargs\u001b[0m\u001b[0;34m)\u001b[0m\u001b[0;34m:\u001b[0m\u001b[0;34m\u001b[0m\u001b[0;34m\u001b[0m\u001b[0m\n\u001b[0;32m-> 3738\u001b[0;31m         \u001b[0;32mreturn\u001b[0m \u001b[0msuper\u001b[0m\u001b[0;34m(\u001b[0m\u001b[0mSeries\u001b[0m\u001b[0;34m,\u001b[0m \u001b[0mself\u001b[0m\u001b[0;34m)\u001b[0m\u001b[0;34m.\u001b[0m\u001b[0mreindex\u001b[0m\u001b[0;34m(\u001b[0m\u001b[0mindex\u001b[0m\u001b[0;34m=\u001b[0m\u001b[0mindex\u001b[0m\u001b[0;34m,\u001b[0m \u001b[0;34m**\u001b[0m\u001b[0mkwargs\u001b[0m\u001b[0;34m)\u001b[0m\u001b[0;34m\u001b[0m\u001b[0;34m\u001b[0m\u001b[0m\n\u001b[0m\u001b[1;32m   3739\u001b[0m \u001b[0;34m\u001b[0m\u001b[0m\n\u001b[1;32m   3740\u001b[0m     def drop(self, labels=None, axis=0, index=None, columns=None,\n",
            "\u001b[0;32m/usr/local/lib/python3.6/dist-packages/pandas/core/generic.py\u001b[0m in \u001b[0;36mreindex\u001b[0;34m(self, *args, **kwargs)\u001b[0m\n\u001b[1;32m   4354\u001b[0m         \u001b[0;31m# perform the reindex on the axes\u001b[0m\u001b[0;34m\u001b[0m\u001b[0;34m\u001b[0m\u001b[0;34m\u001b[0m\u001b[0m\n\u001b[1;32m   4355\u001b[0m         return self._reindex_axes(axes, level, limit, tolerance, method,\n\u001b[0;32m-> 4356\u001b[0;31m                                   fill_value, copy).__finalize__(self)\n\u001b[0m\u001b[1;32m   4357\u001b[0m \u001b[0;34m\u001b[0m\u001b[0m\n\u001b[1;32m   4358\u001b[0m     def _reindex_axes(self, axes, level, limit, tolerance, method, fill_value,\n",
            "\u001b[0;32m/usr/local/lib/python3.6/dist-packages/pandas/core/generic.py\u001b[0m in \u001b[0;36m_reindex_axes\u001b[0;34m(self, axes, level, limit, tolerance, method, fill_value, copy)\u001b[0m\n\u001b[1;32m   4367\u001b[0m             \u001b[0max\u001b[0m \u001b[0;34m=\u001b[0m \u001b[0mself\u001b[0m\u001b[0;34m.\u001b[0m\u001b[0m_get_axis\u001b[0m\u001b[0;34m(\u001b[0m\u001b[0ma\u001b[0m\u001b[0;34m)\u001b[0m\u001b[0;34m\u001b[0m\u001b[0;34m\u001b[0m\u001b[0m\n\u001b[1;32m   4368\u001b[0m             new_index, indexer = ax.reindex(labels, level=level, limit=limit,\n\u001b[0;32m-> 4369\u001b[0;31m                                             tolerance=tolerance, method=method)\n\u001b[0m\u001b[1;32m   4370\u001b[0m \u001b[0;34m\u001b[0m\u001b[0m\n\u001b[1;32m   4371\u001b[0m             \u001b[0maxis\u001b[0m \u001b[0;34m=\u001b[0m \u001b[0mself\u001b[0m\u001b[0;34m.\u001b[0m\u001b[0m_get_axis_number\u001b[0m\u001b[0;34m(\u001b[0m\u001b[0ma\u001b[0m\u001b[0;34m)\u001b[0m\u001b[0;34m\u001b[0m\u001b[0;34m\u001b[0m\u001b[0m\n",
            "\u001b[0;32m/usr/local/lib/python3.6/dist-packages/pandas/core/indexes/base.py\u001b[0m in \u001b[0;36mreindex\u001b[0;34m(self, target, method, level, limit, tolerance)\u001b[0m\n\u001b[1;32m   3136\u001b[0m                 \u001b[0;32melse\u001b[0m\u001b[0;34m:\u001b[0m\u001b[0;34m\u001b[0m\u001b[0;34m\u001b[0m\u001b[0m\n\u001b[1;32m   3137\u001b[0m                     \u001b[0;32mif\u001b[0m \u001b[0mmethod\u001b[0m \u001b[0;32mis\u001b[0m \u001b[0;32mnot\u001b[0m \u001b[0;32mNone\u001b[0m \u001b[0;32mor\u001b[0m \u001b[0mlimit\u001b[0m \u001b[0;32mis\u001b[0m \u001b[0;32mnot\u001b[0m \u001b[0;32mNone\u001b[0m\u001b[0;34m:\u001b[0m\u001b[0;34m\u001b[0m\u001b[0;34m\u001b[0m\u001b[0m\n\u001b[0;32m-> 3138\u001b[0;31m                         raise ValueError(\"cannot reindex a non-unique index \"\n\u001b[0m\u001b[1;32m   3139\u001b[0m                                          \"with a method or limit\")\n\u001b[1;32m   3140\u001b[0m                     \u001b[0mindexer\u001b[0m\u001b[0;34m,\u001b[0m \u001b[0mmissing\u001b[0m \u001b[0;34m=\u001b[0m \u001b[0mself\u001b[0m\u001b[0;34m.\u001b[0m\u001b[0mget_indexer_non_unique\u001b[0m\u001b[0;34m(\u001b[0m\u001b[0mtarget\u001b[0m\u001b[0;34m)\u001b[0m\u001b[0;34m\u001b[0m\u001b[0;34m\u001b[0m\u001b[0m\n",
            "\u001b[0;31mValueError\u001b[0m: cannot reindex a non-unique index with a method or limit"
          ]
        }
      ]
    },
    {
      "cell_type": "markdown",
      "metadata": {
        "id": "EyJ1scXpFNyH",
        "colab_type": "text"
      },
      "source": [
        "For legitimate gaps, we can also set frequency to business days (\"B\")"
      ]
    },
    {
      "cell_type": "code",
      "metadata": {
        "id": "DIP-GEZxFNyI",
        "colab_type": "code",
        "outputId": "d8e19515-be32-4c1a-ebef-2886196a2548",
        "colab": {
          "base_uri": "https://localhost:8080/",
          "height": 360
        }
      },
      "source": [
        "y = y.asfreq(\"B\")\n",
        "y.index"
      ],
      "execution_count": 0,
      "outputs": [
        {
          "output_type": "error",
          "ename": "ValueError",
          "evalue": "ignored",
          "traceback": [
            "\u001b[0;31m---------------------------------------------------------------------------\u001b[0m",
            "\u001b[0;31mValueError\u001b[0m                                Traceback (most recent call last)",
            "\u001b[0;32m<ipython-input-17-ab4f4aec4d54>\u001b[0m in \u001b[0;36m<module>\u001b[0;34m()\u001b[0m\n\u001b[0;32m----> 1\u001b[0;31m \u001b[0my\u001b[0m \u001b[0;34m=\u001b[0m \u001b[0my\u001b[0m\u001b[0;34m.\u001b[0m\u001b[0masfreq\u001b[0m\u001b[0;34m(\u001b[0m\u001b[0;34m\"B\"\u001b[0m\u001b[0;34m)\u001b[0m\u001b[0;34m\u001b[0m\u001b[0;34m\u001b[0m\u001b[0m\n\u001b[0m\u001b[1;32m      2\u001b[0m \u001b[0my\u001b[0m\u001b[0;34m.\u001b[0m\u001b[0mindex\u001b[0m\u001b[0;34m\u001b[0m\u001b[0;34m\u001b[0m\u001b[0m\n",
            "\u001b[0;32m/usr/local/lib/python3.6/dist-packages/pandas/core/generic.py\u001b[0m in \u001b[0;36masfreq\u001b[0;34m(self, freq, method, how, normalize, fill_value)\u001b[0m\n\u001b[1;32m   7729\u001b[0m         \u001b[0;32mfrom\u001b[0m \u001b[0mpandas\u001b[0m\u001b[0;34m.\u001b[0m\u001b[0mcore\u001b[0m\u001b[0;34m.\u001b[0m\u001b[0mresample\u001b[0m \u001b[0;32mimport\u001b[0m \u001b[0masfreq\u001b[0m\u001b[0;34m\u001b[0m\u001b[0;34m\u001b[0m\u001b[0m\n\u001b[1;32m   7730\u001b[0m         return asfreq(self, freq, method=method, how=how, normalize=normalize,\n\u001b[0;32m-> 7731\u001b[0;31m                       fill_value=fill_value)\n\u001b[0m\u001b[1;32m   7732\u001b[0m \u001b[0;34m\u001b[0m\u001b[0m\n\u001b[1;32m   7733\u001b[0m     \u001b[0;32mdef\u001b[0m \u001b[0mat_time\u001b[0m\u001b[0;34m(\u001b[0m\u001b[0mself\u001b[0m\u001b[0;34m,\u001b[0m \u001b[0mtime\u001b[0m\u001b[0;34m,\u001b[0m \u001b[0masof\u001b[0m\u001b[0;34m=\u001b[0m\u001b[0;32mFalse\u001b[0m\u001b[0;34m,\u001b[0m \u001b[0maxis\u001b[0m\u001b[0;34m=\u001b[0m\u001b[0;32mNone\u001b[0m\u001b[0;34m)\u001b[0m\u001b[0;34m:\u001b[0m\u001b[0;34m\u001b[0m\u001b[0;34m\u001b[0m\u001b[0m\n",
            "\u001b[0;32m/usr/local/lib/python3.6/dist-packages/pandas/core/resample.py\u001b[0m in \u001b[0;36masfreq\u001b[0;34m(obj, freq, method, how, normalize, fill_value)\u001b[0m\n\u001b[1;32m   1760\u001b[0m         \u001b[0mdti\u001b[0m \u001b[0;34m=\u001b[0m \u001b[0mdate_range\u001b[0m\u001b[0;34m(\u001b[0m\u001b[0mobj\u001b[0m\u001b[0;34m.\u001b[0m\u001b[0mindex\u001b[0m\u001b[0;34m[\u001b[0m\u001b[0;36m0\u001b[0m\u001b[0;34m]\u001b[0m\u001b[0;34m,\u001b[0m \u001b[0mobj\u001b[0m\u001b[0;34m.\u001b[0m\u001b[0mindex\u001b[0m\u001b[0;34m[\u001b[0m\u001b[0;34m-\u001b[0m\u001b[0;36m1\u001b[0m\u001b[0;34m]\u001b[0m\u001b[0;34m,\u001b[0m \u001b[0mfreq\u001b[0m\u001b[0;34m=\u001b[0m\u001b[0mfreq\u001b[0m\u001b[0;34m)\u001b[0m\u001b[0;34m\u001b[0m\u001b[0;34m\u001b[0m\u001b[0m\n\u001b[1;32m   1761\u001b[0m         \u001b[0mdti\u001b[0m\u001b[0;34m.\u001b[0m\u001b[0mname\u001b[0m \u001b[0;34m=\u001b[0m \u001b[0mobj\u001b[0m\u001b[0;34m.\u001b[0m\u001b[0mindex\u001b[0m\u001b[0;34m.\u001b[0m\u001b[0mname\u001b[0m\u001b[0;34m\u001b[0m\u001b[0;34m\u001b[0m\u001b[0m\n\u001b[0;32m-> 1762\u001b[0;31m         \u001b[0mnew_obj\u001b[0m \u001b[0;34m=\u001b[0m \u001b[0mobj\u001b[0m\u001b[0;34m.\u001b[0m\u001b[0mreindex\u001b[0m\u001b[0;34m(\u001b[0m\u001b[0mdti\u001b[0m\u001b[0;34m,\u001b[0m \u001b[0mmethod\u001b[0m\u001b[0;34m=\u001b[0m\u001b[0mmethod\u001b[0m\u001b[0;34m,\u001b[0m \u001b[0mfill_value\u001b[0m\u001b[0;34m=\u001b[0m\u001b[0mfill_value\u001b[0m\u001b[0;34m)\u001b[0m\u001b[0;34m\u001b[0m\u001b[0;34m\u001b[0m\u001b[0m\n\u001b[0m\u001b[1;32m   1763\u001b[0m         \u001b[0;32mif\u001b[0m \u001b[0mnormalize\u001b[0m\u001b[0;34m:\u001b[0m\u001b[0;34m\u001b[0m\u001b[0;34m\u001b[0m\u001b[0m\n\u001b[1;32m   1764\u001b[0m             \u001b[0mnew_obj\u001b[0m\u001b[0;34m.\u001b[0m\u001b[0mindex\u001b[0m \u001b[0;34m=\u001b[0m \u001b[0mnew_obj\u001b[0m\u001b[0;34m.\u001b[0m\u001b[0mindex\u001b[0m\u001b[0;34m.\u001b[0m\u001b[0mnormalize\u001b[0m\u001b[0;34m(\u001b[0m\u001b[0;34m)\u001b[0m\u001b[0;34m\u001b[0m\u001b[0;34m\u001b[0m\u001b[0m\n",
            "\u001b[0;32m/usr/local/lib/python3.6/dist-packages/pandas/core/series.py\u001b[0m in \u001b[0;36mreindex\u001b[0;34m(self, index, **kwargs)\u001b[0m\n\u001b[1;32m   3736\u001b[0m     \u001b[0;34m@\u001b[0m\u001b[0mAppender\u001b[0m\u001b[0;34m(\u001b[0m\u001b[0mgeneric\u001b[0m\u001b[0;34m.\u001b[0m\u001b[0mNDFrame\u001b[0m\u001b[0;34m.\u001b[0m\u001b[0mreindex\u001b[0m\u001b[0;34m.\u001b[0m\u001b[0m__doc__\u001b[0m\u001b[0;34m)\u001b[0m\u001b[0;34m\u001b[0m\u001b[0;34m\u001b[0m\u001b[0m\n\u001b[1;32m   3737\u001b[0m     \u001b[0;32mdef\u001b[0m \u001b[0mreindex\u001b[0m\u001b[0;34m(\u001b[0m\u001b[0mself\u001b[0m\u001b[0;34m,\u001b[0m \u001b[0mindex\u001b[0m\u001b[0;34m=\u001b[0m\u001b[0;32mNone\u001b[0m\u001b[0;34m,\u001b[0m \u001b[0;34m**\u001b[0m\u001b[0mkwargs\u001b[0m\u001b[0;34m)\u001b[0m\u001b[0;34m:\u001b[0m\u001b[0;34m\u001b[0m\u001b[0;34m\u001b[0m\u001b[0m\n\u001b[0;32m-> 3738\u001b[0;31m         \u001b[0;32mreturn\u001b[0m \u001b[0msuper\u001b[0m\u001b[0;34m(\u001b[0m\u001b[0mSeries\u001b[0m\u001b[0;34m,\u001b[0m \u001b[0mself\u001b[0m\u001b[0;34m)\u001b[0m\u001b[0;34m.\u001b[0m\u001b[0mreindex\u001b[0m\u001b[0;34m(\u001b[0m\u001b[0mindex\u001b[0m\u001b[0;34m=\u001b[0m\u001b[0mindex\u001b[0m\u001b[0;34m,\u001b[0m \u001b[0;34m**\u001b[0m\u001b[0mkwargs\u001b[0m\u001b[0;34m)\u001b[0m\u001b[0;34m\u001b[0m\u001b[0;34m\u001b[0m\u001b[0m\n\u001b[0m\u001b[1;32m   3739\u001b[0m \u001b[0;34m\u001b[0m\u001b[0m\n\u001b[1;32m   3740\u001b[0m     def drop(self, labels=None, axis=0, index=None, columns=None,\n",
            "\u001b[0;32m/usr/local/lib/python3.6/dist-packages/pandas/core/generic.py\u001b[0m in \u001b[0;36mreindex\u001b[0;34m(self, *args, **kwargs)\u001b[0m\n\u001b[1;32m   4354\u001b[0m         \u001b[0;31m# perform the reindex on the axes\u001b[0m\u001b[0;34m\u001b[0m\u001b[0;34m\u001b[0m\u001b[0;34m\u001b[0m\u001b[0m\n\u001b[1;32m   4355\u001b[0m         return self._reindex_axes(axes, level, limit, tolerance, method,\n\u001b[0;32m-> 4356\u001b[0;31m                                   fill_value, copy).__finalize__(self)\n\u001b[0m\u001b[1;32m   4357\u001b[0m \u001b[0;34m\u001b[0m\u001b[0m\n\u001b[1;32m   4358\u001b[0m     def _reindex_axes(self, axes, level, limit, tolerance, method, fill_value,\n",
            "\u001b[0;32m/usr/local/lib/python3.6/dist-packages/pandas/core/generic.py\u001b[0m in \u001b[0;36m_reindex_axes\u001b[0;34m(self, axes, level, limit, tolerance, method, fill_value, copy)\u001b[0m\n\u001b[1;32m   4372\u001b[0m             obj = obj._reindex_with_indexers({axis: [new_index, indexer]},\n\u001b[1;32m   4373\u001b[0m                                              \u001b[0mfill_value\u001b[0m\u001b[0;34m=\u001b[0m\u001b[0mfill_value\u001b[0m\u001b[0;34m,\u001b[0m\u001b[0;34m\u001b[0m\u001b[0;34m\u001b[0m\u001b[0m\n\u001b[0;32m-> 4374\u001b[0;31m                                              copy=copy, allow_dups=False)\n\u001b[0m\u001b[1;32m   4375\u001b[0m \u001b[0;34m\u001b[0m\u001b[0m\n\u001b[1;32m   4376\u001b[0m         \u001b[0;32mreturn\u001b[0m \u001b[0mobj\u001b[0m\u001b[0;34m\u001b[0m\u001b[0;34m\u001b[0m\u001b[0m\n",
            "\u001b[0;32m/usr/local/lib/python3.6/dist-packages/pandas/core/generic.py\u001b[0m in \u001b[0;36m_reindex_with_indexers\u001b[0;34m(self, reindexers, fill_value, copy, allow_dups)\u001b[0m\n\u001b[1;32m   4488\u001b[0m                                                 \u001b[0mfill_value\u001b[0m\u001b[0;34m=\u001b[0m\u001b[0mfill_value\u001b[0m\u001b[0;34m,\u001b[0m\u001b[0;34m\u001b[0m\u001b[0;34m\u001b[0m\u001b[0m\n\u001b[1;32m   4489\u001b[0m                                                 \u001b[0mallow_dups\u001b[0m\u001b[0;34m=\u001b[0m\u001b[0mallow_dups\u001b[0m\u001b[0;34m,\u001b[0m\u001b[0;34m\u001b[0m\u001b[0;34m\u001b[0m\u001b[0m\n\u001b[0;32m-> 4490\u001b[0;31m                                                 copy=copy)\n\u001b[0m\u001b[1;32m   4491\u001b[0m \u001b[0;34m\u001b[0m\u001b[0m\n\u001b[1;32m   4492\u001b[0m         \u001b[0;32mif\u001b[0m \u001b[0mcopy\u001b[0m \u001b[0;32mand\u001b[0m \u001b[0mnew_data\u001b[0m \u001b[0;32mis\u001b[0m \u001b[0mself\u001b[0m\u001b[0;34m.\u001b[0m\u001b[0m_data\u001b[0m\u001b[0;34m:\u001b[0m\u001b[0;34m\u001b[0m\u001b[0;34m\u001b[0m\u001b[0m\n",
            "\u001b[0;32m/usr/local/lib/python3.6/dist-packages/pandas/core/internals/managers.py\u001b[0m in \u001b[0;36mreindex_indexer\u001b[0;34m(self, new_axis, indexer, axis, fill_value, allow_dups, copy)\u001b[0m\n\u001b[1;32m   1222\u001b[0m         \u001b[0;31m# some axes don't allow reindexing with dups\u001b[0m\u001b[0;34m\u001b[0m\u001b[0;34m\u001b[0m\u001b[0;34m\u001b[0m\u001b[0m\n\u001b[1;32m   1223\u001b[0m         \u001b[0;32mif\u001b[0m \u001b[0;32mnot\u001b[0m \u001b[0mallow_dups\u001b[0m\u001b[0;34m:\u001b[0m\u001b[0;34m\u001b[0m\u001b[0;34m\u001b[0m\u001b[0m\n\u001b[0;32m-> 1224\u001b[0;31m             \u001b[0mself\u001b[0m\u001b[0;34m.\u001b[0m\u001b[0maxes\u001b[0m\u001b[0;34m[\u001b[0m\u001b[0maxis\u001b[0m\u001b[0;34m]\u001b[0m\u001b[0;34m.\u001b[0m\u001b[0m_can_reindex\u001b[0m\u001b[0;34m(\u001b[0m\u001b[0mindexer\u001b[0m\u001b[0;34m)\u001b[0m\u001b[0;34m\u001b[0m\u001b[0;34m\u001b[0m\u001b[0m\n\u001b[0m\u001b[1;32m   1225\u001b[0m \u001b[0;34m\u001b[0m\u001b[0m\n\u001b[1;32m   1226\u001b[0m         \u001b[0;32mif\u001b[0m \u001b[0maxis\u001b[0m \u001b[0;34m>=\u001b[0m \u001b[0mself\u001b[0m\u001b[0;34m.\u001b[0m\u001b[0mndim\u001b[0m\u001b[0;34m:\u001b[0m\u001b[0;34m\u001b[0m\u001b[0;34m\u001b[0m\u001b[0m\n",
            "\u001b[0;32m/usr/local/lib/python3.6/dist-packages/pandas/core/indexes/base.py\u001b[0m in \u001b[0;36m_can_reindex\u001b[0;34m(self, indexer)\u001b[0m\n\u001b[1;32m   3085\u001b[0m         \u001b[0;31m# trying to reindex on an axis with duplicates\u001b[0m\u001b[0;34m\u001b[0m\u001b[0;34m\u001b[0m\u001b[0;34m\u001b[0m\u001b[0m\n\u001b[1;32m   3086\u001b[0m         \u001b[0;32mif\u001b[0m \u001b[0;32mnot\u001b[0m \u001b[0mself\u001b[0m\u001b[0;34m.\u001b[0m\u001b[0mis_unique\u001b[0m \u001b[0;32mand\u001b[0m \u001b[0mlen\u001b[0m\u001b[0;34m(\u001b[0m\u001b[0mindexer\u001b[0m\u001b[0;34m)\u001b[0m\u001b[0;34m:\u001b[0m\u001b[0;34m\u001b[0m\u001b[0;34m\u001b[0m\u001b[0m\n\u001b[0;32m-> 3087\u001b[0;31m             \u001b[0;32mraise\u001b[0m \u001b[0mValueError\u001b[0m\u001b[0;34m(\u001b[0m\u001b[0;34m\"cannot reindex from a duplicate axis\"\u001b[0m\u001b[0;34m)\u001b[0m\u001b[0;34m\u001b[0m\u001b[0;34m\u001b[0m\u001b[0m\n\u001b[0m\u001b[1;32m   3088\u001b[0m \u001b[0;34m\u001b[0m\u001b[0m\n\u001b[1;32m   3089\u001b[0m     def reindex(self, target, method=None, level=None, limit=None,\n",
            "\u001b[0;31mValueError\u001b[0m: cannot reindex from a duplicate axis"
          ]
        }
      ]
    },
    {
      "cell_type": "markdown",
      "metadata": {
        "id": "Sdh69tjaFNyK",
        "colab_type": "text"
      },
      "source": [
        "Calculate quarterly high, low etc. "
      ]
    },
    {
      "cell_type": "code",
      "metadata": {
        "id": "SHhxZGGOFNyL",
        "colab_type": "code",
        "outputId": "b90d5e50-c598-4fd7-8256-8993bd947150",
        "colab": {
          "base_uri": "https://localhost:8080/",
          "height": 348
        }
      },
      "source": [
        "pd.DataFrame(dict(low=y.resample(\"Q\").min(), \n",
        "                  high=y.resample(\"Q\").max(), \n",
        "                  first = y.resample(\"Q\").first(), \n",
        "                  last = y.resample(\"Q\").last(),\n",
        "                  median = y.resample(\"Q\").median(),\n",
        "                  mean = y.resample(\"Q\").mean()\n",
        "                 ))"
      ],
      "execution_count": 0,
      "outputs": [
        {
          "output_type": "execute_result",
          "data": {
            "text/html": [
              "<div>\n",
              "<style scoped>\n",
              "    .dataframe tbody tr th:only-of-type {\n",
              "        vertical-align: middle;\n",
              "    }\n",
              "\n",
              "    .dataframe tbody tr th {\n",
              "        vertical-align: top;\n",
              "    }\n",
              "\n",
              "    .dataframe thead th {\n",
              "        text-align: right;\n",
              "    }\n",
              "</style>\n",
              "<table border=\"1\" class=\"dataframe\">\n",
              "  <thead>\n",
              "    <tr style=\"text-align: right;\">\n",
              "      <th></th>\n",
              "      <th>low</th>\n",
              "      <th>high</th>\n",
              "      <th>first</th>\n",
              "      <th>last</th>\n",
              "      <th>median</th>\n",
              "      <th>mean</th>\n",
              "    </tr>\n",
              "    <tr>\n",
              "      <th>Date</th>\n",
              "      <th></th>\n",
              "      <th></th>\n",
              "      <th></th>\n",
              "      <th></th>\n",
              "      <th></th>\n",
              "      <th></th>\n",
              "    </tr>\n",
              "  </thead>\n",
              "  <tbody>\n",
              "    <tr>\n",
              "      <th>2017-09-30</th>\n",
              "      <td>7.798092</td>\n",
              "      <td>7.835500</td>\n",
              "      <td>7.835500</td>\n",
              "      <td>7.798092</td>\n",
              "      <td>7.819415</td>\n",
              "      <td>7.818055</td>\n",
              "    </tr>\n",
              "    <tr>\n",
              "      <th>2017-12-31</th>\n",
              "      <td>7.795482</td>\n",
              "      <td>7.922605</td>\n",
              "      <td>7.803210</td>\n",
              "      <td>7.901451</td>\n",
              "      <td>7.871711</td>\n",
              "      <td>7.868971</td>\n",
              "    </tr>\n",
              "    <tr>\n",
              "      <th>2018-03-31</th>\n",
              "      <td>7.875195</td>\n",
              "      <td>8.070547</td>\n",
              "      <td>7.880653</td>\n",
              "      <td>7.954776</td>\n",
              "      <td>7.985789</td>\n",
              "      <td>7.983002</td>\n",
              "    </tr>\n",
              "    <tr>\n",
              "      <th>2018-06-30</th>\n",
              "      <td>7.451009</td>\n",
              "      <td>8.189716</td>\n",
              "      <td>7.975788</td>\n",
              "      <td>7.521724</td>\n",
              "      <td>8.057124</td>\n",
              "      <td>7.897523</td>\n",
              "    </tr>\n",
              "    <tr>\n",
              "      <th>2018-09-30</th>\n",
              "      <td>7.523670</td>\n",
              "      <td>7.695508</td>\n",
              "      <td>7.523670</td>\n",
              "      <td>7.688776</td>\n",
              "      <td>7.602676</td>\n",
              "      <td>7.607829</td>\n",
              "    </tr>\n",
              "    <tr>\n",
              "      <th>2018-12-31</th>\n",
              "      <td>7.495042</td>\n",
              "      <td>7.721149</td>\n",
              "      <td>7.721149</td>\n",
              "      <td>7.545945</td>\n",
              "      <td>7.567837</td>\n",
              "      <td>7.572861</td>\n",
              "    </tr>\n",
              "    <tr>\n",
              "      <th>2019-03-31</th>\n",
              "      <td>7.502876</td>\n",
              "      <td>7.641516</td>\n",
              "      <td>7.551082</td>\n",
              "      <td>7.601727</td>\n",
              "      <td>7.594016</td>\n",
              "      <td>7.586639</td>\n",
              "    </tr>\n",
              "    <tr>\n",
              "      <th>2019-06-30</th>\n",
              "      <td>7.608126</td>\n",
              "      <td>7.731031</td>\n",
              "      <td>7.616604</td>\n",
              "      <td>7.708500</td>\n",
              "      <td>7.674339</td>\n",
              "      <td>7.675082</td>\n",
              "    </tr>\n",
              "    <tr>\n",
              "      <th>2019-09-30</th>\n",
              "      <td>7.633345</td>\n",
              "      <td>7.722279</td>\n",
              "      <td>7.714030</td>\n",
              "      <td>7.679251</td>\n",
              "      <td>7.679760</td>\n",
              "      <td>7.680289</td>\n",
              "    </tr>\n",
              "  </tbody>\n",
              "</table>\n",
              "</div>"
            ],
            "text/plain": [
              "                 low      high     first      last    median      mean\n",
              "Date                                                                  \n",
              "2017-09-30  7.798092  7.835500  7.835500  7.798092  7.819415  7.818055\n",
              "2017-12-31  7.795482  7.922605  7.803210  7.901451  7.871711  7.868971\n",
              "2018-03-31  7.875195  8.070547  7.880653  7.954776  7.985789  7.983002\n",
              "2018-06-30  7.451009  8.189716  7.975788  7.521724  8.057124  7.897523\n",
              "2018-09-30  7.523670  7.695508  7.523670  7.688776  7.602676  7.607829\n",
              "2018-12-31  7.495042  7.721149  7.721149  7.545945  7.567837  7.572861\n",
              "2019-03-31  7.502876  7.641516  7.551082  7.601727  7.594016  7.586639\n",
              "2019-06-30  7.608126  7.731031  7.616604  7.708500  7.674339  7.675082\n",
              "2019-09-30  7.633345  7.722279  7.714030  7.679251  7.679760  7.680289"
            ]
          },
          "metadata": {
            "tags": []
          },
          "execution_count": 18
        }
      ]
    },
    {
      "cell_type": "markdown",
      "metadata": {
        "id": "7uA0UcnWFNyN",
        "colab_type": "text"
      },
      "source": [
        "Calculate rolling mean, exponentially weighted mean"
      ]
    },
    {
      "cell_type": "code",
      "metadata": {
        "id": "J-FVkjKaFNyO",
        "colab_type": "code",
        "outputId": "a0a10bc9-25d2-465d-b3a9-d2e6f2677653",
        "colab": {
          "base_uri": "https://localhost:8080/",
          "height": 378
        }
      },
      "source": [
        "period = 3\n",
        "y_rolling = pd.DataFrame(dict(actual = y, \n",
        "                              rolling_mean = y.rolling(period).mean(), \n",
        "                              ewm = y.ewm(span = period).mean()\n",
        "                             ))\n",
        "y_rolling.head(10)"
      ],
      "execution_count": 0,
      "outputs": [
        {
          "output_type": "execute_result",
          "data": {
            "text/html": [
              "<div>\n",
              "<style scoped>\n",
              "    .dataframe tbody tr th:only-of-type {\n",
              "        vertical-align: middle;\n",
              "    }\n",
              "\n",
              "    .dataframe tbody tr th {\n",
              "        vertical-align: top;\n",
              "    }\n",
              "\n",
              "    .dataframe thead th {\n",
              "        text-align: right;\n",
              "    }\n",
              "</style>\n",
              "<table border=\"1\" class=\"dataframe\">\n",
              "  <thead>\n",
              "    <tr style=\"text-align: right;\">\n",
              "      <th></th>\n",
              "      <th>actual</th>\n",
              "      <th>rolling_mean</th>\n",
              "      <th>ewm</th>\n",
              "    </tr>\n",
              "    <tr>\n",
              "      <th>Date</th>\n",
              "      <th></th>\n",
              "      <th></th>\n",
              "      <th></th>\n",
              "    </tr>\n",
              "  </thead>\n",
              "  <tbody>\n",
              "    <tr>\n",
              "      <th>2017-08-21</th>\n",
              "      <td>7.835500</td>\n",
              "      <td>NaN</td>\n",
              "      <td>7.835500</td>\n",
              "    </tr>\n",
              "    <tr>\n",
              "      <th>2017-08-22</th>\n",
              "      <td>7.823066</td>\n",
              "      <td>NaN</td>\n",
              "      <td>7.827210</td>\n",
              "    </tr>\n",
              "    <tr>\n",
              "      <th>2017-08-23</th>\n",
              "      <td>7.819817</td>\n",
              "      <td>7.826128</td>\n",
              "      <td>7.822986</td>\n",
              "    </tr>\n",
              "    <tr>\n",
              "      <th>2017-08-24</th>\n",
              "      <td>7.822685</td>\n",
              "      <td>7.821856</td>\n",
              "      <td>7.822825</td>\n",
              "    </tr>\n",
              "    <tr>\n",
              "      <th>2017-08-28</th>\n",
              "      <td>7.818953</td>\n",
              "      <td>7.820485</td>\n",
              "      <td>7.820827</td>\n",
              "    </tr>\n",
              "    <tr>\n",
              "      <th>2017-08-29</th>\n",
              "      <td>7.812317</td>\n",
              "      <td>7.817985</td>\n",
              "      <td>7.816505</td>\n",
              "    </tr>\n",
              "    <tr>\n",
              "      <th>2017-08-30</th>\n",
              "      <td>7.817847</td>\n",
              "      <td>7.816372</td>\n",
              "      <td>7.817181</td>\n",
              "    </tr>\n",
              "    <tr>\n",
              "      <th>2017-08-31</th>\n",
              "      <td>7.822585</td>\n",
              "      <td>7.817583</td>\n",
              "      <td>7.819894</td>\n",
              "    </tr>\n",
              "    <tr>\n",
              "      <th>2017-09-01</th>\n",
              "      <td>7.806472</td>\n",
              "      <td>7.815635</td>\n",
              "      <td>7.813170</td>\n",
              "    </tr>\n",
              "    <tr>\n",
              "      <th>2017-09-04</th>\n",
              "      <td>7.806371</td>\n",
              "      <td>7.811809</td>\n",
              "      <td>7.809767</td>\n",
              "    </tr>\n",
              "  </tbody>\n",
              "</table>\n",
              "</div>"
            ],
            "text/plain": [
              "              actual  rolling_mean       ewm\n",
              "Date                                        \n",
              "2017-08-21  7.835500           NaN  7.835500\n",
              "2017-08-22  7.823066           NaN  7.827210\n",
              "2017-08-23  7.819817      7.826128  7.822986\n",
              "2017-08-24  7.822685      7.821856  7.822825\n",
              "2017-08-28  7.818953      7.820485  7.820827\n",
              "2017-08-29  7.812317      7.817985  7.816505\n",
              "2017-08-30  7.817847      7.816372  7.817181\n",
              "2017-08-31  7.822585      7.817583  7.819894\n",
              "2017-09-01  7.806472      7.815635  7.813170\n",
              "2017-09-04  7.806371      7.811809  7.809767"
            ]
          },
          "metadata": {
            "tags": []
          },
          "execution_count": 19
        }
      ]
    },
    {
      "cell_type": "code",
      "metadata": {
        "id": "wNgNtXeZFNyQ",
        "colab_type": "code",
        "outputId": "27bdac66-69ea-4a2c-c545-0ff5051eaa6c",
        "colab": {
          "base_uri": "https://localhost:8080/",
          "height": 54
        }
      },
      "source": [
        "rolling_dropped = y_rolling.dropna()\n",
        "print(\"rmse over rolling mean: \", metrics.mean_squared_error(rolling_dropped.actual, rolling_dropped.rolling_mean) ** 0.5)\n",
        "print(\"rmse over ewma: \", metrics.mean_squared_error(rolling_dropped.actual, rolling_dropped[\"ewm\"]) ** 0.5)"
      ],
      "execution_count": 0,
      "outputs": [
        {
          "output_type": "stream",
          "text": [
            "rmse over rolling mean:  0.026011645671137767\n",
            "rmse over ewma:  0.020170973630761466\n"
          ],
          "name": "stdout"
        }
      ]
    },
    {
      "cell_type": "markdown",
      "metadata": {
        "id": "x9BHLul-FNyT",
        "colab_type": "text"
      },
      "source": [
        "By visual inspection, we see the time series is not stationary. Let we will see a more formal way of testing using Dickey Fullter Test. "
      ]
    },
    {
      "cell_type": "code",
      "metadata": {
        "id": "1up7X-ndFNyT",
        "colab_type": "code",
        "outputId": "e8d7eabd-3855-49e0-f5b0-6e59ca6befe0",
        "colab": {
          "base_uri": "https://localhost:8080/",
          "height": 425
        }
      },
      "source": [
        "y_rolling.plot()"
      ],
      "execution_count": 0,
      "outputs": [
        {
          "output_type": "execute_result",
          "data": {
            "text/plain": [
              "<matplotlib.axes._subplots.AxesSubplot at 0x7f7fb2ad5320>"
            ]
          },
          "metadata": {
            "tags": []
          },
          "execution_count": 32
        },
        {
          "output_type": "display_data",
          "data": {
            "image/png": "[encoded data removed]",
            "text/plain": [
              "<Figure size 864x432 with 1 Axes>"
            ]
          },
          "metadata": {
            "tags": []
          }
        }
      ]
    },
    {
      "cell_type": "markdown",
      "metadata": {
        "id": "iI4rMCkEFNyX",
        "colab_type": "text"
      },
      "source": [
        "Formal of way of test for stationarity. Since the p-value of Augmented Dickey Fullter test is > 0.05, we can say that there is not sufficient proof that the time series is stationary. Loosely speaking, it is non-stationary. We need further transformation to make data stationary. Populary method for making data stationary will be to take \"difference\". Taking difference by lag one, we see the p-val for Dickey Fuller test is < 0.05. So we conclude, diff 1 has made the data stationary. "
      ]
    },
    {
      "cell_type": "code",
      "metadata": {
        "id": "q1KcEBdPFNyb",
        "colab_type": "code",
        "outputId": "d4e498d2-ad07-4559-e420-6644b955f0de",
        "colab": {
          "base_uri": "https://localhost:8080/",
          "height": 54
        }
      },
      "source": [
        "from statsmodels.tsa.stattools import adfuller\n",
        "from numpy import log\n",
        "result = adfuller(y.dropna())\n",
        "print('ADF Statistic: %f' % result[0])\n",
        "print('p-value: %f' % result[1])"
      ],
      "execution_count": 0,
      "outputs": [
        {
          "output_type": "stream",
          "text": [
            "ADF Statistic: -2.089879\n",
            "p-value: 0.248604\n"
          ],
          "name": "stdout"
        }
      ]
    },
    {
      "cell_type": "code",
      "metadata": {
        "id": "SkBIWQfWFNyf",
        "colab_type": "code",
        "outputId": "fef5e07d-b209-49d3-b93c-56c9db3adccb",
        "colab": {
          "base_uri": "https://localhost:8080/",
          "height": 378
        }
      },
      "source": [
        "diff = pd.DataFrame({\"actual\": y, \"diff1\": y.diff(3)}).head(10)\n",
        "diff[\"diff2\"] = diff.diff1.diff(1)\n",
        "diff"
      ],
      "execution_count": 0,
      "outputs": [
        {
          "output_type": "execute_result",
          "data": {
            "text/html": [
              "<div>\n",
              "<style scoped>\n",
              "    .dataframe tbody tr th:only-of-type {\n",
              "        vertical-align: middle;\n",
              "    }\n",
              "\n",
              "    .dataframe tbody tr th {\n",
              "        vertical-align: top;\n",
              "    }\n",
              "\n",
              "    .dataframe thead th {\n",
              "        text-align: right;\n",
              "    }\n",
              "</style>\n",
              "<table border=\"1\" class=\"dataframe\">\n",
              "  <thead>\n",
              "    <tr style=\"text-align: right;\">\n",
              "      <th></th>\n",
              "      <th>actual</th>\n",
              "      <th>diff1</th>\n",
              "      <th>diff2</th>\n",
              "    </tr>\n",
              "    <tr>\n",
              "      <th>Date</th>\n",
              "      <th></th>\n",
              "      <th></th>\n",
              "      <th></th>\n",
              "    </tr>\n",
              "  </thead>\n",
              "  <tbody>\n",
              "    <tr>\n",
              "      <th>2017-08-21</th>\n",
              "      <td>7.835500</td>\n",
              "      <td>NaN</td>\n",
              "      <td>NaN</td>\n",
              "    </tr>\n",
              "    <tr>\n",
              "      <th>2017-08-22</th>\n",
              "      <td>7.823066</td>\n",
              "      <td>NaN</td>\n",
              "      <td>NaN</td>\n",
              "    </tr>\n",
              "    <tr>\n",
              "      <th>2017-08-23</th>\n",
              "      <td>7.819817</td>\n",
              "      <td>NaN</td>\n",
              "      <td>NaN</td>\n",
              "    </tr>\n",
              "    <tr>\n",
              "      <th>2017-08-24</th>\n",
              "      <td>7.822685</td>\n",
              "      <td>-0.012815</td>\n",
              "      <td>NaN</td>\n",
              "    </tr>\n",
              "    <tr>\n",
              "      <th>2017-08-28</th>\n",
              "      <td>7.818953</td>\n",
              "      <td>-0.004112</td>\n",
              "      <td>0.008703</td>\n",
              "    </tr>\n",
              "    <tr>\n",
              "      <th>2017-08-29</th>\n",
              "      <td>7.812317</td>\n",
              "      <td>-0.007500</td>\n",
              "      <td>-0.003387</td>\n",
              "    </tr>\n",
              "    <tr>\n",
              "      <th>2017-08-30</th>\n",
              "      <td>7.817847</td>\n",
              "      <td>-0.004838</td>\n",
              "      <td>0.002661</td>\n",
              "    </tr>\n",
              "    <tr>\n",
              "      <th>2017-08-31</th>\n",
              "      <td>7.822585</td>\n",
              "      <td>0.003632</td>\n",
              "      <td>0.008470</td>\n",
              "    </tr>\n",
              "    <tr>\n",
              "      <th>2017-09-01</th>\n",
              "      <td>7.806472</td>\n",
              "      <td>-0.005845</td>\n",
              "      <td>-0.009477</td>\n",
              "    </tr>\n",
              "    <tr>\n",
              "      <th>2017-09-04</th>\n",
              "      <td>7.806371</td>\n",
              "      <td>-0.011476</td>\n",
              "      <td>-0.005631</td>\n",
              "    </tr>\n",
              "  </tbody>\n",
              "</table>\n",
              "</div>"
            ],
            "text/plain": [
              "              actual     diff1     diff2\n",
              "Date                                    \n",
              "2017-08-21  7.835500       NaN       NaN\n",
              "2017-08-22  7.823066       NaN       NaN\n",
              "2017-08-23  7.819817       NaN       NaN\n",
              "2017-08-24  7.822685 -0.012815       NaN\n",
              "2017-08-28  7.818953 -0.004112  0.008703\n",
              "2017-08-29  7.812317 -0.007500 -0.003387\n",
              "2017-08-30  7.817847 -0.004838  0.002661\n",
              "2017-08-31  7.822585  0.003632  0.008470\n",
              "2017-09-01  7.806472 -0.005845 -0.009477\n",
              "2017-09-04  7.806371 -0.011476 -0.005631"
            ]
          },
          "metadata": {
            "tags": []
          },
          "execution_count": 22
        }
      ]
    },
    {
      "cell_type": "code",
      "metadata": {
        "id": "5IspviqeFNyi",
        "colab_type": "code",
        "outputId": "2508d690-612e-4d36-b550-bee053d16728",
        "colab": {
          "base_uri": "https://localhost:8080/",
          "height": 54
        }
      },
      "source": [
        "result = adfuller(y.diff(periods=1).dropna())\n",
        "print('ADF Statistic: %f' % result[0])\n",
        "print('p-value: %f' % result[1])"
      ],
      "execution_count": 0,
      "outputs": [
        {
          "output_type": "stream",
          "text": [
            "ADF Statistic: -22.010132\n",
            "p-value: 0.000000\n"
          ],
          "name": "stdout"
        }
      ]
    },
    {
      "cell_type": "code",
      "metadata": {
        "id": "LMlKiRP0FNyk",
        "colab_type": "code",
        "outputId": "7f1222ab-6137-4f6f-a3a0-12e2b614a25b",
        "colab": {}
      },
      "source": [
        "y.diff(periods=1).plot()"
      ],
      "execution_count": 0,
      "outputs": [
        {
          "output_type": "execute_result",
          "data": {
            "text/plain": [
              "<matplotlib.axes._subplots.AxesSubplot at 0x1a263b75c0>"
            ]
          },
          "metadata": {
            "tags": []
          },
          "execution_count": 23
        },
        {
          "output_type": "display_data",
          "data": {
            "image/png": "[encoded data removed]",
            "text/plain": [
              "<Figure size 864x432 with 1 Axes>"
            ]
          },
          "metadata": {
            "tags": [],
            "needs_background": "light"
          }
        }
      ]
    },
    {
      "cell_type": "markdown",
      "metadata": {
        "id": "HOW_ypcEFNym",
        "colab_type": "text"
      },
      "source": [
        "Use pandas's auto correlation plot. Here is a nice explanation of the [autocorrelation plot](https://stats.stackexchange.com/questions/357300/what-does-pandas-autocorrelation-graph-show) "
      ]
    },
    {
      "cell_type": "code",
      "metadata": {
        "id": "1At-iSo6FNyn",
        "colab_type": "code",
        "outputId": "ebbe5249-9f23-4226-def8-60bf32508d0d",
        "colab": {
          "base_uri": "https://localhost:8080/",
          "height": 434
        }
      },
      "source": [
        "from pandas.plotting import autocorrelation_plot\n",
        "autocorrelation_plot(y)"
      ],
      "execution_count": 0,
      "outputs": [
        {
          "output_type": "execute_result",
          "data": {
            "text/plain": [
              "<matplotlib.axes._subplots.AxesSubplot at 0x7f0679175358>"
            ]
          },
          "metadata": {
            "tags": []
          },
          "execution_count": 24
        },
        {
          "output_type": "display_data",
          "data": {
            "image/png": "[encoded data removed]",
            "text/plain": [
              "<Figure size 864x432 with 1 Axes>"
            ]
          },
          "metadata": {
            "tags": []
          }
        }
      ]
    },
    {
      "cell_type": "code",
      "metadata": {
        "id": "e9-l4Yr4FNyp",
        "colab_type": "code",
        "colab": {}
      },
      "source": [
        "y = y.dropna()"
      ],
      "execution_count": 0,
      "outputs": []
    },
    {
      "cell_type": "code",
      "metadata": {
        "id": "8DH9KLwIFNyq",
        "colab_type": "code",
        "outputId": "0055425d-fddb-4c0b-e736-e45f0fa6fce3",
        "colab": {
          "base_uri": "https://localhost:8080/",
          "height": 1000
        }
      },
      "source": [
        "from statsmodels.tsa.arima_model import ARIMA\n",
        "\n",
        "# fit model\n",
        "model = ARIMA(y, order=(5,1,0)) # p, d, q\n",
        "model_fit = model.fit(disp=0)\n",
        "#print(model_fit.summary())\n",
        "\n",
        "# plot residual erros\n",
        "residuals = pd.DataFrame(model_fit.resid)\n",
        "residuals.plot()\n",
        "residuals.plot(kind='kde')\n",
        "print(residuals.describe())"
      ],
      "execution_count": 0,
      "outputs": [
        {
          "output_type": "stream",
          "text": [
            "/usr/local/lib/python3.6/dist-packages/statsmodels/tsa/base/tsa_model.py:219: ValueWarning: A date index has been provided, but it has no associated frequency information and so will be ignored when e.g. forecasting.\n",
            "  ' ignored when e.g. forecasting.', ValueWarning)\n",
            "/usr/local/lib/python3.6/dist-packages/statsmodels/tsa/base/tsa_model.py:219: ValueWarning: A date index has been provided, but it has no associated frequency information and so will be ignored when e.g. forecasting.\n",
            "  ' ignored when e.g. forecasting.', ValueWarning)\n"
          ],
          "name": "stderr"
        },
        {
          "output_type": "stream",
          "text": [
            "                  0\n",
            "count  4.960000e+02\n",
            "mean  -2.440217e-07\n",
            "std    3.470745e-02\n",
            "min   -6.997434e-01\n",
            "25%   -6.616759e-03\n",
            "50%    1.259251e-03\n",
            "75%    9.290906e-03\n",
            "max    6.459249e-02\n"
          ],
          "name": "stdout"
        },
        {
          "output_type": "display_data",
          "data": {
            "image/png": "[encoded data removed]",
            "text/plain": [
              "<Figure size 864x432 with 1 Axes>"
            ]
          },
          "metadata": {
            "tags": []
          }
        },
        {
          "output_type": "display_data",
          "data": {
            "image/png": "[encoded data removed]",
            "text/plain": [
              "<Figure size 864x432 with 1 Axes>"
            ]
          },
          "metadata": {
            "tags": []
          }
        }
      ]
    },
    {
      "cell_type": "code",
      "metadata": {
        "id": "KLuXGt9TFNys",
        "colab_type": "code",
        "outputId": "2e5b5952-7f1c-410e-904c-f46e2f45023c",
        "colab": {
          "base_uri": "https://localhost:8080/",
          "height": 458
        }
      },
      "source": [
        "model_fit.summary()"
      ],
      "execution_count": 0,
      "outputs": [
        {
          "output_type": "execute_result",
          "data": {
            "text/html": [
              "<table class=\"simpletable\">\n",
              "<caption>ARIMA Model Results</caption>\n",
              "<tr>\n",
              "  <th>Dep. Variable:</th>   <td>D.Close Price</td>  <th>  No. Observations:  </th>    <td>496</td>   \n",
              "</tr>\n",
              "<tr>\n",
              "  <th>Model:</th>          <td>ARIMA(5, 1, 0)</td>  <th>  Log Likelihood     </th>  <td>963.658</td> \n",
              "</tr>\n",
              "<tr>\n",
              "  <th>Method:</th>             <td>css-mle</td>     <th>  S.D. of innovations</th>   <td>0.035</td>  \n",
              "</tr>\n",
              "<tr>\n",
              "  <th>Date:</th>          <td>Tue, 27 Aug 2019</td> <th>  AIC                </th> <td>-1913.316</td>\n",
              "</tr>\n",
              "<tr>\n",
              "  <th>Time:</th>              <td>08:09:13</td>     <th>  BIC                </th> <td>-1883.870</td>\n",
              "</tr>\n",
              "<tr>\n",
              "  <th>Sample:</th>                <td>1</td>        <th>  HQIC               </th> <td>-1901.758</td>\n",
              "</tr>\n",
              "<tr>\n",
              "  <th></th>                       <td> </td>        <th>                     </th>     <td> </td>    \n",
              "</tr>\n",
              "</table>\n",
              "<table class=\"simpletable\">\n",
              "<tr>\n",
              "           <td></td>              <th>coef</th>     <th>std err</th>      <th>z</th>      <th>P>|z|</th>  <th>[0.025</th>    <th>0.975]</th>  \n",
              "</tr>\n",
              "<tr>\n",
              "  <th>const</th>               <td>   -0.0003</td> <td>    0.002</td> <td>   -0.198</td> <td> 0.843</td> <td>   -0.003</td> <td>    0.003</td>\n",
              "</tr>\n",
              "<tr>\n",
              "  <th>ar.L1.D.Close Price</th> <td>    0.0099</td> <td>    0.045</td> <td>    0.221</td> <td> 0.825</td> <td>   -0.078</td> <td>    0.098</td>\n",
              "</tr>\n",
              "<tr>\n",
              "  <th>ar.L2.D.Close Price</th> <td>   -0.0209</td> <td>    0.045</td> <td>   -0.467</td> <td> 0.641</td> <td>   -0.109</td> <td>    0.067</td>\n",
              "</tr>\n",
              "<tr>\n",
              "  <th>ar.L3.D.Close Price</th> <td>    0.0473</td> <td>    0.045</td> <td>    1.058</td> <td> 0.291</td> <td>   -0.040</td> <td>    0.135</td>\n",
              "</tr>\n",
              "<tr>\n",
              "  <th>ar.L4.D.Close Price</th> <td>    0.0117</td> <td>    0.045</td> <td>    0.262</td> <td> 0.793</td> <td>   -0.076</td> <td>    0.099</td>\n",
              "</tr>\n",
              "<tr>\n",
              "  <th>ar.L5.D.Close Price</th> <td>   -0.0298</td> <td>    0.045</td> <td>   -0.668</td> <td> 0.505</td> <td>   -0.117</td> <td>    0.058</td>\n",
              "</tr>\n",
              "</table>\n",
              "<table class=\"simpletable\">\n",
              "<caption>Roots</caption>\n",
              "<tr>\n",
              "    <td></td>   <th>            Real</th>  <th>         Imaginary</th> <th>         Modulus</th>  <th>        Frequency</th>\n",
              "</tr>\n",
              "<tr>\n",
              "  <th>AR.1</th> <td>          -2.1384</td> <td>          -0.0000j</td> <td>           2.1384</td> <td>          -0.5000</td>\n",
              "</tr>\n",
              "<tr>\n",
              "  <th>AR.2</th> <td>          -0.5679</td> <td>          -1.7681j</td> <td>           1.8570</td> <td>          -0.2995</td>\n",
              "</tr>\n",
              "<tr>\n",
              "  <th>AR.3</th> <td>          -0.5679</td> <td>          +1.7681j</td> <td>           1.8570</td> <td>           0.2995</td>\n",
              "</tr>\n",
              "<tr>\n",
              "  <th>AR.4</th> <td>           1.8337</td> <td>          -1.0874j</td> <td>           2.1319</td> <td>          -0.0852</td>\n",
              "</tr>\n",
              "<tr>\n",
              "  <th>AR.5</th> <td>           1.8337</td> <td>          +1.0874j</td> <td>           2.1319</td> <td>           0.0852</td>\n",
              "</tr>\n",
              "</table>"
            ],
            "text/plain": [
              "<class 'statsmodels.iolib.summary.Summary'>\n",
              "\"\"\"\n",
              "                             ARIMA Model Results                              \n",
              "==============================================================================\n",
              "Dep. Variable:          D.Close Price   No. Observations:                  496\n",
              "Model:                 ARIMA(5, 1, 0)   Log Likelihood                 963.658\n",
              "Method:                       css-mle   S.D. of innovations              0.035\n",
              "Date:                Tue, 27 Aug 2019   AIC                          -1913.316\n",
              "Time:                        08:09:13   BIC                          -1883.870\n",
              "Sample:                             1   HQIC                         -1901.758\n",
              "                                                                              \n",
              "=======================================================================================\n",
              "                          coef    std err          z      P>|z|      [0.025      0.975]\n",
              "---------------------------------------------------------------------------------------\n",
              "const                  -0.0003      0.002     -0.198      0.843      -0.003       0.003\n",
              "ar.L1.D.Close Price     0.0099      0.045      0.221      0.825      -0.078       0.098\n",
              "ar.L2.D.Close Price    -0.0209      0.045     -0.467      0.641      -0.109       0.067\n",
              "ar.L3.D.Close Price     0.0473      0.045      1.058      0.291      -0.040       0.135\n",
              "ar.L4.D.Close Price     0.0117      0.045      0.262      0.793      -0.076       0.099\n",
              "ar.L5.D.Close Price    -0.0298      0.045     -0.668      0.505      -0.117       0.058\n",
              "                                    Roots                                    \n",
              "=============================================================================\n",
              "                  Real          Imaginary           Modulus         Frequency\n",
              "-----------------------------------------------------------------------------\n",
              "AR.1           -2.1384           -0.0000j            2.1384           -0.5000\n",
              "AR.2           -0.5679           -1.7681j            1.8570           -0.2995\n",
              "AR.3           -0.5679           +1.7681j            1.8570            0.2995\n",
              "AR.4            1.8337           -1.0874j            2.1319           -0.0852\n",
              "AR.5            1.8337           +1.0874j            2.1319            0.0852\n",
              "-----------------------------------------------------------------------------\n",
              "\"\"\""
            ]
          },
          "metadata": {
            "tags": []
          },
          "execution_count": 26
        }
      ]
    },
    {
      "cell_type": "code",
      "metadata": {
        "id": "lNcjHzdOFNyu",
        "colab_type": "code",
        "outputId": "f6a2cdfb-aa22-40ea-b830-ba15006a201f",
        "colab": {
          "base_uri": "https://localhost:8080/",
          "height": 416
        }
      },
      "source": [
        "model = ARIMA(y.values, order=(5,1,0))\n",
        "model_fit = model.fit(disp=0)\n",
        "predictions, error, conf_interval = model_fit.forecast(150)\n",
        "plt.plot(predictions)\n",
        "plt.fill_between(range(len(predictions)), conf_interval[:,0], conf_interval[:,1], alpha = 0.3)"
      ],
      "execution_count": 0,
      "outputs": [
        {
          "output_type": "execute_result",
          "data": {
            "text/plain": [
              "<matplotlib.collections.PolyCollection at 0x7f0669d7b0b8>"
            ]
          },
          "metadata": {
            "tags": []
          },
          "execution_count": 27
        },
        {
          "output_type": "display_data",
          "data": {
            "image/png": "[encoded data removed]",
            "text/plain": [
              "<Figure size 864x432 with 1 Axes>"
            ]
          },
          "metadata": {
            "tags": []
          }
        }
      ]
    },
    {
      "cell_type": "code",
      "metadata": {
        "id": "IedK1nU3FNyw",
        "colab_type": "code",
        "outputId": "cfb93fe8-f8f0-4af3-9904-4de7e3ac06cf",
        "colab": {
          "base_uri": "https://localhost:8080/",
          "height": 54
        }
      },
      "source": [
        "predictions[:10]"
      ],
      "execution_count": 0,
      "outputs": [
        {
          "output_type": "execute_result",
          "data": {
            "text/plain": [
              "array([7.67932592, 7.67884233, 7.67820371, 7.67842813, 7.67814245,\n",
              "       7.67778862, 7.67750043, 7.67720495, 7.67687305, 7.67655848])"
            ]
          },
          "metadata": {
            "tags": []
          },
          "execution_count": 28
        }
      ]
    },
    {
      "cell_type": "code",
      "metadata": {
        "id": "0DsK25eMFNyy",
        "colab_type": "code",
        "outputId": "fb0225d8-4e88-4c01-b344-82224ccdb723",
        "colab": {
          "base_uri": "https://localhost:8080/",
          "height": 54
        }
      },
      "source": [
        "error[:10]"
      ],
      "execution_count": 0,
      "outputs": [
        {
          "output_type": "execute_result",
          "data": {
            "text/plain": [
              "array([0.03491566, 0.04955365, 0.06032908, 0.07029372, 0.07920573,\n",
              "       0.08670896, 0.09363003, 0.10010547, 0.10615035, 0.11186028])"
            ]
          },
          "metadata": {
            "tags": []
          },
          "execution_count": 42
        }
      ]
    },
    {
      "cell_type": "code",
      "metadata": {
        "scrolled": false,
        "id": "Zv4039KGFNy0",
        "colab_type": "code",
        "outputId": "f6158a21-dae3-4478-cbf4-41c42d2df39f",
        "colab": {
          "base_uri": "https://localhost:8080/",
          "height": 199
        }
      },
      "source": [
        "conf_interval[:10]"
      ],
      "execution_count": 0,
      "outputs": [
        {
          "output_type": "execute_result",
          "data": {
            "text/plain": [
              "array([[7.61093841, 7.7478053 ],\n",
              "       [7.58181229, 7.77605902],\n",
              "       [7.56005655, 7.79654219],\n",
              "       [7.54080732, 7.81635363],\n",
              "       [7.52305594, 7.83353671],\n",
              "       [7.50799018, 7.84788305],\n",
              "       [7.49413737, 7.86116035],\n",
              "       [7.48114964, 7.87355586],\n",
              "       [7.46896407, 7.88506579],\n",
              "       [7.45745615, 7.89594038]])"
            ]
          },
          "metadata": {
            "tags": []
          },
          "execution_count": 43
        }
      ]
    },
    {
      "cell_type": "code",
      "metadata": {
        "id": "viuLIaUsFNy2",
        "colab_type": "code",
        "outputId": "45521c65-0219-4e98-a9db-484545f2edca",
        "colab": {
          "base_uri": "https://localhost:8080/",
          "height": 1000
        }
      },
      "source": [
        "model.endog"
      ],
      "execution_count": 0,
      "outputs": [
        {
          "output_type": "execute_result",
          "data": {
            "text/plain": [
              "array([-1.24346306e-02, -3.24844882e-03,  2.86800369e-03, -3.73202143e-03,\n",
              "       -6.63556381e-03,  5.52933564e-03,  4.73810840e-03, -1.61124468e-02,\n",
              "       -1.01778063e-04,  1.13956157e-02, -1.26177611e-02,  2.80870475e-03,\n",
              "        4.25903660e-03, -6.55833256e-03,  1.37573231e-02,  3.01347023e-04,\n",
              "       -9.04313637e-04,  7.65074831e-03, -2.79714873e-03, -3.20172896e-04,\n",
              "       -1.88308882e-03,  1.24940600e-02, -8.47176191e-03,  2.85181722e-03,\n",
              "       -1.44825414e-02,  8.18975732e-03, -7.46264615e-03, -1.64892589e-02,\n",
              "        5.11834710e-03, -2.51495302e-03, -5.21358352e-03,  6.99310720e-03,\n",
              "        3.04035331e-03,  2.09633016e-03,  1.65742967e-02,  1.89565055e-02,\n",
              "        4.07300634e-03,  1.00331388e-02,  3.91971847e-03, -3.06881918e-03,\n",
              "       -1.04438652e-03,  1.54685053e-03, -3.67768450e-03, -7.20085629e-03,\n",
              "       -8.25697263e-03,  1.77434557e-02,  1.22682050e-02,  2.97698781e-03,\n",
              "       -8.09287255e-03,  8.91189681e-03, -2.30641036e-03,  1.71979303e-02,\n",
              "        1.65566696e-02,  9.16435097e-03,  5.11752031e-04, -1.01559140e-02,\n",
              "        1.83628987e-02, -1.62055597e-02, -3.43180100e-03,  1.51691754e-02,\n",
              "       -1.44301590e-02, -1.42309316e-03, -1.13460037e-02,  2.87657102e-03,\n",
              "        2.23801265e-04,  2.53291998e-03, -8.18772260e-04, -2.04797856e-04,\n",
              "       -1.01620615e-02, -7.98848474e-03, -2.67707277e-03,  9.12148743e-04,\n",
              "        1.21490552e-03, -8.54076368e-04, -6.11366428e-03, -6.03594647e-03,\n",
              "        2.26513694e-02, -1.85659341e-02,  6.20165902e-03, -2.72277820e-02,\n",
              "       -4.78113542e-03,  1.36168000e-02, -2.01714642e-03,  5.28635592e-03,\n",
              "        2.60384165e-03,  1.94762425e-02,  1.01959905e-03, -1.12159222e-02,\n",
              "        2.68732830e-03,  2.78726413e-02, -2.07982360e-02, -5.45786679e-03,\n",
              "        2.82740684e-03,  6.96787977e-03,  1.20084491e-02,  9.32718288e-03,\n",
              "       -1.99137138e-03,  3.53942232e-02, -5.75299509e-03, -5.08367586e-03,\n",
              "       -1.09553921e-02,  3.74354721e-02,  1.32759189e-02,  1.00738735e-02,\n",
              "        1.39857660e-02,  5.17257356e-02, -4.63142472e-03,  2.31345754e-02,\n",
              "       -1.70121565e-02,  2.46218865e-02, -1.44845645e-02, -1.29287378e-02,\n",
              "        8.39877276e-03,  4.78367156e-03, -1.61266750e-02, -3.47386355e-02,\n",
              "       -1.41796304e-02,  6.45952408e-03, -8.40915638e-04, -1.48173120e-03,\n",
              "       -1.88810018e-02,  4.81359010e-03,  2.45780048e-03, -3.22710362e-03,\n",
              "        7.20819023e-03,  3.25898844e-02,  2.59335394e-03,  8.35786778e-03,\n",
              "       -1.44415117e-02,  3.50672481e-03, -2.40234426e-03,  8.72751280e-04,\n",
              "        2.21867798e-02, -2.05092858e-02, -5.05746311e-03, -7.79259174e-03,\n",
              "        9.98675088e-03,  5.93142014e-03, -5.56976381e-02,  3.46398323e-05,\n",
              "       -5.97576736e-03, -1.54513732e-02,  1.87388462e-03,  1.18859866e-02,\n",
              "       -2.83137773e-03, -8.93098533e-03, -4.67298841e-03, -4.08152406e-04,\n",
              "        1.08391620e-02,  5.09053260e-04,  2.10120949e-02,  5.49743181e-04,\n",
              "       -1.20230499e-04,  1.60341491e-02, -2.58960074e-03, -8.98851852e-03,\n",
              "        4.67457987e-03,  2.57249453e-02,  4.06660512e-02,  4.46560563e-03,\n",
              "        1.08344447e-02, -6.62551112e-03, -2.37128018e-03,  1.00941765e-02,\n",
              "        6.41144070e-02,  1.82055812e-03, -6.77040692e-03,  2.46807259e-02,\n",
              "        1.96882028e-02, -2.49755515e-02,  2.29533062e-02, -9.20105754e-03,\n",
              "       -5.12777565e-03, -3.15973920e-04, -1.73294975e-02,  5.90195749e-03,\n",
              "        1.38808953e-02, -1.09646588e-02,  1.65021317e-03, -6.79198605e-03,\n",
              "        1.41269999e-02,  3.29687955e-03, -6.01228241e-04,  2.93114875e-03,\n",
              "        1.54986952e-02, -1.35446085e-02, -3.94061047e-03,  3.05991079e-02,\n",
              "       -4.97949426e-03, -2.36330899e-02,  6.10630247e-03, -2.67136683e-03,\n",
              "       -7.02295067e-01, -4.95178786e-03,  6.78807220e-03, -1.30705729e-02,\n",
              "        2.40764762e-03,  5.66262744e-03,  6.63290445e-03,  1.48707417e-03,\n",
              "        1.77306596e-02,  2.39117104e-02, -2.02407475e-02,  2.89467779e-02,\n",
              "       -6.02337576e-03, -2.46339251e-03, -1.12422721e-03, -1.70245524e-03,\n",
              "       -5.26295251e-03,  5.20798631e-03,  1.78418080e-02,  3.23450417e-03,\n",
              "       -8.26875303e-03,  2.73679532e-03,  1.94642001e-03,  1.21867617e-02,\n",
              "       -4.22437931e-03,  7.55385353e-03,  1.72152146e-02, -1.57803035e-02,\n",
              "       -4.20425834e-03,  5.43843470e-02, -4.32775114e-03,  4.93365876e-03,\n",
              "        4.08030186e-03,  6.48905530e-03, -9.49430413e-04, -9.46850719e-03,\n",
              "        7.64206836e-03,  4.52246383e-03, -3.32114223e-03, -8.79292187e-03,\n",
              "       -8.51457174e-03, -1.07204650e-02,  4.37203448e-04, -2.26523985e-03,\n",
              "        1.85365432e-02, -1.43190808e-02,  1.58105054e-02, -1.97218774e-03,\n",
              "       -4.15938108e-03,  3.37448149e-03,  1.77289248e-04,  9.45198533e-03,\n",
              "        3.53096216e-03,  1.69842936e-03,  2.46756771e-03,  2.11377138e-03,\n",
              "       -1.39210006e-03,  3.82362170e-03,  8.61148990e-03,  3.87435810e-03,\n",
              "        3.85940536e-03,  8.88333795e-03,  1.35226525e-03,  5.00675030e-03,\n",
              "       -1.92270776e-03, -1.23449393e-02,  2.21599703e-02, -9.40614620e-03,\n",
              "       -1.90153022e-03,  2.19005418e-03,  4.32629916e-04, -1.67195559e-02,\n",
              "       -1.12463950e-03,  1.04397021e-02,  4.22751895e-03, -1.64057071e-03,\n",
              "        3.44690783e-03,  1.20784525e-02,  4.43163457e-02, -6.96087619e-03,\n",
              "       -1.89816928e-02,  2.15662942e-02, -2.35560594e-03,  3.23731598e-02,\n",
              "       -4.19670492e-02, -4.63934270e-02,  1.81650845e-02, -1.20091391e-02,\n",
              "        6.83562449e-03, -2.33119809e-02, -3.16413666e-02, -3.16322147e-02,\n",
              "        1.61335523e-02,  6.54432521e-03, -1.69081809e-02, -8.43184093e-03,\n",
              "       -5.34564451e-03, -3.16842860e-02,  2.62719705e-03,  2.43144791e-03,\n",
              "       -2.95194074e-02,  3.91865074e-02,  1.26402448e-02,  2.26206178e-02,\n",
              "       -1.23906157e-03, -1.15869529e-02, -1.18814320e-02,  2.18915256e-02,\n",
              "        4.87761784e-03, -1.71113007e-02,  2.95498443e-03,  1.04421958e-02,\n",
              "       -2.84640246e-02, -4.15612694e-03,  7.31493240e-03,  8.36626197e-03,\n",
              "       -1.28020369e-02, -3.59092846e-02,  3.03485952e-04,  1.83406122e-02,\n",
              "        2.36337897e-02,  4.83555089e-02, -1.18395582e-02,  3.91977696e-03,\n",
              "        7.16340881e-03,  1.42492864e-02, -2.04102022e-03, -7.02599497e-03,\n",
              "        1.25379289e-03, -9.77091632e-03,  1.21738009e-02,  8.36491633e-03,\n",
              "       -1.71029823e-02,  3.59988809e-03,  2.28410887e-03, -3.23945891e-03,\n",
              "       -9.80722164e-03, -7.34228920e-03, -3.02632288e-02,  1.19027177e-02,\n",
              "       -1.53901717e-02,  1.03998936e-02, -6.78057788e-03, -1.58348981e-03,\n",
              "        5.13720060e-03,  1.07159751e-02, -1.22148906e-02, -1.22327304e-02,\n",
              "        1.11531721e-02, -2.29463762e-03, -3.49160519e-03,  8.47569909e-04,\n",
              "       -2.46588571e-02, -1.60296665e-02,  2.96404524e-02,  1.25737386e-03,\n",
              "        1.28307356e-02,  3.34655578e-03,  4.22644912e-03, -3.56899555e-03,\n",
              "       -1.39247783e-02,  1.37407348e-02,  1.00724229e-02,  1.76484275e-02,\n",
              "        1.40945765e-02, -6.81104424e-04,  1.63687799e-02,  7.83871671e-03,\n",
              "        9.95057473e-03, -2.78402055e-03,  1.46870471e-02,  3.89638995e-03,\n",
              "       -1.03757898e-02,  0.00000000e+00, -4.76538709e-03,  6.70393572e-03,\n",
              "       -1.01217409e-02, -7.31417246e-03,  0.00000000e+00, -6.35109827e-02,\n",
              "        5.21004962e-03, -2.87285028e-04,  5.96379230e-03,  0.00000000e+00,\n",
              "        5.70487767e-02,  9.47087728e-03, -3.69454744e-02,  6.00677881e-03,\n",
              "       -3.66512272e-03,  5.76775178e-03,  6.82800629e-03,  4.65808573e-03,\n",
              "       -3.91331769e-03, -1.16704961e-03, -5.95573597e-03, -6.56989750e-03,\n",
              "        2.60980459e-02, -8.44260753e-03,  0.00000000e+00, -3.83868124e-03,\n",
              "        0.00000000e+00, -1.54030000e-02, -8.06675281e-04, -7.46734938e-03,\n",
              "        1.63301850e-02,  6.74671123e-04,  1.48764304e-02,  2.31830278e-02,\n",
              "        0.00000000e+00, -3.16602730e-02,  1.66391552e-02,  1.09006797e-02,\n",
              "        9.97065140e-03, -2.48091625e-02, -1.02223933e-02, -2.47893037e-03,\n",
              "        4.78796811e-02,  8.71598649e-03,  8.52440441e-03,  5.28819509e-03,\n",
              "       -2.96536763e-03,  1.30922695e-02,  5.27585186e-03,  1.96462883e-02,\n",
              "        9.69133371e-03, -2.00866944e-02, -3.83724678e-02,  1.20518493e-02,\n",
              "       -2.73794779e-03,  4.18137899e-04,  9.10904712e-03, -1.70603091e-02,\n",
              "       -3.30633076e-03, -1.72471168e-02,  1.45662971e-03,  6.35088894e-03,\n",
              "       -6.32702743e-03,  2.28815946e-02, -1.60804650e-02, -1.33605709e-02,\n",
              "       -1.33954322e-02, -2.94974678e-03,  3.48513081e-03,  9.00972454e-03,\n",
              "        1.61675729e-02,  1.82192940e-02,  2.31425183e-02,  2.06141771e-02,\n",
              "       -2.67562398e-02, -7.81756947e-03,  7.19899150e-03,  2.25466980e-02,\n",
              "        9.49988189e-03,  3.58907712e-03, -3.01218389e-03,  1.77438673e-04,\n",
              "       -2.35362144e-03,  7.33325218e-04,  4.01264186e-03,  7.95535119e-03,\n",
              "       -1.24123684e-02,  1.13362611e-02, -3.38960992e-03, -6.01505573e-03,\n",
              "       -7.32235014e-04, -1.13177167e-02,  5.52976167e-03,  5.58816144e-03,\n",
              "       -6.43690624e-03,  2.23199432e-03, -3.61158244e-02,  5.67017769e-03,\n",
              "       -1.95190415e-02, -1.18590113e-02, -2.68360904e-03,  2.39896556e-03,\n",
              "        1.79159801e-02, -1.86754258e-02,  5.32766311e-03, -2.45279078e-02,\n",
              "        5.31030237e-03,  1.57400816e-02,  1.20785833e-03, -7.43603830e-03,\n",
              "        1.47232049e-02, -8.89796876e-03,  9.88437059e-03,  2.28129128e-02,\n",
              "        1.21100263e-02, -1.16971065e-02,  1.15157417e-02,  1.94442463e-02,\n",
              "       -1.51005446e-02, -6.54871477e-04,  1.99713675e-02, -5.26159261e-03,\n",
              "       -2.10548300e-02,  2.24803392e-03, -1.79888133e-02, -9.70402793e-04])"
            ]
          },
          "metadata": {
            "tags": []
          },
          "execution_count": 44
        }
      ]
    },
    {
      "cell_type": "code",
      "metadata": {
        "id": "lXQe4UE7FNy5",
        "colab_type": "code",
        "outputId": "0410726d-d2b7-42f2-a14f-f88bc17220ca",
        "colab": {
          "base_uri": "https://localhost:8080/",
          "height": 54
        }
      },
      "source": [
        "(predictions + 1.96 * error)[:10]"
      ],
      "execution_count": 0,
      "outputs": [
        {
          "output_type": "execute_result",
          "data": {
            "text/plain": [
              "array([7.74728387, 7.77542688, 7.79587602, 7.81555408, 7.83269492,\n",
              "       7.8471056 , 7.86042195, 7.87284623, 7.88439406, 7.89529808])"
            ]
          },
          "metadata": {
            "tags": []
          },
          "execution_count": 29
        }
      ]
    },
    {
      "cell_type": "code",
      "metadata": {
        "id": "71W3yR1UFNy6",
        "colab_type": "code",
        "outputId": "a8d08867-e7c3-4a46-f907-322f140b7474",
        "colab": {
          "base_uri": "https://localhost:8080/",
          "height": 54
        }
      },
      "source": [
        "(predictions - 1.96 * error)[:10]"
      ],
      "execution_count": 0,
      "outputs": [
        {
          "output_type": "execute_result",
          "data": {
            "text/plain": [
              "array([7.61136797, 7.58225779, 7.5605314 , 7.54130217, 7.52358999,\n",
              "       7.50847164, 7.49457891, 7.48156366, 7.46935205, 7.45781888])"
            ]
          },
          "metadata": {
            "tags": []
          },
          "execution_count": 30
        }
      ]
    },
    {
      "cell_type": "code",
      "metadata": {
        "scrolled": false,
        "id": "2tk6cbfKFNy8",
        "colab_type": "code",
        "outputId": "d205f522-277f-4345-e774-e6c70a56fd75",
        "colab": {
          "base_uri": "https://localhost:8080/",
          "height": 1000
        }
      },
      "source": [
        "from sklearn.metrics import mean_squared_error\n",
        "\n",
        "x = y.values\n",
        "train_size = int(len(x) * 0.8)\n",
        "train, test = x[0:train_size], x[train_size:]\n",
        "history = [x for x in train]\n",
        "predictions = []\n",
        "for t in range(len(test)):\n",
        "    model = ARIMA(history, order=(5,1,0))\n",
        "    model_fit = model.fit(disp=0)\n",
        "    output = model_fit.forecast()\n",
        "    yhat = output[0][0]\n",
        "    predictions.append(yhat)\n",
        "    obs = test[t]\n",
        "    history.append(obs)\n",
        "    print('predicted=%f, actual=%f' % (yhat, obs))\n",
        "error = mean_squared_error(test, predictions)\n",
        "print('Test RMSE: %.3f' % np.sqrt(error))\n",
        "\n",
        "plt.plot(test)\n",
        "plt.plot(predictions, color='red')\n"
      ],
      "execution_count": 0,
      "outputs": [
        {
          "output_type": "stream",
          "text": [
            "predicted=7.606943, actual=7.603723\n",
            "predicted=7.603189, actual=7.592996\n",
            "predicted=7.592348, actual=7.592190\n",
            "predicted=7.591674, actual=7.584722\n",
            "predicted=7.583432, actual=7.601052\n",
            "predicted=7.600735, actual=7.601727\n",
            "predicted=7.600800, actual=7.616604\n",
            "predicted=7.616971, actual=7.639787\n",
            "predicted=7.639738, actual=7.639787\n",
            "predicted=7.639135, actual=7.608126\n",
            "predicted=7.608661, actual=7.624765\n",
            "predicted=7.624825, actual=7.635666\n",
            "predicted=7.632486, actual=7.645637\n",
            "predicted=7.645491, actual=7.620828\n",
            "predicted=7.621762, actual=7.610605\n",
            "predicted=7.610622, actual=7.608126\n",
            "predicted=7.606295, actual=7.656006\n",
            "predicted=7.654844, actual=7.664722\n",
            "predicted=7.663874, actual=7.673246\n",
            "predicted=7.675395, actual=7.678535\n",
            "predicted=7.679251, actual=7.675569\n",
            "predicted=7.674065, actual=7.688661\n",
            "predicted=7.688621, actual=7.693937\n",
            "predicted=7.693054, actual=7.713584\n",
            "predicted=7.713825, actual=7.723275\n",
            "predicted=7.723261, actual=7.703188\n",
            "predicted=7.703132, actual=7.664816\n",
            "predicted=7.665005, actual=7.676868\n",
            "predicted=7.676029, actual=7.674130\n",
            "predicted=7.671022, actual=7.674548\n",
            "predicted=7.674898, actual=7.683657\n",
            "predicted=7.684627, actual=7.666597\n",
            "predicted=7.665460, actual=7.663290\n",
            "predicted=7.663767, actual=7.646043\n",
            "predicted=7.644795, actual=7.647500\n",
            "predicted=7.646796, actual=7.653851\n",
            "predicted=7.653112, actual=7.647524\n",
            "predicted=7.646839, actual=7.670405\n",
            "predicted=7.671234, actual=7.654325\n",
            "predicted=7.653015, actual=7.640964\n",
            "predicted=7.641586, actual=7.627569\n",
            "predicted=7.626964, actual=7.624619\n",
            "predicted=7.622888, actual=7.628104\n",
            "predicted=7.627411, actual=7.637114\n",
            "predicted=7.636782, actual=7.653281\n",
            "predicted=7.653381, actual=7.671501\n",
            "predicted=7.671548, actual=7.694643\n",
            "predicted=7.694995, actual=7.715257\n",
            "predicted=7.715586, actual=7.688501\n",
            "predicted=7.688250, actual=7.680684\n",
            "predicted=7.681477, actual=7.687883\n",
            "predicted=7.686056, actual=7.710429\n",
            "predicted=7.708961, actual=7.719929\n",
            "predicted=7.720340, actual=7.723518\n",
            "predicted=7.724474, actual=7.720506\n",
            "predicted=7.720626, actual=7.720683\n",
            "predicted=7.720107, actual=7.718330\n",
            "predicted=7.717663, actual=7.719063\n",
            "predicted=7.718738, actual=7.723076\n",
            "predicted=7.722850, actual=7.731031\n",
            "predicted=7.730820, actual=7.718619\n",
            "predicted=7.718309, actual=7.729955\n",
            "predicted=7.730522, actual=7.726565\n",
            "predicted=7.725450, actual=7.720550\n",
            "predicted=7.720451, actual=7.719818\n",
            "predicted=7.720037, actual=7.708500\n",
            "predicted=7.707460, actual=7.714030\n",
            "predicted=7.714079, actual=7.719618\n",
            "predicted=7.718967, actual=7.713181\n",
            "predicted=7.712879, actual=7.715413\n",
            "predicted=7.715979, actual=7.679298\n",
            "predicted=7.678109, actual=7.684968\n",
            "predicted=7.685351, actual=7.665449\n",
            "predicted=7.663324, actual=7.653590\n",
            "predicted=7.653268, actual=7.650906\n",
            "predicted=7.650930, actual=7.653305\n",
            "predicted=7.652075, actual=7.671221\n",
            "predicted=7.671350, actual=7.652546\n",
            "predicted=7.652019, actual=7.657873\n",
            "predicted=7.658864, actual=7.633345\n",
            "predicted=7.631855, actual=7.638656\n",
            "predicted=7.638300, actual=7.654396\n",
            "predicted=7.653546, actual=7.655604\n",
            "predicted=7.654767, actual=7.648168\n",
            "predicted=7.649134, actual=7.662891\n",
            "predicted=7.662913, actual=7.653993\n",
            "predicted=7.652471, actual=7.663877\n",
            "predicted=7.664350, actual=7.686690\n",
            "predicted=7.686380, actual=7.698800\n",
            "predicted=7.698142, actual=7.687103\n",
            "predicted=7.687839, actual=7.698619\n",
            "predicted=7.699219, actual=7.718063\n",
            "predicted=7.716755, actual=7.702963\n",
            "predicted=7.702197, actual=7.702308\n",
            "predicted=7.703719, actual=7.722279\n",
            "predicted=7.721453, actual=7.717017\n",
            "predicted=7.715533, actual=7.695963\n",
            "predicted=7.696972, actual=7.698211\n",
            "predicted=7.698430, actual=7.680222\n",
            "predicted=7.678030, actual=7.679251\n",
            "Test RMSE: 0.015\n"
          ],
          "name": "stdout"
        },
        {
          "output_type": "execute_result",
          "data": {
            "text/plain": [
              "[<matplotlib.lines.Line2D at 0x7f0669cb2e48>]"
            ]
          },
          "metadata": {
            "tags": []
          },
          "execution_count": 31
        },
        {
          "output_type": "display_data",
          "data": {
            "image/png": "[encoded data removed]",
            "text/plain": [
              "<Figure size 864x432 with 1 Axes>"
            ]
          },
          "metadata": {
            "tags": []
          }
        }
      ]
    },
    {
      "cell_type": "code",
      "metadata": {
        "id": "TuNG-zynFNy-",
        "colab_type": "code",
        "outputId": "a6d6dbca-6cba-4676-c9e6-cf2b3dd59629",
        "colab": {
          "base_uri": "https://localhost:8080/",
          "height": 1000
        }
      },
      "source": [
        "result = pd.DataFrame(y)[train_size:]\n",
        "result.columns = [\"actual\"]\n",
        "result[\"prediction\"] = predictions\n",
        "result"
      ],
      "execution_count": 0,
      "outputs": [
        {
          "output_type": "execute_result",
          "data": {
            "text/html": [
              "<div>\n",
              "<style scoped>\n",
              "    .dataframe tbody tr th:only-of-type {\n",
              "        vertical-align: middle;\n",
              "    }\n",
              "\n",
              "    .dataframe tbody tr th {\n",
              "        vertical-align: top;\n",
              "    }\n",
              "\n",
              "    .dataframe thead th {\n",
              "        text-align: right;\n",
              "    }\n",
              "</style>\n",
              "<table border=\"1\" class=\"dataframe\">\n",
              "  <thead>\n",
              "    <tr style=\"text-align: right;\">\n",
              "      <th></th>\n",
              "      <th>actual</th>\n",
              "      <th>prediction</th>\n",
              "    </tr>\n",
              "    <tr>\n",
              "      <th>Date</th>\n",
              "      <th></th>\n",
              "      <th></th>\n",
              "    </tr>\n",
              "  </thead>\n",
              "  <tbody>\n",
              "    <tr>\n",
              "      <th>2019-03-22</th>\n",
              "      <td>7.603723</td>\n",
              "      <td>7.606943</td>\n",
              "    </tr>\n",
              "    <tr>\n",
              "      <th>2019-03-25</th>\n",
              "      <td>7.592996</td>\n",
              "      <td>7.603189</td>\n",
              "    </tr>\n",
              "    <tr>\n",
              "      <th>2019-03-26</th>\n",
              "      <td>7.592190</td>\n",
              "      <td>7.592348</td>\n",
              "    </tr>\n",
              "    <tr>\n",
              "      <th>2019-03-27</th>\n",
              "      <td>7.584722</td>\n",
              "      <td>7.591674</td>\n",
              "    </tr>\n",
              "    <tr>\n",
              "      <th>2019-03-28</th>\n",
              "      <td>7.601052</td>\n",
              "      <td>7.583432</td>\n",
              "    </tr>\n",
              "    <tr>\n",
              "      <th>2019-03-29</th>\n",
              "      <td>7.601727</td>\n",
              "      <td>7.600735</td>\n",
              "    </tr>\n",
              "    <tr>\n",
              "      <th>2019-04-01</th>\n",
              "      <td>7.616604</td>\n",
              "      <td>7.600800</td>\n",
              "    </tr>\n",
              "    <tr>\n",
              "      <th>2019-04-02</th>\n",
              "      <td>7.639787</td>\n",
              "      <td>7.616971</td>\n",
              "    </tr>\n",
              "    <tr>\n",
              "      <th>2019-04-03</th>\n",
              "      <td>7.639787</td>\n",
              "      <td>7.639738</td>\n",
              "    </tr>\n",
              "    <tr>\n",
              "      <th>2019-04-04</th>\n",
              "      <td>7.608126</td>\n",
              "      <td>7.639135</td>\n",
              "    </tr>\n",
              "    <tr>\n",
              "      <th>2019-04-05</th>\n",
              "      <td>7.624765</td>\n",
              "      <td>7.608661</td>\n",
              "    </tr>\n",
              "    <tr>\n",
              "      <th>2019-04-08</th>\n",
              "      <td>7.635666</td>\n",
              "      <td>7.624825</td>\n",
              "    </tr>\n",
              "    <tr>\n",
              "      <th>2019-04-09</th>\n",
              "      <td>7.645637</td>\n",
              "      <td>7.632486</td>\n",
              "    </tr>\n",
              "    <tr>\n",
              "      <th>2019-04-10</th>\n",
              "      <td>7.620828</td>\n",
              "      <td>7.645491</td>\n",
              "    </tr>\n",
              "    <tr>\n",
              "      <th>2019-04-11</th>\n",
              "      <td>7.610605</td>\n",
              "      <td>7.621762</td>\n",
              "    </tr>\n",
              "    <tr>\n",
              "      <th>2019-04-12</th>\n",
              "      <td>7.608126</td>\n",
              "      <td>7.610622</td>\n",
              "    </tr>\n",
              "    <tr>\n",
              "      <th>2019-04-15</th>\n",
              "      <td>7.656006</td>\n",
              "      <td>7.606295</td>\n",
              "    </tr>\n",
              "    <tr>\n",
              "      <th>2019-04-16</th>\n",
              "      <td>7.664722</td>\n",
              "      <td>7.654844</td>\n",
              "    </tr>\n",
              "    <tr>\n",
              "      <th>2019-04-18</th>\n",
              "      <td>7.673246</td>\n",
              "      <td>7.663874</td>\n",
              "    </tr>\n",
              "    <tr>\n",
              "      <th>2019-04-22</th>\n",
              "      <td>7.678535</td>\n",
              "      <td>7.675395</td>\n",
              "    </tr>\n",
              "    <tr>\n",
              "      <th>2019-04-23</th>\n",
              "      <td>7.675569</td>\n",
              "      <td>7.679251</td>\n",
              "    </tr>\n",
              "    <tr>\n",
              "      <th>2019-04-24</th>\n",
              "      <td>7.688661</td>\n",
              "      <td>7.674065</td>\n",
              "    </tr>\n",
              "    <tr>\n",
              "      <th>2019-04-25</th>\n",
              "      <td>7.693937</td>\n",
              "      <td>7.688621</td>\n",
              "    </tr>\n",
              "    <tr>\n",
              "      <th>2019-04-26</th>\n",
              "      <td>7.713584</td>\n",
              "      <td>7.693054</td>\n",
              "    </tr>\n",
              "    <tr>\n",
              "      <th>2019-04-30</th>\n",
              "      <td>7.723275</td>\n",
              "      <td>7.713825</td>\n",
              "    </tr>\n",
              "    <tr>\n",
              "      <th>2019-05-02</th>\n",
              "      <td>7.703188</td>\n",
              "      <td>7.723261</td>\n",
              "    </tr>\n",
              "    <tr>\n",
              "      <th>2019-05-03</th>\n",
              "      <td>7.664816</td>\n",
              "      <td>7.703132</td>\n",
              "    </tr>\n",
              "    <tr>\n",
              "      <th>2019-05-06</th>\n",
              "      <td>7.676868</td>\n",
              "      <td>7.665005</td>\n",
              "    </tr>\n",
              "    <tr>\n",
              "      <th>2019-05-07</th>\n",
              "      <td>7.674130</td>\n",
              "      <td>7.676029</td>\n",
              "    </tr>\n",
              "    <tr>\n",
              "      <th>2019-05-08</th>\n",
              "      <td>7.674548</td>\n",
              "      <td>7.671022</td>\n",
              "    </tr>\n",
              "    <tr>\n",
              "      <th>...</th>\n",
              "      <td>...</td>\n",
              "      <td>...</td>\n",
              "    </tr>\n",
              "    <tr>\n",
              "      <th>2019-07-05</th>\n",
              "      <td>7.679298</td>\n",
              "      <td>7.715979</td>\n",
              "    </tr>\n",
              "    <tr>\n",
              "      <th>2019-07-08</th>\n",
              "      <td>7.684968</td>\n",
              "      <td>7.678109</td>\n",
              "    </tr>\n",
              "    <tr>\n",
              "      <th>2019-07-09</th>\n",
              "      <td>7.665449</td>\n",
              "      <td>7.685351</td>\n",
              "    </tr>\n",
              "    <tr>\n",
              "      <th>2019-07-10</th>\n",
              "      <td>7.653590</td>\n",
              "      <td>7.663324</td>\n",
              "    </tr>\n",
              "    <tr>\n",
              "      <th>2019-07-11</th>\n",
              "      <td>7.650906</td>\n",
              "      <td>7.653268</td>\n",
              "    </tr>\n",
              "    <tr>\n",
              "      <th>2019-07-12</th>\n",
              "      <td>7.653305</td>\n",
              "      <td>7.650930</td>\n",
              "    </tr>\n",
              "    <tr>\n",
              "      <th>2019-07-15</th>\n",
              "      <td>7.671221</td>\n",
              "      <td>7.652075</td>\n",
              "    </tr>\n",
              "    <tr>\n",
              "      <th>2019-07-16</th>\n",
              "      <td>7.652546</td>\n",
              "      <td>7.671350</td>\n",
              "    </tr>\n",
              "    <tr>\n",
              "      <th>2019-07-17</th>\n",
              "      <td>7.657873</td>\n",
              "      <td>7.652019</td>\n",
              "    </tr>\n",
              "    <tr>\n",
              "      <th>2019-07-18</th>\n",
              "      <td>7.633345</td>\n",
              "      <td>7.658864</td>\n",
              "    </tr>\n",
              "    <tr>\n",
              "      <th>2019-07-19</th>\n",
              "      <td>7.638656</td>\n",
              "      <td>7.631855</td>\n",
              "    </tr>\n",
              "    <tr>\n",
              "      <th>2019-07-22</th>\n",
              "      <td>7.654396</td>\n",
              "      <td>7.638300</td>\n",
              "    </tr>\n",
              "    <tr>\n",
              "      <th>2019-07-23</th>\n",
              "      <td>7.655604</td>\n",
              "      <td>7.653546</td>\n",
              "    </tr>\n",
              "    <tr>\n",
              "      <th>2019-07-24</th>\n",
              "      <td>7.648168</td>\n",
              "      <td>7.654767</td>\n",
              "    </tr>\n",
              "    <tr>\n",
              "      <th>2019-07-25</th>\n",
              "      <td>7.662891</td>\n",
              "      <td>7.649134</td>\n",
              "    </tr>\n",
              "    <tr>\n",
              "      <th>2019-07-26</th>\n",
              "      <td>7.653993</td>\n",
              "      <td>7.662913</td>\n",
              "    </tr>\n",
              "    <tr>\n",
              "      <th>2019-07-29</th>\n",
              "      <td>7.663877</td>\n",
              "      <td>7.652471</td>\n",
              "    </tr>\n",
              "    <tr>\n",
              "      <th>2019-07-30</th>\n",
              "      <td>7.686690</td>\n",
              "      <td>7.664350</td>\n",
              "    </tr>\n",
              "    <tr>\n",
              "      <th>2019-07-31</th>\n",
              "      <td>7.698800</td>\n",
              "      <td>7.686380</td>\n",
              "    </tr>\n",
              "    <tr>\n",
              "      <th>2019-08-01</th>\n",
              "      <td>7.687103</td>\n",
              "      <td>7.698142</td>\n",
              "    </tr>\n",
              "    <tr>\n",
              "      <th>2019-08-02</th>\n",
              "      <td>7.698619</td>\n",
              "      <td>7.687839</td>\n",
              "    </tr>\n",
              "    <tr>\n",
              "      <th>2019-08-05</th>\n",
              "      <td>7.718063</td>\n",
              "      <td>7.699219</td>\n",
              "    </tr>\n",
              "    <tr>\n",
              "      <th>2019-08-06</th>\n",
              "      <td>7.702963</td>\n",
              "      <td>7.716755</td>\n",
              "    </tr>\n",
              "    <tr>\n",
              "      <th>2019-08-07</th>\n",
              "      <td>7.702308</td>\n",
              "      <td>7.702197</td>\n",
              "    </tr>\n",
              "    <tr>\n",
              "      <th>2019-08-08</th>\n",
              "      <td>7.722279</td>\n",
              "      <td>7.703719</td>\n",
              "    </tr>\n",
              "    <tr>\n",
              "      <th>2019-08-09</th>\n",
              "      <td>7.717017</td>\n",
              "      <td>7.721453</td>\n",
              "    </tr>\n",
              "    <tr>\n",
              "      <th>2019-08-13</th>\n",
              "      <td>7.695963</td>\n",
              "      <td>7.715533</td>\n",
              "    </tr>\n",
              "    <tr>\n",
              "      <th>2019-08-14</th>\n",
              "      <td>7.698211</td>\n",
              "      <td>7.696972</td>\n",
              "    </tr>\n",
              "    <tr>\n",
              "      <th>2019-08-16</th>\n",
              "      <td>7.680222</td>\n",
              "      <td>7.698430</td>\n",
              "    </tr>\n",
              "    <tr>\n",
              "      <th>2019-08-19</th>\n",
              "      <td>7.679251</td>\n",
              "      <td>7.678030</td>\n",
              "    </tr>\n",
              "  </tbody>\n",
              "</table>\n",
              "<p>100 rows × 2 columns</p>\n",
              "</div>"
            ],
            "text/plain": [
              "              actual  prediction\n",
              "Date                            \n",
              "2019-03-22  7.603723    7.606943\n",
              "2019-03-25  7.592996    7.603189\n",
              "2019-03-26  7.592190    7.592348\n",
              "2019-03-27  7.584722    7.591674\n",
              "2019-03-28  7.601052    7.583432\n",
              "2019-03-29  7.601727    7.600735\n",
              "2019-04-01  7.616604    7.600800\n",
              "2019-04-02  7.639787    7.616971\n",
              "2019-04-03  7.639787    7.639738\n",
              "2019-04-04  7.608126    7.639135\n",
              "2019-04-05  7.624765    7.608661\n",
              "2019-04-08  7.635666    7.624825\n",
              "2019-04-09  7.645637    7.632486\n",
              "2019-04-10  7.620828    7.645491\n",
              "2019-04-11  7.610605    7.621762\n",
              "2019-04-12  7.608126    7.610622\n",
              "2019-04-15  7.656006    7.606295\n",
              "2019-04-16  7.664722    7.654844\n",
              "2019-04-18  7.673246    7.663874\n",
              "2019-04-22  7.678535    7.675395\n",
              "2019-04-23  7.675569    7.679251\n",
              "2019-04-24  7.688661    7.674065\n",
              "2019-04-25  7.693937    7.688621\n",
              "2019-04-26  7.713584    7.693054\n",
              "2019-04-30  7.723275    7.713825\n",
              "2019-05-02  7.703188    7.723261\n",
              "2019-05-03  7.664816    7.703132\n",
              "2019-05-06  7.676868    7.665005\n",
              "2019-05-07  7.674130    7.676029\n",
              "2019-05-08  7.674548    7.671022\n",
              "...              ...         ...\n",
              "2019-07-05  7.679298    7.715979\n",
              "2019-07-08  7.684968    7.678109\n",
              "2019-07-09  7.665449    7.685351\n",
              "2019-07-10  7.653590    7.663324\n",
              "2019-07-11  7.650906    7.653268\n",
              "2019-07-12  7.653305    7.650930\n",
              "2019-07-15  7.671221    7.652075\n",
              "2019-07-16  7.652546    7.671350\n",
              "2019-07-17  7.657873    7.652019\n",
              "2019-07-18  7.633345    7.658864\n",
              "2019-07-19  7.638656    7.631855\n",
              "2019-07-22  7.654396    7.638300\n",
              "2019-07-23  7.655604    7.653546\n",
              "2019-07-24  7.648168    7.654767\n",
              "2019-07-25  7.662891    7.649134\n",
              "2019-07-26  7.653993    7.662913\n",
              "2019-07-29  7.663877    7.652471\n",
              "2019-07-30  7.686690    7.664350\n",
              "2019-07-31  7.698800    7.686380\n",
              "2019-08-01  7.687103    7.698142\n",
              "2019-08-02  7.698619    7.687839\n",
              "2019-08-05  7.718063    7.699219\n",
              "2019-08-06  7.702963    7.716755\n",
              "2019-08-07  7.702308    7.702197\n",
              "2019-08-08  7.722279    7.703719\n",
              "2019-08-09  7.717017    7.721453\n",
              "2019-08-13  7.695963    7.715533\n",
              "2019-08-14  7.698211    7.696972\n",
              "2019-08-16  7.680222    7.698430\n",
              "2019-08-19  7.679251    7.678030\n",
              "\n",
              "[100 rows x 2 columns]"
            ]
          },
          "metadata": {
            "tags": []
          },
          "execution_count": 32
        }
      ]
    },
    {
      "cell_type": "code",
      "metadata": {
        "id": "psd4UAfSFNy_",
        "colab_type": "code",
        "outputId": "688a0bf2-9dcb-4529-abd4-ab042e6c78e5",
        "colab": {
          "base_uri": "https://localhost:8080/",
          "height": 35
        }
      },
      "source": [
        "from numpy import array\n",
        "import keras\n",
        "import tensorflow as tf\n",
        "from keras.preprocessing.sequence import TimeseriesGenerator"
      ],
      "execution_count": 0,
      "outputs": [
        {
          "output_type": "stream",
          "text": [
            "Using TensorFlow backend.\n"
          ],
          "name": "stderr"
        }
      ]
    },
    {
      "cell_type": "code",
      "metadata": {
        "id": "fBno1CjXFNzB",
        "colab_type": "code",
        "outputId": "2b0a37ff-33cb-48fe-defa-92377e124dff",
        "colab": {
          "base_uri": "https://localhost:8080/",
          "height": 378
        }
      },
      "source": [
        "y_b = np.log(df[\"Close Price\"])\n",
        "y_b = y_b.asfreq(\"B\").dropna()/10.0\n",
        "print(\"%s\" % y_b[:10])"
      ],
      "execution_count": 0,
      "outputs": [
        {
          "output_type": "error",
          "ename": "ValueError",
          "evalue": "ignored",
          "traceback": [
            "\u001b[0;31m---------------------------------------------------------------------------\u001b[0m",
            "\u001b[0;31mValueError\u001b[0m                                Traceback (most recent call last)",
            "\u001b[0;32m<ipython-input-35-262800e8c8b3>\u001b[0m in \u001b[0;36m<module>\u001b[0;34m()\u001b[0m\n\u001b[1;32m      1\u001b[0m \u001b[0my_b\u001b[0m \u001b[0;34m=\u001b[0m \u001b[0mnp\u001b[0m\u001b[0;34m.\u001b[0m\u001b[0mlog\u001b[0m\u001b[0;34m(\u001b[0m\u001b[0mdf\u001b[0m\u001b[0;34m[\u001b[0m\u001b[0;34m\"Close Price\"\u001b[0m\u001b[0;34m]\u001b[0m\u001b[0;34m)\u001b[0m\u001b[0;34m\u001b[0m\u001b[0;34m\u001b[0m\u001b[0m\n\u001b[0;32m----> 2\u001b[0;31m \u001b[0my_b\u001b[0m \u001b[0;34m=\u001b[0m \u001b[0my_b\u001b[0m\u001b[0;34m.\u001b[0m\u001b[0masfreq\u001b[0m\u001b[0;34m(\u001b[0m\u001b[0;34m\"B\"\u001b[0m\u001b[0;34m)\u001b[0m\u001b[0;34m.\u001b[0m\u001b[0mdropna\u001b[0m\u001b[0;34m(\u001b[0m\u001b[0;34m)\u001b[0m\u001b[0;34m/\u001b[0m\u001b[0;36m10.0\u001b[0m\u001b[0;34m\u001b[0m\u001b[0;34m\u001b[0m\u001b[0m\n\u001b[0m\u001b[1;32m      3\u001b[0m \u001b[0mprint\u001b[0m\u001b[0;34m(\u001b[0m\u001b[0;34m\"%s\"\u001b[0m \u001b[0;34m%\u001b[0m \u001b[0my_b\u001b[0m\u001b[0;34m[\u001b[0m\u001b[0;34m:\u001b[0m\u001b[0;36m10\u001b[0m\u001b[0;34m]\u001b[0m\u001b[0;34m)\u001b[0m\u001b[0;34m\u001b[0m\u001b[0;34m\u001b[0m\u001b[0m\n",
            "\u001b[0;32m/usr/local/lib/python3.6/dist-packages/pandas/core/generic.py\u001b[0m in \u001b[0;36masfreq\u001b[0;34m(self, freq, method, how, normalize, fill_value)\u001b[0m\n\u001b[1;32m   7729\u001b[0m         \u001b[0;32mfrom\u001b[0m \u001b[0mpandas\u001b[0m\u001b[0;34m.\u001b[0m\u001b[0mcore\u001b[0m\u001b[0;34m.\u001b[0m\u001b[0mresample\u001b[0m \u001b[0;32mimport\u001b[0m \u001b[0masfreq\u001b[0m\u001b[0;34m\u001b[0m\u001b[0;34m\u001b[0m\u001b[0m\n\u001b[1;32m   7730\u001b[0m         return asfreq(self, freq, method=method, how=how, normalize=normalize,\n\u001b[0;32m-> 7731\u001b[0;31m                       fill_value=fill_value)\n\u001b[0m\u001b[1;32m   7732\u001b[0m \u001b[0;34m\u001b[0m\u001b[0m\n\u001b[1;32m   7733\u001b[0m     \u001b[0;32mdef\u001b[0m \u001b[0mat_time\u001b[0m\u001b[0;34m(\u001b[0m\u001b[0mself\u001b[0m\u001b[0;34m,\u001b[0m \u001b[0mtime\u001b[0m\u001b[0;34m,\u001b[0m \u001b[0masof\u001b[0m\u001b[0;34m=\u001b[0m\u001b[0;32mFalse\u001b[0m\u001b[0;34m,\u001b[0m \u001b[0maxis\u001b[0m\u001b[0;34m=\u001b[0m\u001b[0;32mNone\u001b[0m\u001b[0;34m)\u001b[0m\u001b[0;34m:\u001b[0m\u001b[0;34m\u001b[0m\u001b[0;34m\u001b[0m\u001b[0m\n",
            "\u001b[0;32m/usr/local/lib/python3.6/dist-packages/pandas/core/resample.py\u001b[0m in \u001b[0;36masfreq\u001b[0;34m(obj, freq, method, how, normalize, fill_value)\u001b[0m\n\u001b[1;32m   1760\u001b[0m         \u001b[0mdti\u001b[0m \u001b[0;34m=\u001b[0m \u001b[0mdate_range\u001b[0m\u001b[0;34m(\u001b[0m\u001b[0mobj\u001b[0m\u001b[0;34m.\u001b[0m\u001b[0mindex\u001b[0m\u001b[0;34m[\u001b[0m\u001b[0;36m0\u001b[0m\u001b[0;34m]\u001b[0m\u001b[0;34m,\u001b[0m \u001b[0mobj\u001b[0m\u001b[0;34m.\u001b[0m\u001b[0mindex\u001b[0m\u001b[0;34m[\u001b[0m\u001b[0;34m-\u001b[0m\u001b[0;36m1\u001b[0m\u001b[0;34m]\u001b[0m\u001b[0;34m,\u001b[0m \u001b[0mfreq\u001b[0m\u001b[0;34m=\u001b[0m\u001b[0mfreq\u001b[0m\u001b[0;34m)\u001b[0m\u001b[0;34m\u001b[0m\u001b[0;34m\u001b[0m\u001b[0m\n\u001b[1;32m   1761\u001b[0m         \u001b[0mdti\u001b[0m\u001b[0;34m.\u001b[0m\u001b[0mname\u001b[0m \u001b[0;34m=\u001b[0m \u001b[0mobj\u001b[0m\u001b[0;34m.\u001b[0m\u001b[0mindex\u001b[0m\u001b[0;34m.\u001b[0m\u001b[0mname\u001b[0m\u001b[0;34m\u001b[0m\u001b[0;34m\u001b[0m\u001b[0m\n\u001b[0;32m-> 1762\u001b[0;31m         \u001b[0mnew_obj\u001b[0m \u001b[0;34m=\u001b[0m \u001b[0mobj\u001b[0m\u001b[0;34m.\u001b[0m\u001b[0mreindex\u001b[0m\u001b[0;34m(\u001b[0m\u001b[0mdti\u001b[0m\u001b[0;34m,\u001b[0m \u001b[0mmethod\u001b[0m\u001b[0;34m=\u001b[0m\u001b[0mmethod\u001b[0m\u001b[0;34m,\u001b[0m \u001b[0mfill_value\u001b[0m\u001b[0;34m=\u001b[0m\u001b[0mfill_value\u001b[0m\u001b[0;34m)\u001b[0m\u001b[0;34m\u001b[0m\u001b[0;34m\u001b[0m\u001b[0m\n\u001b[0m\u001b[1;32m   1763\u001b[0m         \u001b[0;32mif\u001b[0m \u001b[0mnormalize\u001b[0m\u001b[0;34m:\u001b[0m\u001b[0;34m\u001b[0m\u001b[0;34m\u001b[0m\u001b[0m\n\u001b[1;32m   1764\u001b[0m             \u001b[0mnew_obj\u001b[0m\u001b[0;34m.\u001b[0m\u001b[0mindex\u001b[0m \u001b[0;34m=\u001b[0m \u001b[0mnew_obj\u001b[0m\u001b[0;34m.\u001b[0m\u001b[0mindex\u001b[0m\u001b[0;34m.\u001b[0m\u001b[0mnormalize\u001b[0m\u001b[0;34m(\u001b[0m\u001b[0;34m)\u001b[0m\u001b[0;34m\u001b[0m\u001b[0;34m\u001b[0m\u001b[0m\n",
            "\u001b[0;32m/usr/local/lib/python3.6/dist-packages/pandas/core/series.py\u001b[0m in \u001b[0;36mreindex\u001b[0;34m(self, index, **kwargs)\u001b[0m\n\u001b[1;32m   3736\u001b[0m     \u001b[0;34m@\u001b[0m\u001b[0mAppender\u001b[0m\u001b[0;34m(\u001b[0m\u001b[0mgeneric\u001b[0m\u001b[0;34m.\u001b[0m\u001b[0mNDFrame\u001b[0m\u001b[0;34m.\u001b[0m\u001b[0mreindex\u001b[0m\u001b[0;34m.\u001b[0m\u001b[0m__doc__\u001b[0m\u001b[0;34m)\u001b[0m\u001b[0;34m\u001b[0m\u001b[0;34m\u001b[0m\u001b[0m\n\u001b[1;32m   3737\u001b[0m     \u001b[0;32mdef\u001b[0m \u001b[0mreindex\u001b[0m\u001b[0;34m(\u001b[0m\u001b[0mself\u001b[0m\u001b[0;34m,\u001b[0m \u001b[0mindex\u001b[0m\u001b[0;34m=\u001b[0m\u001b[0;32mNone\u001b[0m\u001b[0;34m,\u001b[0m \u001b[0;34m**\u001b[0m\u001b[0mkwargs\u001b[0m\u001b[0;34m)\u001b[0m\u001b[0;34m:\u001b[0m\u001b[0;34m\u001b[0m\u001b[0;34m\u001b[0m\u001b[0m\n\u001b[0;32m-> 3738\u001b[0;31m         \u001b[0;32mreturn\u001b[0m \u001b[0msuper\u001b[0m\u001b[0;34m(\u001b[0m\u001b[0mSeries\u001b[0m\u001b[0;34m,\u001b[0m \u001b[0mself\u001b[0m\u001b[0;34m)\u001b[0m\u001b[0;34m.\u001b[0m\u001b[0mreindex\u001b[0m\u001b[0;34m(\u001b[0m\u001b[0mindex\u001b[0m\u001b[0;34m=\u001b[0m\u001b[0mindex\u001b[0m\u001b[0;34m,\u001b[0m \u001b[0;34m**\u001b[0m\u001b[0mkwargs\u001b[0m\u001b[0;34m)\u001b[0m\u001b[0;34m\u001b[0m\u001b[0;34m\u001b[0m\u001b[0m\n\u001b[0m\u001b[1;32m   3739\u001b[0m \u001b[0;34m\u001b[0m\u001b[0m\n\u001b[1;32m   3740\u001b[0m     def drop(self, labels=None, axis=0, index=None, columns=None,\n",
            "\u001b[0;32m/usr/local/lib/python3.6/dist-packages/pandas/core/generic.py\u001b[0m in \u001b[0;36mreindex\u001b[0;34m(self, *args, **kwargs)\u001b[0m\n\u001b[1;32m   4354\u001b[0m         \u001b[0;31m# perform the reindex on the axes\u001b[0m\u001b[0;34m\u001b[0m\u001b[0;34m\u001b[0m\u001b[0;34m\u001b[0m\u001b[0m\n\u001b[1;32m   4355\u001b[0m         return self._reindex_axes(axes, level, limit, tolerance, method,\n\u001b[0;32m-> 4356\u001b[0;31m                                   fill_value, copy).__finalize__(self)\n\u001b[0m\u001b[1;32m   4357\u001b[0m \u001b[0;34m\u001b[0m\u001b[0m\n\u001b[1;32m   4358\u001b[0m     def _reindex_axes(self, axes, level, limit, tolerance, method, fill_value,\n",
            "\u001b[0;32m/usr/local/lib/python3.6/dist-packages/pandas/core/generic.py\u001b[0m in \u001b[0;36m_reindex_axes\u001b[0;34m(self, axes, level, limit, tolerance, method, fill_value, copy)\u001b[0m\n\u001b[1;32m   4372\u001b[0m             obj = obj._reindex_with_indexers({axis: [new_index, indexer]},\n\u001b[1;32m   4373\u001b[0m                                              \u001b[0mfill_value\u001b[0m\u001b[0;34m=\u001b[0m\u001b[0mfill_value\u001b[0m\u001b[0;34m,\u001b[0m\u001b[0;34m\u001b[0m\u001b[0;34m\u001b[0m\u001b[0m\n\u001b[0;32m-> 4374\u001b[0;31m                                              copy=copy, allow_dups=False)\n\u001b[0m\u001b[1;32m   4375\u001b[0m \u001b[0;34m\u001b[0m\u001b[0m\n\u001b[1;32m   4376\u001b[0m         \u001b[0;32mreturn\u001b[0m \u001b[0mobj\u001b[0m\u001b[0;34m\u001b[0m\u001b[0;34m\u001b[0m\u001b[0m\n",
            "\u001b[0;32m/usr/local/lib/python3.6/dist-packages/pandas/core/generic.py\u001b[0m in \u001b[0;36m_reindex_with_indexers\u001b[0;34m(self, reindexers, fill_value, copy, allow_dups)\u001b[0m\n\u001b[1;32m   4488\u001b[0m                                                 \u001b[0mfill_value\u001b[0m\u001b[0;34m=\u001b[0m\u001b[0mfill_value\u001b[0m\u001b[0;34m,\u001b[0m\u001b[0;34m\u001b[0m\u001b[0;34m\u001b[0m\u001b[0m\n\u001b[1;32m   4489\u001b[0m                                                 \u001b[0mallow_dups\u001b[0m\u001b[0;34m=\u001b[0m\u001b[0mallow_dups\u001b[0m\u001b[0;34m,\u001b[0m\u001b[0;34m\u001b[0m\u001b[0;34m\u001b[0m\u001b[0m\n\u001b[0;32m-> 4490\u001b[0;31m                                                 copy=copy)\n\u001b[0m\u001b[1;32m   4491\u001b[0m \u001b[0;34m\u001b[0m\u001b[0m\n\u001b[1;32m   4492\u001b[0m         \u001b[0;32mif\u001b[0m \u001b[0mcopy\u001b[0m \u001b[0;32mand\u001b[0m \u001b[0mnew_data\u001b[0m \u001b[0;32mis\u001b[0m \u001b[0mself\u001b[0m\u001b[0;34m.\u001b[0m\u001b[0m_data\u001b[0m\u001b[0;34m:\u001b[0m\u001b[0;34m\u001b[0m\u001b[0;34m\u001b[0m\u001b[0m\n",
            "\u001b[0;32m/usr/local/lib/python3.6/dist-packages/pandas/core/internals/managers.py\u001b[0m in \u001b[0;36mreindex_indexer\u001b[0;34m(self, new_axis, indexer, axis, fill_value, allow_dups, copy)\u001b[0m\n\u001b[1;32m   1222\u001b[0m         \u001b[0;31m# some axes don't allow reindexing with dups\u001b[0m\u001b[0;34m\u001b[0m\u001b[0;34m\u001b[0m\u001b[0;34m\u001b[0m\u001b[0m\n\u001b[1;32m   1223\u001b[0m         \u001b[0;32mif\u001b[0m \u001b[0;32mnot\u001b[0m \u001b[0mallow_dups\u001b[0m\u001b[0;34m:\u001b[0m\u001b[0;34m\u001b[0m\u001b[0;34m\u001b[0m\u001b[0m\n\u001b[0;32m-> 1224\u001b[0;31m             \u001b[0mself\u001b[0m\u001b[0;34m.\u001b[0m\u001b[0maxes\u001b[0m\u001b[0;34m[\u001b[0m\u001b[0maxis\u001b[0m\u001b[0;34m]\u001b[0m\u001b[0;34m.\u001b[0m\u001b[0m_can_reindex\u001b[0m\u001b[0;34m(\u001b[0m\u001b[0mindexer\u001b[0m\u001b[0;34m)\u001b[0m\u001b[0;34m\u001b[0m\u001b[0;34m\u001b[0m\u001b[0m\n\u001b[0m\u001b[1;32m   1225\u001b[0m \u001b[0;34m\u001b[0m\u001b[0m\n\u001b[1;32m   1226\u001b[0m         \u001b[0;32mif\u001b[0m \u001b[0maxis\u001b[0m \u001b[0;34m>=\u001b[0m \u001b[0mself\u001b[0m\u001b[0;34m.\u001b[0m\u001b[0mndim\u001b[0m\u001b[0;34m:\u001b[0m\u001b[0;34m\u001b[0m\u001b[0;34m\u001b[0m\u001b[0m\n",
            "\u001b[0;32m/usr/local/lib/python3.6/dist-packages/pandas/core/indexes/base.py\u001b[0m in \u001b[0;36m_can_reindex\u001b[0;34m(self, indexer)\u001b[0m\n\u001b[1;32m   3085\u001b[0m         \u001b[0;31m# trying to reindex on an axis with duplicates\u001b[0m\u001b[0;34m\u001b[0m\u001b[0;34m\u001b[0m\u001b[0;34m\u001b[0m\u001b[0m\n\u001b[1;32m   3086\u001b[0m         \u001b[0;32mif\u001b[0m \u001b[0;32mnot\u001b[0m \u001b[0mself\u001b[0m\u001b[0;34m.\u001b[0m\u001b[0mis_unique\u001b[0m \u001b[0;32mand\u001b[0m \u001b[0mlen\u001b[0m\u001b[0;34m(\u001b[0m\u001b[0mindexer\u001b[0m\u001b[0;34m)\u001b[0m\u001b[0;34m:\u001b[0m\u001b[0;34m\u001b[0m\u001b[0;34m\u001b[0m\u001b[0m\n\u001b[0;32m-> 3087\u001b[0;31m             \u001b[0;32mraise\u001b[0m \u001b[0mValueError\u001b[0m\u001b[0;34m(\u001b[0m\u001b[0;34m\"cannot reindex from a duplicate axis\"\u001b[0m\u001b[0;34m)\u001b[0m\u001b[0;34m\u001b[0m\u001b[0;34m\u001b[0m\u001b[0m\n\u001b[0m\u001b[1;32m   3088\u001b[0m \u001b[0;34m\u001b[0m\u001b[0m\n\u001b[1;32m   3089\u001b[0m     def reindex(self, target, method=None, level=None, limit=None,\n",
            "\u001b[0;31mValueError\u001b[0m: cannot reindex from a duplicate axis"
          ]
        }
      ]
    },
    {
      "cell_type": "code",
      "metadata": {
        "scrolled": false,
        "id": "vRCdUC3TFNzD",
        "colab_type": "code",
        "outputId": "a4b4959f-a502-43ce-d549-4cb5483d12fb",
        "colab": {
          "base_uri": "https://localhost:8080/",
          "height": 90
        }
      },
      "source": [
        "n_input = 5\n",
        "train_size = int(0.7 * len(y_b))\n",
        "y_b_train = y_b[:train_size]\n",
        "y_b_test = y_b[train_size:]\n",
        "generator_train = TimeseriesGenerator(y_b_train, y_b_train, length=n_input, batch_size=1, )\n",
        "generator_test = TimeseriesGenerator(y_b_test, y_b_test, length=n_input, batch_size=1)\n",
        "print('Samples: %d' % len(generator_train))\n",
        "for i in range(3):\n",
        "    x, y = generator_train[i]\n",
        "    print('%s => %s' % (x, y))"
      ],
      "execution_count": 0,
      "outputs": [
        {
          "output_type": "stream",
          "text": [
            "Samples: 342\n",
            "[[7.83550016 7.82306553 7.81981708 7.82268509 7.81895306]] => [7.8123175]\n",
            "[[7.82306553 7.81981708 7.82268509 7.81895306 7.8123175 ]] => [7.81784684]\n",
            "[[7.81981708 7.82268509 7.81895306 7.8123175  7.81784684]] => [7.82258494]\n"
          ],
          "name": "stdout"
        }
      ]
    },
    {
      "cell_type": "code",
      "metadata": {
        "scrolled": false,
        "id": "2S8vVkFgFNzF",
        "colab_type": "code",
        "outputId": "5075e68c-d157-40ac-f909-48117c897937",
        "colab": {
          "base_uri": "https://localhost:8080/",
          "height": 528
        }
      },
      "source": [
        "tf.set_random_seed(1)\n",
        "np.random.seed(1)\n",
        "\n",
        "\n",
        "model = keras.Sequential([\n",
        "    keras.layers.InputLayer(input_shape = (n_input,)),\n",
        "    keras.layers.Dense(1, activation = None, kernel_initializer = keras.initializers.he_uniform(seed = 1.0))\n",
        "])\n",
        "model.compile(loss = \"mse\", optimizer = keras.optimizers.SGD(lr = 0.1))\n",
        "model.summary()\n",
        "\n",
        "model.fit_generator(generator_train, steps_per_epoch=1, epochs=500, verbose=0)\n",
        "y_b_test_pred = model.predict_generator(generator_test, use_multiprocessing = True)\n",
        "layer = model.layers[0]\n",
        "print(layer.get_weights())"
      ],
      "execution_count": 0,
      "outputs": [
        {
          "output_type": "stream",
          "text": [
            "WARNING: Logging before flag parsing goes to stderr.\n",
            "W0827 08:10:42.962398 139666375608192 deprecation_wrapper.py:119] From /usr/local/lib/python3.6/dist-packages/keras/backend/tensorflow_backend.py:74: The name tf.get_default_graph is deprecated. Please use tf.compat.v1.get_default_graph instead.\n",
            "\n",
            "W0827 08:10:42.963707 139666375608192 deprecation_wrapper.py:119] From /usr/local/lib/python3.6/dist-packages/keras/backend/tensorflow_backend.py:517: The name tf.placeholder is deprecated. Please use tf.compat.v1.placeholder instead.\n",
            "\n",
            "W0827 08:10:42.976408 139666375608192 deprecation_wrapper.py:119] From /usr/local/lib/python3.6/dist-packages/keras/backend/tensorflow_backend.py:4138: The name tf.random_uniform is deprecated. Please use tf.random.uniform instead.\n",
            "\n",
            "W0827 08:10:43.011034 139666375608192 deprecation_wrapper.py:119] From /usr/local/lib/python3.6/dist-packages/keras/optimizers.py:790: The name tf.train.Optimizer is deprecated. Please use tf.compat.v1.train.Optimizer instead.\n",
            "\n",
            "W0827 08:10:43.145092 139666375608192 deprecation_wrapper.py:119] From /usr/local/lib/python3.6/dist-packages/keras/backend/tensorflow_backend.py:986: The name tf.assign_add is deprecated. Please use tf.compat.v1.assign_add instead.\n",
            "\n",
            "W0827 08:10:43.159053 139666375608192 deprecation_wrapper.py:119] From /usr/local/lib/python3.6/dist-packages/keras/backend/tensorflow_backend.py:973: The name tf.assign is deprecated. Please use tf.compat.v1.assign instead.\n",
            "\n"
          ],
          "name": "stderr"
        },
        {
          "output_type": "stream",
          "text": [
            "_________________________________________________________________\n",
            "Layer (type)                 Output Shape              Param #   \n",
            "=================================================================\n",
            "dense_1 (Dense)              (None, 1)                 6         \n",
            "=================================================================\n",
            "Total params: 6\n",
            "Trainable params: 6\n",
            "Non-trainable params: 0\n",
            "_________________________________________________________________\n",
            "[array([[nan],\n",
            "       [nan],\n",
            "       [nan],\n",
            "       [nan],\n",
            "       [nan]], dtype=float32), array([nan], dtype=float32)]\n"
          ],
          "name": "stdout"
        }
      ]
    },
    {
      "cell_type": "code",
      "metadata": {
        "id": "3QIRK6mCFNzH",
        "colab_type": "code",
        "outputId": "2a791b70-1fc0-44dc-c6a3-fc488a3c6959",
        "colab": {
          "base_uri": "https://localhost:8080/",
          "height": 35
        }
      },
      "source": [
        "y_b_test_pred.shape, y_b_test.shape"
      ],
      "execution_count": 0,
      "outputs": [
        {
          "output_type": "execute_result",
          "data": {
            "text/plain": [
              "((145, 1), (150,))"
            ]
          },
          "metadata": {
            "tags": []
          },
          "execution_count": 38
        }
      ]
    },
    {
      "cell_type": "code",
      "metadata": {
        "id": "hordyhvxFNzJ",
        "colab_type": "code",
        "outputId": "b3bf3a0c-72a5-40d5-8f15-e7fcc1b58391",
        "colab": {
          "base_uri": "https://localhost:8080/",
          "height": 342
        }
      },
      "source": [
        "metrics.mean_squared_error(y_b_test[n_input:] * 10.0, y_b_test_pred * 10.0) ** 0.5"
      ],
      "execution_count": 0,
      "outputs": [
        {
          "output_type": "error",
          "ename": "ValueError",
          "evalue": "ignored",
          "traceback": [
            "\u001b[0;31m---------------------------------------------------------------------------\u001b[0m",
            "\u001b[0;31mValueError\u001b[0m                                Traceback (most recent call last)",
            "\u001b[0;32m<ipython-input-40-94ed31c9d75a>\u001b[0m in \u001b[0;36m<module>\u001b[0;34m()\u001b[0m\n\u001b[0;32m----> 1\u001b[0;31m \u001b[0mmetrics\u001b[0m\u001b[0;34m.\u001b[0m\u001b[0mmean_squared_error\u001b[0m\u001b[0;34m(\u001b[0m\u001b[0my_b_test\u001b[0m\u001b[0;34m[\u001b[0m\u001b[0mn_input\u001b[0m\u001b[0;34m:\u001b[0m\u001b[0;34m]\u001b[0m \u001b[0;34m*\u001b[0m \u001b[0;36m10.0\u001b[0m\u001b[0;34m,\u001b[0m \u001b[0my_b_test_pred\u001b[0m \u001b[0;34m*\u001b[0m \u001b[0;36m10.0\u001b[0m\u001b[0;34m)\u001b[0m \u001b[0;34m**\u001b[0m \u001b[0;36m0.5\u001b[0m\u001b[0;34m\u001b[0m\u001b[0;34m\u001b[0m\u001b[0m\n\u001b[0m",
            "\u001b[0;32m/usr/local/lib/python3.6/dist-packages/sklearn/metrics/regression.py\u001b[0m in \u001b[0;36mmean_squared_error\u001b[0;34m(y_true, y_pred, sample_weight, multioutput)\u001b[0m\n\u001b[1;32m    239\u001b[0m     \"\"\"\n\u001b[1;32m    240\u001b[0m     y_type, y_true, y_pred, multioutput = _check_reg_targets(\n\u001b[0;32m--> 241\u001b[0;31m         y_true, y_pred, multioutput)\n\u001b[0m\u001b[1;32m    242\u001b[0m     \u001b[0mcheck_consistent_length\u001b[0m\u001b[0;34m(\u001b[0m\u001b[0my_true\u001b[0m\u001b[0;34m,\u001b[0m \u001b[0my_pred\u001b[0m\u001b[0;34m,\u001b[0m \u001b[0msample_weight\u001b[0m\u001b[0;34m)\u001b[0m\u001b[0;34m\u001b[0m\u001b[0;34m\u001b[0m\u001b[0m\n\u001b[1;32m    243\u001b[0m     output_errors = np.average((y_true - y_pred) ** 2, axis=0,\n",
            "\u001b[0;32m/usr/local/lib/python3.6/dist-packages/sklearn/metrics/regression.py\u001b[0m in \u001b[0;36m_check_reg_targets\u001b[0;34m(y_true, y_pred, multioutput)\u001b[0m\n\u001b[1;32m     77\u001b[0m     \u001b[0mcheck_consistent_length\u001b[0m\u001b[0;34m(\u001b[0m\u001b[0my_true\u001b[0m\u001b[0;34m,\u001b[0m \u001b[0my_pred\u001b[0m\u001b[0;34m)\u001b[0m\u001b[0;34m\u001b[0m\u001b[0;34m\u001b[0m\u001b[0m\n\u001b[1;32m     78\u001b[0m     \u001b[0my_true\u001b[0m \u001b[0;34m=\u001b[0m \u001b[0mcheck_array\u001b[0m\u001b[0;34m(\u001b[0m\u001b[0my_true\u001b[0m\u001b[0;34m,\u001b[0m \u001b[0mensure_2d\u001b[0m\u001b[0;34m=\u001b[0m\u001b[0;32mFalse\u001b[0m\u001b[0;34m)\u001b[0m\u001b[0;34m\u001b[0m\u001b[0;34m\u001b[0m\u001b[0m\n\u001b[0;32m---> 79\u001b[0;31m     \u001b[0my_pred\u001b[0m \u001b[0;34m=\u001b[0m \u001b[0mcheck_array\u001b[0m\u001b[0;34m(\u001b[0m\u001b[0my_pred\u001b[0m\u001b[0;34m,\u001b[0m \u001b[0mensure_2d\u001b[0m\u001b[0;34m=\u001b[0m\u001b[0;32mFalse\u001b[0m\u001b[0;34m)\u001b[0m\u001b[0;34m\u001b[0m\u001b[0;34m\u001b[0m\u001b[0m\n\u001b[0m\u001b[1;32m     80\u001b[0m \u001b[0;34m\u001b[0m\u001b[0m\n\u001b[1;32m     81\u001b[0m     \u001b[0;32mif\u001b[0m \u001b[0my_true\u001b[0m\u001b[0;34m.\u001b[0m\u001b[0mndim\u001b[0m \u001b[0;34m==\u001b[0m \u001b[0;36m1\u001b[0m\u001b[0;34m:\u001b[0m\u001b[0;34m\u001b[0m\u001b[0;34m\u001b[0m\u001b[0m\n",
            "\u001b[0;32m/usr/local/lib/python3.6/dist-packages/sklearn/utils/validation.py\u001b[0m in \u001b[0;36mcheck_array\u001b[0;34m(array, accept_sparse, accept_large_sparse, dtype, order, copy, force_all_finite, ensure_2d, allow_nd, ensure_min_samples, ensure_min_features, warn_on_dtype, estimator)\u001b[0m\n\u001b[1;32m    540\u001b[0m         \u001b[0;32mif\u001b[0m \u001b[0mforce_all_finite\u001b[0m\u001b[0;34m:\u001b[0m\u001b[0;34m\u001b[0m\u001b[0;34m\u001b[0m\u001b[0m\n\u001b[1;32m    541\u001b[0m             _assert_all_finite(array,\n\u001b[0;32m--> 542\u001b[0;31m                                allow_nan=force_all_finite == 'allow-nan')\n\u001b[0m\u001b[1;32m    543\u001b[0m \u001b[0;34m\u001b[0m\u001b[0m\n\u001b[1;32m    544\u001b[0m     \u001b[0;32mif\u001b[0m \u001b[0mensure_min_samples\u001b[0m \u001b[0;34m>\u001b[0m \u001b[0;36m0\u001b[0m\u001b[0;34m:\u001b[0m\u001b[0;34m\u001b[0m\u001b[0;34m\u001b[0m\u001b[0m\n",
            "\u001b[0;32m/usr/local/lib/python3.6/dist-packages/sklearn/utils/validation.py\u001b[0m in \u001b[0;36m_assert_all_finite\u001b[0;34m(X, allow_nan)\u001b[0m\n\u001b[1;32m     54\u001b[0m                 not allow_nan and not np.isfinite(X).all()):\n\u001b[1;32m     55\u001b[0m             \u001b[0mtype_err\u001b[0m \u001b[0;34m=\u001b[0m \u001b[0;34m'infinity'\u001b[0m \u001b[0;32mif\u001b[0m \u001b[0mallow_nan\u001b[0m \u001b[0;32melse\u001b[0m \u001b[0;34m'NaN, infinity'\u001b[0m\u001b[0;34m\u001b[0m\u001b[0;34m\u001b[0m\u001b[0m\n\u001b[0;32m---> 56\u001b[0;31m             \u001b[0;32mraise\u001b[0m \u001b[0mValueError\u001b[0m\u001b[0;34m(\u001b[0m\u001b[0mmsg_err\u001b[0m\u001b[0;34m.\u001b[0m\u001b[0mformat\u001b[0m\u001b[0;34m(\u001b[0m\u001b[0mtype_err\u001b[0m\u001b[0;34m,\u001b[0m \u001b[0mX\u001b[0m\u001b[0;34m.\u001b[0m\u001b[0mdtype\u001b[0m\u001b[0;34m)\u001b[0m\u001b[0;34m)\u001b[0m\u001b[0;34m\u001b[0m\u001b[0;34m\u001b[0m\u001b[0m\n\u001b[0m\u001b[1;32m     57\u001b[0m     \u001b[0;31m# for object dtype data, we only check for NaNs (GH-13254)\u001b[0m\u001b[0;34m\u001b[0m\u001b[0;34m\u001b[0m\u001b[0;34m\u001b[0m\u001b[0m\n\u001b[1;32m     58\u001b[0m     \u001b[0;32melif\u001b[0m \u001b[0mX\u001b[0m\u001b[0;34m.\u001b[0m\u001b[0mdtype\u001b[0m \u001b[0;34m==\u001b[0m \u001b[0mnp\u001b[0m\u001b[0;34m.\u001b[0m\u001b[0mdtype\u001b[0m\u001b[0;34m(\u001b[0m\u001b[0;34m'object'\u001b[0m\u001b[0;34m)\u001b[0m \u001b[0;32mand\u001b[0m \u001b[0;32mnot\u001b[0m \u001b[0mallow_nan\u001b[0m\u001b[0;34m:\u001b[0m\u001b[0;34m\u001b[0m\u001b[0;34m\u001b[0m\u001b[0m\n",
            "\u001b[0;31mValueError\u001b[0m: Input contains NaN, infinity or a value too large for dtype('float32')."
          ]
        }
      ]
    },
    {
      "cell_type": "code",
      "metadata": {
        "id": "9-H8rTDSFNzL",
        "colab_type": "code",
        "outputId": "d4e7b47c-cfa3-4353-c632-81c24c485fdd",
        "colab": {
          "base_uri": "https://localhost:8080/",
          "height": 308
        }
      },
      "source": [
        "y_b = y_b_test_pred.flatten()\n",
        "y_b = y_b_test_pred.reshape((len(y_b), 1))\n",
        "\n",
        "train_size = int(0.7 * len(y_b))\n",
        "y_b_train = y_b[:train_size]\n",
        "y_b_test = y_b[train_size:]\n",
        "\n",
        "n_input = 5\n",
        "\n",
        "generator_train = TimeseriesGenerator(y_b_train, y_b_train, length=n_input, batch_size=1, )\n",
        "generator_test = TimeseriesGenerator(y_b_test, y_b_test, length=n_input, batch_size=1)\n",
        "print('Samples: %d' % len(generator_train))\n",
        "for i in range(3):\n",
        "    x, y = generator_train[i]\n",
        "    print('%s => %s' % (x, y))\n"
      ],
      "execution_count": 0,
      "outputs": [
        {
          "output_type": "stream",
          "text": [
            "Samples: 96\n",
            "[[[nan]\n",
            "  [nan]\n",
            "  [nan]\n",
            "  [nan]\n",
            "  [nan]]] => [[nan]]\n",
            "[[[nan]\n",
            "  [nan]\n",
            "  [nan]\n",
            "  [nan]\n",
            "  [nan]]] => [[nan]]\n",
            "[[[nan]\n",
            "  [nan]\n",
            "  [nan]\n",
            "  [nan]\n",
            "  [nan]]] => [[nan]]\n"
          ],
          "name": "stdout"
        }
      ]
    },
    {
      "cell_type": "code",
      "metadata": {
        "scrolled": false,
        "id": "uVOsNnhrFNzP",
        "colab_type": "code",
        "outputId": "bdaea6f7-ab88-4021-fc2c-8245b6a66e8f",
        "colab": {
          "base_uri": "https://localhost:8080/",
          "height": 1000
        }
      },
      "source": [
        "model = keras.Sequential([\n",
        "    keras.layers.InputLayer(input_shape = (n_input,1)),\n",
        "    keras.layers.LSTM(units = 100),\n",
        "    #keras.layers.Flatten(),\n",
        "    keras.layers.Dense(units = 1, activation = None)\n",
        "   \n",
        "\n",
        "])\n",
        "model.compile(loss = \"mse\", optimizer = \"adam\")\n",
        "model.summary()\n",
        "\n",
        "model.fit_generator(generator_train, steps_per_epoch=1, epochs=500, verbose=1)\n",
        "y_b_test_pred = model.predict_generator(generator_test)\n",
        "layer = model.layers[0]\n",
        "#print(layer.get_weights())"
      ],
      "execution_count": 0,
      "outputs": [
        {
          "output_type": "stream",
          "text": [
            "W0827 08:10:58.015248 139666375608192 deprecation.py:323] From /usr/local/lib/python3.6/dist-packages/tensorflow/python/ops/math_grad.py:1250: add_dispatch_support.<locals>.wrapper (from tensorflow.python.ops.array_ops) is deprecated and will be removed in a future version.\n",
            "Instructions for updating:\n",
            "Use tf.where in 2.0, which has the same broadcast rule as np.where\n"
          ],
          "name": "stderr"
        },
        {
          "output_type": "stream",
          "text": [
            "_________________________________________________________________\n",
            "Layer (type)                 Output Shape              Param #   \n",
            "=================================================================\n",
            "lstm_1 (LSTM)                (None, 100)               40800     \n",
            "_________________________________________________________________\n",
            "dense_2 (Dense)              (None, 1)                 101       \n",
            "=================================================================\n",
            "Total params: 40,901\n",
            "Trainable params: 40,901\n",
            "Non-trainable params: 0\n",
            "_________________________________________________________________\n",
            "Epoch 1/500\n",
            "1/1 [==============================] - 1s 753ms/step - loss: nan\n",
            "Epoch 2/500\n",
            "1/1 [==============================] - 0s 11ms/step - loss: nan\n",
            "Epoch 3/500\n",
            "1/1 [==============================] - 0s 11ms/step - loss: nan\n",
            "Epoch 4/500\n",
            "1/1 [==============================] - 0s 11ms/step - loss: nan\n",
            "Epoch 5/500\n",
            "1/1 [==============================] - 0s 9ms/step - loss: nan\n",
            "Epoch 6/500\n",
            "1/1 [==============================] - 0s 9ms/step - loss: nan\n",
            "Epoch 7/500\n",
            "1/1 [==============================] - 0s 8ms/step - loss: nan\n",
            "Epoch 8/500\n",
            "1/1 [==============================] - 0s 8ms/step - loss: nan\n",
            "Epoch 9/500\n",
            "1/1 [==============================] - 0s 8ms/step - loss: nan\n",
            "Epoch 10/500\n",
            "1/1 [==============================] - 0s 9ms/step - loss: nan\n",
            "Epoch 11/500\n",
            "1/1 [==============================] - 0s 9ms/step - loss: nan\n",
            "Epoch 12/500\n",
            "1/1 [==============================] - 0s 9ms/step - loss: nan\n",
            "Epoch 13/500\n",
            "1/1 [==============================] - 0s 8ms/step - loss: nan\n",
            "Epoch 14/500\n",
            "1/1 [==============================] - 0s 9ms/step - loss: nan\n",
            "Epoch 15/500\n",
            "1/1 [==============================] - 0s 9ms/step - loss: nan\n",
            "Epoch 16/500\n",
            "1/1 [==============================] - 0s 7ms/step - loss: nan\n",
            "Epoch 17/500\n",
            "1/1 [==============================] - 0s 9ms/step - loss: nan\n",
            "Epoch 18/500\n",
            "1/1 [==============================] - 0s 9ms/step - loss: nan\n",
            "Epoch 19/500\n",
            "1/1 [==============================] - 0s 9ms/step - loss: nan\n",
            "Epoch 20/500\n",
            "1/1 [==============================] - 0s 7ms/step - loss: nan\n",
            "Epoch 21/500\n",
            "1/1 [==============================] - 0s 9ms/step - loss: nan\n",
            "Epoch 22/500\n",
            "1/1 [==============================] - 0s 9ms/step - loss: nan\n",
            "Epoch 23/500\n",
            "1/1 [==============================] - 0s 10ms/step - loss: nan\n",
            "Epoch 24/500\n",
            "1/1 [==============================] - 0s 11ms/step - loss: nan\n",
            "Epoch 25/500\n",
            "1/1 [==============================] - 0s 10ms/step - loss: nan\n",
            "Epoch 26/500\n",
            "1/1 [==============================] - 0s 11ms/step - loss: nan\n",
            "Epoch 27/500\n",
            "1/1 [==============================] - 0s 8ms/step - loss: nan\n",
            "Epoch 28/500\n",
            "1/1 [==============================] - 0s 10ms/step - loss: nan\n",
            "Epoch 29/500\n",
            "1/1 [==============================] - 0s 11ms/step - loss: nan\n",
            "Epoch 30/500\n",
            "1/1 [==============================] - 0s 11ms/step - loss: nan\n",
            "Epoch 31/500\n",
            "1/1 [==============================] - 0s 11ms/step - loss: nan\n",
            "Epoch 32/500\n",
            "1/1 [==============================] - 0s 9ms/step - loss: nan\n",
            "Epoch 33/500\n",
            "1/1 [==============================] - 0s 11ms/step - loss: nan\n",
            "Epoch 34/500\n",
            "1/1 [==============================] - 0s 12ms/step - loss: nan\n",
            "Epoch 35/500\n",
            "1/1 [==============================] - 0s 9ms/step - loss: nan\n",
            "Epoch 36/500\n",
            "1/1 [==============================] - 0s 11ms/step - loss: nan\n",
            "Epoch 37/500\n",
            "1/1 [==============================] - 0s 10ms/step - loss: nan\n",
            "Epoch 38/500\n",
            "1/1 [==============================] - 0s 14ms/step - loss: nan\n",
            "Epoch 39/500\n",
            "1/1 [==============================] - 0s 8ms/step - loss: nan\n",
            "Epoch 40/500\n",
            "1/1 [==============================] - 0s 10ms/step - loss: nan\n",
            "Epoch 41/500\n",
            "1/1 [==============================] - 0s 9ms/step - loss: nan\n",
            "Epoch 42/500\n",
            "1/1 [==============================] - 0s 15ms/step - loss: nan\n",
            "Epoch 43/500\n",
            "1/1 [==============================] - 0s 8ms/step - loss: nan\n",
            "Epoch 44/500\n",
            "1/1 [==============================] - 0s 9ms/step - loss: nan\n",
            "Epoch 45/500\n",
            "1/1 [==============================] - 0s 9ms/step - loss: nan\n",
            "Epoch 46/500\n",
            "1/1 [==============================] - 0s 9ms/step - loss: nan\n",
            "Epoch 47/500\n",
            "1/1 [==============================] - 0s 10ms/step - loss: nan\n",
            "Epoch 48/500\n",
            "1/1 [==============================] - 0s 10ms/step - loss: nan\n",
            "Epoch 49/500\n",
            "1/1 [==============================] - 0s 10ms/step - loss: nan\n",
            "Epoch 50/500\n",
            "1/1 [==============================] - 0s 9ms/step - loss: nan\n",
            "Epoch 51/500\n",
            "1/1 [==============================] - 0s 8ms/step - loss: nan\n",
            "Epoch 52/500\n",
            "1/1 [==============================] - 0s 10ms/step - loss: nan\n",
            "Epoch 53/500\n",
            "1/1 [==============================] - 0s 9ms/step - loss: nan\n",
            "Epoch 54/500\n",
            "1/1 [==============================] - 0s 10ms/step - loss: nan\n",
            "Epoch 55/500\n",
            "1/1 [==============================] - 0s 9ms/step - loss: nan\n",
            "Epoch 56/500\n",
            "1/1 [==============================] - 0s 10ms/step - loss: nan\n",
            "Epoch 57/500\n",
            "1/1 [==============================] - 0s 9ms/step - loss: nan\n",
            "Epoch 58/500\n",
            "1/1 [==============================] - 0s 8ms/step - loss: nan\n",
            "Epoch 59/500\n",
            "1/1 [==============================] - 0s 13ms/step - loss: nan\n",
            "Epoch 60/500\n",
            "1/1 [==============================] - 0s 18ms/step - loss: nan\n",
            "Epoch 61/500\n",
            "1/1 [==============================] - 0s 11ms/step - loss: nan\n",
            "Epoch 62/500\n",
            "1/1 [==============================] - 0s 13ms/step - loss: nan\n",
            "Epoch 63/500\n",
            "1/1 [==============================] - 0s 13ms/step - loss: nan\n",
            "Epoch 64/500\n",
            "1/1 [==============================] - 0s 10ms/step - loss: nan\n",
            "Epoch 65/500\n",
            "1/1 [==============================] - 0s 11ms/step - loss: nan\n",
            "Epoch 66/500\n",
            "1/1 [==============================] - 0s 9ms/step - loss: nan\n",
            "Epoch 67/500\n",
            "1/1 [==============================] - 0s 9ms/step - loss: nan\n",
            "Epoch 68/500\n",
            "1/1 [==============================] - 0s 8ms/step - loss: nan\n",
            "Epoch 69/500\n",
            "1/1 [==============================] - 0s 15ms/step - loss: nan\n",
            "Epoch 70/500\n",
            "1/1 [==============================] - 0s 11ms/step - loss: nan\n",
            "Epoch 71/500\n",
            "1/1 [==============================] - 0s 11ms/step - loss: nan\n",
            "Epoch 72/500\n",
            "1/1 [==============================] - 0s 17ms/step - loss: nan\n",
            "Epoch 73/500\n",
            "1/1 [==============================] - 0s 9ms/step - loss: nan\n",
            "Epoch 74/500\n",
            "1/1 [==============================] - 0s 13ms/step - loss: nan\n",
            "Epoch 75/500\n",
            "1/1 [==============================] - 0s 9ms/step - loss: nan\n",
            "Epoch 76/500\n",
            "1/1 [==============================] - 0s 12ms/step - loss: nan\n",
            "Epoch 77/500\n",
            "1/1 [==============================] - 0s 12ms/step - loss: nan\n",
            "Epoch 78/500\n",
            "1/1 [==============================] - 0s 13ms/step - loss: nan\n",
            "Epoch 79/500\n",
            "1/1 [==============================] - 0s 7ms/step - loss: nan\n",
            "Epoch 80/500\n",
            "1/1 [==============================] - 0s 12ms/step - loss: nan\n",
            "Epoch 81/500\n",
            "1/1 [==============================] - 0s 11ms/step - loss: nan\n",
            "Epoch 82/500\n",
            "1/1 [==============================] - 0s 12ms/step - loss: nan\n",
            "Epoch 83/500\n",
            "1/1 [==============================] - 0s 12ms/step - loss: nan\n",
            "Epoch 84/500\n",
            "1/1 [==============================] - 0s 11ms/step - loss: nan\n",
            "Epoch 85/500\n",
            "1/1 [==============================] - 0s 12ms/step - loss: nan\n",
            "Epoch 86/500\n",
            "1/1 [==============================] - 0s 12ms/step - loss: nan\n",
            "Epoch 87/500\n",
            "1/1 [==============================] - 0s 11ms/step - loss: nan\n",
            "Epoch 88/500\n",
            "1/1 [==============================] - 0s 8ms/step - loss: nan\n",
            "Epoch 89/500\n",
            "1/1 [==============================] - 0s 11ms/step - loss: nan\n",
            "Epoch 90/500\n",
            "1/1 [==============================] - 0s 12ms/step - loss: nan\n",
            "Epoch 91/500\n",
            "1/1 [==============================] - 0s 10ms/step - loss: nan\n",
            "Epoch 92/500\n",
            "1/1 [==============================] - 0s 11ms/step - loss: nan\n",
            "Epoch 93/500\n",
            "1/1 [==============================] - 0s 11ms/step - loss: nan\n",
            "Epoch 94/500\n",
            "1/1 [==============================] - 0s 11ms/step - loss: nan\n",
            "Epoch 95/500\n",
            "1/1 [==============================] - 0s 9ms/step - loss: nan\n",
            "Epoch 96/500\n",
            "1/1 [==============================] - 0s 11ms/step - loss: nan\n",
            "Epoch 97/500\n",
            "1/1 [==============================] - 0s 79ms/step - loss: nan\n",
            "Epoch 98/500\n",
            "1/1 [==============================] - 0s 11ms/step - loss: nan\n",
            "Epoch 99/500\n",
            "1/1 [==============================] - 0s 11ms/step - loss: nan\n",
            "Epoch 100/500\n",
            "1/1 [==============================] - 0s 9ms/step - loss: nan\n",
            "Epoch 101/500\n",
            "1/1 [==============================] - 0s 11ms/step - loss: nan\n",
            "Epoch 102/500\n",
            "1/1 [==============================] - 0s 13ms/step - loss: nan\n",
            "Epoch 103/500\n",
            "1/1 [==============================] - 0s 11ms/step - loss: nan\n",
            "Epoch 104/500\n",
            "1/1 [==============================] - 0s 8ms/step - loss: nan\n",
            "Epoch 105/500\n",
            "1/1 [==============================] - 0s 13ms/step - loss: nan\n",
            "Epoch 106/500\n",
            "1/1 [==============================] - 0s 10ms/step - loss: nan\n",
            "Epoch 107/500\n",
            "1/1 [==============================] - 0s 11ms/step - loss: nan\n",
            "Epoch 108/500\n",
            "1/1 [==============================] - 0s 10ms/step - loss: nan\n",
            "Epoch 109/500\n",
            "1/1 [==============================] - 0s 9ms/step - loss: nan\n",
            "Epoch 110/500\n",
            "1/1 [==============================] - 0s 9ms/step - loss: nan\n",
            "Epoch 111/500\n",
            "1/1 [==============================] - 0s 8ms/step - loss: nan\n",
            "Epoch 112/500\n",
            "1/1 [==============================] - 0s 7ms/step - loss: nan\n",
            "Epoch 113/500\n",
            "1/1 [==============================] - 0s 8ms/step - loss: nan\n",
            "Epoch 114/500\n",
            "1/1 [==============================] - 0s 9ms/step - loss: nan\n",
            "Epoch 115/500\n",
            "1/1 [==============================] - 0s 9ms/step - loss: nan\n",
            "Epoch 116/500\n",
            "1/1 [==============================] - 0s 10ms/step - loss: nan\n",
            "Epoch 117/500\n",
            "1/1 [==============================] - 0s 11ms/step - loss: nan\n",
            "Epoch 118/500\n",
            "1/1 [==============================] - 0s 11ms/step - loss: nan\n",
            "Epoch 119/500\n",
            "1/1 [==============================] - 0s 11ms/step - loss: nan\n",
            "Epoch 120/500\n",
            "1/1 [==============================] - 0s 12ms/step - loss: nan\n",
            "Epoch 121/500\n",
            "1/1 [==============================] - 0s 12ms/step - loss: nan\n",
            "Epoch 122/500\n",
            "1/1 [==============================] - 0s 8ms/step - loss: nan\n",
            "Epoch 123/500\n",
            "1/1 [==============================] - 0s 12ms/step - loss: nan\n",
            "Epoch 124/500\n",
            "1/1 [==============================] - 0s 12ms/step - loss: nan\n",
            "Epoch 125/500\n",
            "1/1 [==============================] - 0s 13ms/step - loss: nan\n",
            "Epoch 126/500\n",
            "1/1 [==============================] - 0s 12ms/step - loss: nan\n",
            "Epoch 127/500\n",
            "1/1 [==============================] - 0s 13ms/step - loss: nan\n",
            "Epoch 128/500\n",
            "1/1 [==============================] - 0s 14ms/step - loss: nan\n",
            "Epoch 129/500\n",
            "1/1 [==============================] - 0s 12ms/step - loss: nan\n",
            "Epoch 130/500\n",
            "1/1 [==============================] - 0s 11ms/step - loss: nan\n",
            "Epoch 131/500\n",
            "1/1 [==============================] - 0s 11ms/step - loss: nan\n",
            "Epoch 132/500\n",
            "1/1 [==============================] - 0s 12ms/step - loss: nan\n",
            "Epoch 133/500\n",
            "1/1 [==============================] - 0s 8ms/step - loss: nan\n",
            "Epoch 134/500\n",
            "1/1 [==============================] - 0s 12ms/step - loss: nan\n",
            "Epoch 135/500\n",
            "1/1 [==============================] - 0s 10ms/step - loss: nan\n",
            "Epoch 136/500\n",
            "1/1 [==============================] - 0s 9ms/step - loss: nan\n",
            "Epoch 137/500\n",
            "1/1 [==============================] - 0s 9ms/step - loss: nan\n",
            "Epoch 138/500\n",
            "1/1 [==============================] - 0s 12ms/step - loss: nan\n",
            "Epoch 139/500\n",
            "1/1 [==============================] - 0s 11ms/step - loss: nan\n",
            "Epoch 140/500\n",
            "1/1 [==============================] - 0s 14ms/step - loss: nan\n",
            "Epoch 141/500\n",
            "1/1 [==============================] - 0s 12ms/step - loss: nan\n",
            "Epoch 142/500\n",
            "1/1 [==============================] - 0s 14ms/step - loss: nan\n",
            "Epoch 143/500\n",
            "1/1 [==============================] - 0s 9ms/step - loss: nan\n",
            "Epoch 144/500\n",
            "1/1 [==============================] - 0s 10ms/step - loss: nan\n",
            "Epoch 145/500\n",
            "1/1 [==============================] - 0s 11ms/step - loss: nan\n",
            "Epoch 146/500\n",
            "1/1 [==============================] - 0s 14ms/step - loss: nan\n",
            "Epoch 147/500\n",
            "1/1 [==============================] - 0s 12ms/step - loss: nan\n",
            "Epoch 148/500\n",
            "1/1 [==============================] - 0s 9ms/step - loss: nan\n",
            "Epoch 149/500\n",
            "1/1 [==============================] - 0s 10ms/step - loss: nan\n",
            "Epoch 150/500\n",
            "1/1 [==============================] - 0s 12ms/step - loss: nan\n",
            "Epoch 151/500\n",
            "1/1 [==============================] - 0s 11ms/step - loss: nan\n",
            "Epoch 152/500\n",
            "1/1 [==============================] - 0s 14ms/step - loss: nan\n",
            "Epoch 153/500\n",
            "1/1 [==============================] - 0s 12ms/step - loss: nan\n",
            "Epoch 154/500\n",
            "1/1 [==============================] - 0s 12ms/step - loss: nan\n",
            "Epoch 155/500\n",
            "1/1 [==============================] - 0s 17ms/step - loss: nan\n",
            "Epoch 156/500\n",
            "1/1 [==============================] - 0s 9ms/step - loss: nan\n",
            "Epoch 157/500\n",
            "1/1 [==============================] - 0s 14ms/step - loss: nan\n",
            "Epoch 158/500\n",
            "1/1 [==============================] - 0s 12ms/step - loss: nan\n",
            "Epoch 159/500\n",
            "1/1 [==============================] - 0s 12ms/step - loss: nan\n",
            "Epoch 160/500\n",
            "1/1 [==============================] - 0s 12ms/step - loss: nan\n",
            "Epoch 161/500\n",
            "1/1 [==============================] - 0s 7ms/step - loss: nan\n",
            "Epoch 162/500\n",
            "1/1 [==============================] - 0s 13ms/step - loss: nan\n",
            "Epoch 163/500\n",
            "1/1 [==============================] - 0s 12ms/step - loss: nan\n",
            "Epoch 164/500\n",
            "1/1 [==============================] - 0s 11ms/step - loss: nan\n",
            "Epoch 165/500\n",
            "1/1 [==============================] - 0s 8ms/step - loss: nan\n",
            "Epoch 166/500\n",
            "1/1 [==============================] - 0s 9ms/step - loss: nan\n",
            "Epoch 167/500\n",
            "1/1 [==============================] - 0s 8ms/step - loss: nan\n",
            "Epoch 168/500\n",
            "1/1 [==============================] - 0s 13ms/step - loss: nan\n",
            "Epoch 169/500\n",
            "1/1 [==============================] - 0s 9ms/step - loss: nan\n",
            "Epoch 170/500\n",
            "1/1 [==============================] - 0s 9ms/step - loss: nan\n",
            "Epoch 171/500\n",
            "1/1 [==============================] - 0s 8ms/step - loss: nan\n",
            "Epoch 172/500\n",
            "1/1 [==============================] - 0s 8ms/step - loss: nan\n",
            "Epoch 173/500\n",
            "1/1 [==============================] - 0s 11ms/step - loss: nan\n",
            "Epoch 174/500\n",
            "1/1 [==============================] - 0s 11ms/step - loss: nan\n",
            "Epoch 175/500\n",
            "1/1 [==============================] - 0s 11ms/step - loss: nan\n",
            "Epoch 176/500\n",
            "1/1 [==============================] - 0s 11ms/step - loss: nan\n",
            "Epoch 177/500\n",
            "1/1 [==============================] - 0s 11ms/step - loss: nan\n",
            "Epoch 178/500\n",
            "1/1 [==============================] - 0s 11ms/step - loss: nan\n",
            "Epoch 179/500\n",
            "1/1 [==============================] - 0s 12ms/step - loss: nan\n",
            "Epoch 180/500\n",
            "1/1 [==============================] - 0s 12ms/step - loss: nan\n",
            "Epoch 181/500\n",
            "1/1 [==============================] - 0s 14ms/step - loss: nan\n",
            "Epoch 182/500\n",
            "1/1 [==============================] - 0s 12ms/step - loss: nan\n",
            "Epoch 183/500\n",
            "1/1 [==============================] - 0s 11ms/step - loss: nan\n",
            "Epoch 184/500\n",
            "1/1 [==============================] - 0s 8ms/step - loss: nan\n",
            "Epoch 185/500\n",
            "1/1 [==============================] - 0s 13ms/step - loss: nan\n",
            "Epoch 186/500\n",
            "1/1 [==============================] - 0s 12ms/step - loss: nan\n",
            "Epoch 187/500\n",
            "1/1 [==============================] - 0s 9ms/step - loss: nan\n",
            "Epoch 188/500\n",
            "1/1 [==============================] - 0s 9ms/step - loss: nan\n",
            "Epoch 189/500\n",
            "1/1 [==============================] - 0s 13ms/step - loss: nan\n",
            "Epoch 190/500\n",
            "1/1 [==============================] - 0s 11ms/step - loss: nan\n",
            "Epoch 191/500\n",
            "1/1 [==============================] - 0s 11ms/step - loss: nan\n",
            "Epoch 192/500\n",
            "1/1 [==============================] - 0s 10ms/step - loss: nan\n",
            "Epoch 193/500\n",
            "1/1 [==============================] - 0s 73ms/step - loss: nan\n",
            "Epoch 194/500\n",
            "1/1 [==============================] - 0s 11ms/step - loss: nan\n",
            "Epoch 195/500\n",
            "1/1 [==============================] - 0s 12ms/step - loss: nan\n",
            "Epoch 196/500\n",
            "1/1 [==============================] - 0s 10ms/step - loss: nan\n",
            "Epoch 197/500\n",
            "1/1 [==============================] - 0s 14ms/step - loss: nan\n",
            "Epoch 198/500\n",
            "1/1 [==============================] - 0s 15ms/step - loss: nan\n",
            "Epoch 199/500\n",
            "1/1 [==============================] - 0s 11ms/step - loss: nan\n",
            "Epoch 200/500\n",
            "1/1 [==============================] - 0s 10ms/step - loss: nan\n",
            "Epoch 201/500\n",
            "1/1 [==============================] - 0s 11ms/step - loss: nan\n",
            "Epoch 202/500\n",
            "1/1 [==============================] - 0s 9ms/step - loss: nan\n",
            "Epoch 203/500\n",
            "1/1 [==============================] - 0s 11ms/step - loss: nan\n",
            "Epoch 204/500\n",
            "1/1 [==============================] - 0s 10ms/step - loss: nan\n",
            "Epoch 205/500\n",
            "1/1 [==============================] - 0s 8ms/step - loss: nan\n",
            "Epoch 206/500\n",
            "1/1 [==============================] - 0s 8ms/step - loss: nan\n",
            "Epoch 207/500\n",
            "1/1 [==============================] - 0s 9ms/step - loss: nan\n",
            "Epoch 208/500\n",
            "1/1 [==============================] - 0s 7ms/step - loss: nan\n",
            "Epoch 209/500\n",
            "1/1 [==============================] - 0s 7ms/step - loss: nan\n",
            "Epoch 210/500\n",
            "1/1 [==============================] - 0s 9ms/step - loss: nan\n",
            "Epoch 211/500\n",
            "1/1 [==============================] - 0s 12ms/step - loss: nan\n",
            "Epoch 212/500\n",
            "1/1 [==============================] - 0s 12ms/step - loss: nan\n",
            "Epoch 213/500\n",
            "1/1 [==============================] - 0s 12ms/step - loss: nan\n",
            "Epoch 214/500\n",
            "1/1 [==============================] - 0s 11ms/step - loss: nan\n",
            "Epoch 215/500\n",
            "1/1 [==============================] - 0s 7ms/step - loss: nan\n",
            "Epoch 216/500\n",
            "1/1 [==============================] - 0s 8ms/step - loss: nan\n",
            "Epoch 217/500\n",
            "1/1 [==============================] - 0s 10ms/step - loss: nan\n",
            "Epoch 218/500\n",
            "1/1 [==============================] - 0s 10ms/step - loss: nan\n",
            "Epoch 219/500\n",
            "1/1 [==============================] - 0s 11ms/step - loss: nan\n",
            "Epoch 220/500\n",
            "1/1 [==============================] - 0s 12ms/step - loss: nan\n",
            "Epoch 221/500\n",
            "1/1 [==============================] - 0s 9ms/step - loss: nan\n",
            "Epoch 222/500\n",
            "1/1 [==============================] - 0s 12ms/step - loss: nan\n",
            "Epoch 223/500\n",
            "1/1 [==============================] - 0s 12ms/step - loss: nan\n",
            "Epoch 224/500\n",
            "1/1 [==============================] - 0s 10ms/step - loss: nan\n",
            "Epoch 225/500\n",
            "1/1 [==============================] - 0s 12ms/step - loss: nan\n",
            "Epoch 226/500\n",
            "1/1 [==============================] - 0s 10ms/step - loss: nan\n",
            "Epoch 227/500\n",
            "1/1 [==============================] - 0s 11ms/step - loss: nan\n",
            "Epoch 228/500\n",
            "1/1 [==============================] - 0s 13ms/step - loss: nan\n",
            "Epoch 229/500\n",
            "1/1 [==============================] - 0s 13ms/step - loss: nan\n",
            "Epoch 230/500\n",
            "1/1 [==============================] - 0s 11ms/step - loss: nan\n",
            "Epoch 231/500\n",
            "1/1 [==============================] - 0s 12ms/step - loss: nan\n",
            "Epoch 232/500\n",
            "1/1 [==============================] - 0s 11ms/step - loss: nan\n",
            "Epoch 233/500\n",
            "1/1 [==============================] - 0s 11ms/step - loss: nan\n",
            "Epoch 234/500\n",
            "1/1 [==============================] - 0s 13ms/step - loss: nan\n",
            "Epoch 235/500\n",
            "1/1 [==============================] - 0s 12ms/step - loss: nan\n",
            "Epoch 236/500\n",
            "1/1 [==============================] - 0s 9ms/step - loss: nan\n",
            "Epoch 237/500\n",
            "1/1 [==============================] - 0s 10ms/step - loss: nan\n",
            "Epoch 238/500\n",
            "1/1 [==============================] - 0s 12ms/step - loss: nan\n",
            "Epoch 239/500\n",
            "1/1 [==============================] - 0s 11ms/step - loss: nan\n",
            "Epoch 240/500\n",
            "1/1 [==============================] - 0s 10ms/step - loss: nan\n",
            "Epoch 241/500\n",
            "1/1 [==============================] - 0s 11ms/step - loss: nan\n",
            "Epoch 242/500\n",
            "1/1 [==============================] - 0s 9ms/step - loss: nan\n",
            "Epoch 243/500\n",
            "1/1 [==============================] - 0s 12ms/step - loss: nan\n",
            "Epoch 244/500\n",
            "1/1 [==============================] - 0s 10ms/step - loss: nan\n",
            "Epoch 245/500\n",
            "1/1 [==============================] - 0s 8ms/step - loss: nan\n",
            "Epoch 246/500\n",
            "1/1 [==============================] - 0s 12ms/step - loss: nan\n",
            "Epoch 247/500\n",
            "1/1 [==============================] - 0s 12ms/step - loss: nan\n",
            "Epoch 248/500\n",
            "1/1 [==============================] - 0s 12ms/step - loss: nan\n",
            "Epoch 249/500\n",
            "1/1 [==============================] - 0s 8ms/step - loss: nan\n",
            "Epoch 250/500\n",
            "1/1 [==============================] - 0s 14ms/step - loss: nan\n",
            "Epoch 251/500\n",
            "1/1 [==============================] - 0s 15ms/step - loss: nan\n",
            "Epoch 252/500\n",
            "1/1 [==============================] - 0s 11ms/step - loss: nan\n",
            "Epoch 253/500\n",
            "1/1 [==============================] - 0s 11ms/step - loss: nan\n",
            "Epoch 254/500\n",
            "1/1 [==============================] - 0s 15ms/step - loss: nan\n",
            "Epoch 255/500\n",
            "1/1 [==============================] - 0s 8ms/step - loss: nan\n",
            "Epoch 256/500\n",
            "1/1 [==============================] - 0s 11ms/step - loss: nan\n",
            "Epoch 257/500\n",
            "1/1 [==============================] - 0s 11ms/step - loss: nan\n",
            "Epoch 258/500\n",
            "1/1 [==============================] - 0s 14ms/step - loss: nan\n",
            "Epoch 259/500\n",
            "1/1 [==============================] - 0s 12ms/step - loss: nan\n",
            "Epoch 260/500\n",
            "1/1 [==============================] - 0s 11ms/step - loss: nan\n",
            "Epoch 261/500\n",
            "1/1 [==============================] - 0s 11ms/step - loss: nan\n",
            "Epoch 262/500\n",
            "1/1 [==============================] - 0s 13ms/step - loss: nan\n",
            "Epoch 263/500\n",
            "1/1 [==============================] - 0s 11ms/step - loss: nan\n",
            "Epoch 264/500\n",
            "1/1 [==============================] - 0s 10ms/step - loss: nan\n",
            "Epoch 265/500\n",
            "1/1 [==============================] - 0s 10ms/step - loss: nan\n",
            "Epoch 266/500\n",
            "1/1 [==============================] - 0s 10ms/step - loss: nan\n",
            "Epoch 267/500\n",
            "1/1 [==============================] - 0s 12ms/step - loss: nan\n",
            "Epoch 268/500\n",
            "1/1 [==============================] - 0s 11ms/step - loss: nan\n",
            "Epoch 269/500\n",
            "1/1 [==============================] - 0s 11ms/step - loss: nan\n",
            "Epoch 270/500\n",
            "1/1 [==============================] - 0s 8ms/step - loss: nan\n",
            "Epoch 271/500\n",
            "1/1 [==============================] - 0s 11ms/step - loss: nan\n",
            "Epoch 272/500\n",
            "1/1 [==============================] - 0s 8ms/step - loss: nan\n",
            "Epoch 273/500\n",
            "1/1 [==============================] - 0s 11ms/step - loss: nan\n",
            "Epoch 274/500\n",
            "1/1 [==============================] - 0s 11ms/step - loss: nan\n",
            "Epoch 275/500\n",
            "1/1 [==============================] - 0s 10ms/step - loss: nan\n",
            "Epoch 276/500\n",
            "1/1 [==============================] - 0s 9ms/step - loss: nan\n",
            "Epoch 277/500\n",
            "1/1 [==============================] - 0s 12ms/step - loss: nan\n",
            "Epoch 278/500\n",
            "1/1 [==============================] - 0s 10ms/step - loss: nan\n",
            "Epoch 279/500\n",
            "1/1 [==============================] - 0s 9ms/step - loss: nan\n",
            "Epoch 280/500\n",
            "1/1 [==============================] - 0s 12ms/step - loss: nan\n",
            "Epoch 281/500\n",
            "1/1 [==============================] - 0s 12ms/step - loss: nan\n",
            "Epoch 282/500\n",
            "1/1 [==============================] - 0s 9ms/step - loss: nan\n",
            "Epoch 283/500\n",
            "1/1 [==============================] - 0s 8ms/step - loss: nan\n",
            "Epoch 284/500\n",
            "1/1 [==============================] - 0s 11ms/step - loss: nan\n",
            "Epoch 285/500\n",
            "1/1 [==============================] - 0s 11ms/step - loss: nan\n",
            "Epoch 286/500\n",
            "1/1 [==============================] - 0s 12ms/step - loss: nan\n",
            "Epoch 287/500\n",
            "1/1 [==============================] - 0s 11ms/step - loss: nan\n",
            "Epoch 288/500\n",
            "1/1 [==============================] - 0s 8ms/step - loss: nan\n",
            "Epoch 289/500\n",
            "1/1 [==============================] - 0s 80ms/step - loss: nan\n",
            "Epoch 290/500\n",
            "1/1 [==============================] - 0s 9ms/step - loss: nan\n",
            "Epoch 291/500\n",
            "1/1 [==============================] - 0s 13ms/step - loss: nan\n",
            "Epoch 292/500\n",
            "1/1 [==============================] - 0s 11ms/step - loss: nan\n",
            "Epoch 293/500\n",
            "1/1 [==============================] - 0s 13ms/step - loss: nan\n",
            "Epoch 294/500\n",
            "1/1 [==============================] - 0s 8ms/step - loss: nan\n",
            "Epoch 295/500\n",
            "1/1 [==============================] - 0s 9ms/step - loss: nan\n",
            "Epoch 296/500\n",
            "1/1 [==============================] - 0s 10ms/step - loss: nan\n",
            "Epoch 297/500\n",
            "1/1 [==============================] - 0s 12ms/step - loss: nan\n",
            "Epoch 298/500\n",
            "1/1 [==============================] - 0s 9ms/step - loss: nan\n",
            "Epoch 299/500\n",
            "1/1 [==============================] - 0s 9ms/step - loss: nan\n",
            "Epoch 300/500\n",
            "1/1 [==============================] - 0s 9ms/step - loss: nan\n",
            "Epoch 301/500\n",
            "1/1 [==============================] - 0s 11ms/step - loss: nan\n",
            "Epoch 302/500\n",
            "1/1 [==============================] - 0s 10ms/step - loss: nan\n",
            "Epoch 303/500\n",
            "1/1 [==============================] - 0s 8ms/step - loss: nan\n",
            "Epoch 304/500\n",
            "1/1 [==============================] - 0s 7ms/step - loss: nan\n",
            "Epoch 305/500\n",
            "1/1 [==============================] - 0s 8ms/step - loss: nan\n",
            "Epoch 306/500\n",
            "1/1 [==============================] - 0s 10ms/step - loss: nan\n",
            "Epoch 307/500\n",
            "1/1 [==============================] - 0s 12ms/step - loss: nan\n",
            "Epoch 308/500\n",
            "1/1 [==============================] - 0s 11ms/step - loss: nan\n",
            "Epoch 309/500\n",
            "1/1 [==============================] - 0s 12ms/step - loss: nan\n",
            "Epoch 310/500\n",
            "1/1 [==============================] - 0s 11ms/step - loss: nan\n",
            "Epoch 311/500\n",
            "1/1 [==============================] - 0s 12ms/step - loss: nan\n",
            "Epoch 312/500\n",
            "1/1 [==============================] - 0s 11ms/step - loss: nan\n",
            "Epoch 313/500\n",
            "1/1 [==============================] - 0s 12ms/step - loss: nan\n",
            "Epoch 314/500\n",
            "1/1 [==============================] - 0s 11ms/step - loss: nan\n",
            "Epoch 315/500\n",
            "1/1 [==============================] - 0s 11ms/step - loss: nan\n",
            "Epoch 316/500\n",
            "1/1 [==============================] - 0s 11ms/step - loss: nan\n",
            "Epoch 317/500\n",
            "1/1 [==============================] - 0s 10ms/step - loss: nan\n",
            "Epoch 318/500\n",
            "1/1 [==============================] - 0s 11ms/step - loss: nan\n",
            "Epoch 319/500\n",
            "1/1 [==============================] - 0s 13ms/step - loss: nan\n",
            "Epoch 320/500\n",
            "1/1 [==============================] - 0s 12ms/step - loss: nan\n",
            "Epoch 321/500\n",
            "1/1 [==============================] - 0s 11ms/step - loss: nan\n",
            "Epoch 322/500\n",
            "1/1 [==============================] - 0s 10ms/step - loss: nan\n",
            "Epoch 323/500\n",
            "1/1 [==============================] - 0s 12ms/step - loss: nan\n",
            "Epoch 324/500\n",
            "1/1 [==============================] - 0s 12ms/step - loss: nan\n",
            "Epoch 325/500\n",
            "1/1 [==============================] - 0s 12ms/step - loss: nan\n",
            "Epoch 326/500\n",
            "1/1 [==============================] - 0s 12ms/step - loss: nan\n",
            "Epoch 327/500\n",
            "1/1 [==============================] - 0s 12ms/step - loss: nan\n",
            "Epoch 328/500\n",
            "1/1 [==============================] - 0s 11ms/step - loss: nan\n",
            "Epoch 329/500\n",
            "1/1 [==============================] - 0s 12ms/step - loss: nan\n",
            "Epoch 330/500\n",
            "1/1 [==============================] - 0s 9ms/step - loss: nan\n",
            "Epoch 331/500\n",
            "1/1 [==============================] - 0s 13ms/step - loss: nan\n",
            "Epoch 332/500\n",
            "1/1 [==============================] - 0s 9ms/step - loss: nan\n",
            "Epoch 333/500\n",
            "1/1 [==============================] - 0s 12ms/step - loss: nan\n",
            "Epoch 334/500\n",
            "1/1 [==============================] - 0s 9ms/step - loss: nan\n",
            "Epoch 335/500\n",
            "1/1 [==============================] - 0s 10ms/step - loss: nan\n",
            "Epoch 336/500\n",
            "1/1 [==============================] - 0s 11ms/step - loss: nan\n",
            "Epoch 337/500\n",
            "1/1 [==============================] - 0s 11ms/step - loss: nan\n",
            "Epoch 338/500\n",
            "1/1 [==============================] - 0s 13ms/step - loss: nan\n",
            "Epoch 339/500\n",
            "1/1 [==============================] - 0s 8ms/step - loss: nan\n",
            "Epoch 340/500\n",
            "1/1 [==============================] - 0s 13ms/step - loss: nan\n",
            "Epoch 341/500\n",
            "1/1 [==============================] - 0s 12ms/step - loss: nan\n",
            "Epoch 342/500\n",
            "1/1 [==============================] - 0s 10ms/step - loss: nan\n",
            "Epoch 343/500\n",
            "1/1 [==============================] - 0s 14ms/step - loss: nan\n",
            "Epoch 344/500\n",
            "1/1 [==============================] - 0s 9ms/step - loss: nan\n",
            "Epoch 345/500\n",
            "1/1 [==============================] - 0s 10ms/step - loss: nan\n",
            "Epoch 346/500\n",
            "1/1 [==============================] - 0s 11ms/step - loss: nan\n",
            "Epoch 347/500\n",
            "1/1 [==============================] - 0s 13ms/step - loss: nan\n",
            "Epoch 348/500\n",
            "1/1 [==============================] - 0s 13ms/step - loss: nan\n",
            "Epoch 349/500\n",
            "1/1 [==============================] - 0s 9ms/step - loss: nan\n",
            "Epoch 350/500\n",
            "1/1 [==============================] - 0s 9ms/step - loss: nan\n",
            "Epoch 351/500\n",
            "1/1 [==============================] - 0s 10ms/step - loss: nan\n",
            "Epoch 352/500\n",
            "1/1 [==============================] - 0s 10ms/step - loss: nan\n",
            "Epoch 353/500\n",
            "1/1 [==============================] - 0s 11ms/step - loss: nan\n",
            "Epoch 354/500\n",
            "1/1 [==============================] - 0s 14ms/step - loss: nan\n",
            "Epoch 355/500\n",
            "1/1 [==============================] - 0s 13ms/step - loss: nan\n",
            "Epoch 356/500\n",
            "1/1 [==============================] - 0s 11ms/step - loss: nan\n",
            "Epoch 357/500\n",
            "1/1 [==============================] - 0s 10ms/step - loss: nan\n",
            "Epoch 358/500\n",
            "1/1 [==============================] - 0s 12ms/step - loss: nan\n",
            "Epoch 359/500\n",
            "1/1 [==============================] - 0s 8ms/step - loss: nan\n",
            "Epoch 360/500\n",
            "1/1 [==============================] - 0s 11ms/step - loss: nan\n",
            "Epoch 361/500\n",
            "1/1 [==============================] - 0s 12ms/step - loss: nan\n",
            "Epoch 362/500\n",
            "1/1 [==============================] - 0s 12ms/step - loss: nan\n",
            "Epoch 363/500\n",
            "1/1 [==============================] - 0s 8ms/step - loss: nan\n",
            "Epoch 364/500\n",
            "1/1 [==============================] - 0s 14ms/step - loss: nan\n",
            "Epoch 365/500\n",
            "1/1 [==============================] - 0s 11ms/step - loss: nan\n",
            "Epoch 366/500\n",
            "1/1 [==============================] - 0s 9ms/step - loss: nan\n",
            "Epoch 367/500\n",
            "1/1 [==============================] - 0s 11ms/step - loss: nan\n",
            "Epoch 368/500\n",
            "1/1 [==============================] - 0s 11ms/step - loss: nan\n",
            "Epoch 369/500\n",
            "1/1 [==============================] - 0s 11ms/step - loss: nan\n",
            "Epoch 370/500\n",
            "1/1 [==============================] - 0s 13ms/step - loss: nan\n",
            "Epoch 371/500\n",
            "1/1 [==============================] - 0s 16ms/step - loss: nan\n",
            "Epoch 372/500\n",
            "1/1 [==============================] - 0s 7ms/step - loss: nan\n",
            "Epoch 373/500\n",
            "1/1 [==============================] - 0s 13ms/step - loss: nan\n",
            "Epoch 374/500\n",
            "1/1 [==============================] - 0s 6ms/step - loss: nan\n",
            "Epoch 375/500\n",
            "1/1 [==============================] - 0s 10ms/step - loss: nan\n",
            "Epoch 376/500\n",
            "1/1 [==============================] - 0s 9ms/step - loss: nan\n",
            "Epoch 377/500\n",
            "1/1 [==============================] - 0s 11ms/step - loss: nan\n",
            "Epoch 378/500\n",
            "1/1 [==============================] - 0s 13ms/step - loss: nan\n",
            "Epoch 379/500\n",
            "1/1 [==============================] - 0s 15ms/step - loss: nan\n",
            "Epoch 380/500\n",
            "1/1 [==============================] - 0s 12ms/step - loss: nan\n",
            "Epoch 381/500\n",
            "1/1 [==============================] - 0s 10ms/step - loss: nan\n",
            "Epoch 382/500\n",
            "1/1 [==============================] - 0s 7ms/step - loss: nan\n",
            "Epoch 383/500\n",
            "1/1 [==============================] - 0s 14ms/step - loss: nan\n",
            "Epoch 384/500\n",
            "1/1 [==============================] - 0s 9ms/step - loss: nan\n",
            "Epoch 385/500\n",
            "1/1 [==============================] - 0s 73ms/step - loss: nan\n",
            "Epoch 386/500\n",
            "1/1 [==============================] - 0s 9ms/step - loss: nan\n",
            "Epoch 387/500\n",
            "1/1 [==============================] - 0s 14ms/step - loss: nan\n",
            "Epoch 388/500\n",
            "1/1 [==============================] - 0s 13ms/step - loss: nan\n",
            "Epoch 389/500\n",
            "1/1 [==============================] - 0s 11ms/step - loss: nan\n",
            "Epoch 390/500\n",
            "1/1 [==============================] - 0s 8ms/step - loss: nan\n",
            "Epoch 391/500\n",
            "1/1 [==============================] - 0s 12ms/step - loss: nan\n",
            "Epoch 392/500\n",
            "1/1 [==============================] - 0s 10ms/step - loss: nan\n",
            "Epoch 393/500\n",
            "1/1 [==============================] - 0s 11ms/step - loss: nan\n",
            "Epoch 394/500\n",
            "1/1 [==============================] - 0s 11ms/step - loss: nan\n",
            "Epoch 395/500\n",
            "1/1 [==============================] - 0s 11ms/step - loss: nan\n",
            "Epoch 396/500\n",
            "1/1 [==============================] - 0s 11ms/step - loss: nan\n",
            "Epoch 397/500\n",
            "1/1 [==============================] - 0s 9ms/step - loss: nan\n",
            "Epoch 398/500\n",
            "1/1 [==============================] - 0s 8ms/step - loss: nan\n",
            "Epoch 399/500\n",
            "1/1 [==============================] - 0s 9ms/step - loss: nan\n",
            "Epoch 400/500\n",
            "1/1 [==============================] - 0s 8ms/step - loss: nan\n",
            "Epoch 401/500\n",
            "1/1 [==============================] - 0s 7ms/step - loss: nan\n",
            "Epoch 402/500\n",
            "1/1 [==============================] - 0s 10ms/step - loss: nan\n",
            "Epoch 403/500\n",
            "1/1 [==============================] - 0s 11ms/step - loss: nan\n",
            "Epoch 404/500\n",
            "1/1 [==============================] - 0s 11ms/step - loss: nan\n",
            "Epoch 405/500\n",
            "1/1 [==============================] - 0s 9ms/step - loss: nan\n",
            "Epoch 406/500\n",
            "1/1 [==============================] - 0s 13ms/step - loss: nan\n",
            "Epoch 407/500\n",
            "1/1 [==============================] - 0s 12ms/step - loss: nan\n",
            "Epoch 408/500\n",
            "1/1 [==============================] - 0s 11ms/step - loss: nan\n",
            "Epoch 409/500\n",
            "1/1 [==============================] - 0s 11ms/step - loss: nan\n",
            "Epoch 410/500\n",
            "1/1 [==============================] - 0s 10ms/step - loss: nan\n",
            "Epoch 411/500\n",
            "1/1 [==============================] - 0s 12ms/step - loss: nan\n",
            "Epoch 412/500\n",
            "1/1 [==============================] - 0s 19ms/step - loss: nan\n",
            "Epoch 413/500\n",
            "1/1 [==============================] - 0s 12ms/step - loss: nan\n",
            "Epoch 414/500\n",
            "1/1 [==============================] - 0s 8ms/step - loss: nan\n",
            "Epoch 415/500\n",
            "1/1 [==============================] - 0s 12ms/step - loss: nan\n",
            "Epoch 416/500\n",
            "1/1 [==============================] - 0s 13ms/step - loss: nan\n",
            "Epoch 417/500\n",
            "1/1 [==============================] - 0s 8ms/step - loss: nan\n",
            "Epoch 418/500\n",
            "1/1 [==============================] - 0s 8ms/step - loss: nan\n",
            "Epoch 419/500\n",
            "1/1 [==============================] - 0s 10ms/step - loss: nan\n",
            "Epoch 420/500\n",
            "1/1 [==============================] - 0s 9ms/step - loss: nan\n",
            "Epoch 421/500\n",
            "1/1 [==============================] - 0s 8ms/step - loss: nan\n",
            "Epoch 422/500\n",
            "1/1 [==============================] - 0s 8ms/step - loss: nan\n",
            "Epoch 423/500\n",
            "1/1 [==============================] - 0s 9ms/step - loss: nan\n",
            "Epoch 424/500\n",
            "1/1 [==============================] - 0s 8ms/step - loss: nan\n",
            "Epoch 425/500\n",
            "1/1 [==============================] - 0s 7ms/step - loss: nan\n",
            "Epoch 426/500\n",
            "1/1 [==============================] - 0s 15ms/step - loss: nan\n",
            "Epoch 427/500\n",
            "1/1 [==============================] - 0s 17ms/step - loss: nan\n",
            "Epoch 428/500\n",
            "1/1 [==============================] - 0s 9ms/step - loss: nan\n",
            "Epoch 429/500\n",
            "1/1 [==============================] - 0s 14ms/step - loss: nan\n",
            "Epoch 430/500\n",
            "1/1 [==============================] - 0s 12ms/step - loss: nan\n",
            "Epoch 431/500\n",
            "1/1 [==============================] - 0s 8ms/step - loss: nan\n",
            "Epoch 432/500\n",
            "1/1 [==============================] - 0s 11ms/step - loss: nan\n",
            "Epoch 433/500\n",
            "1/1 [==============================] - 0s 11ms/step - loss: nan\n",
            "Epoch 434/500\n",
            "1/1 [==============================] - 0s 11ms/step - loss: nan\n",
            "Epoch 435/500\n",
            "1/1 [==============================] - 0s 11ms/step - loss: nan\n",
            "Epoch 436/500\n",
            "1/1 [==============================] - 0s 9ms/step - loss: nan\n",
            "Epoch 437/500\n",
            "1/1 [==============================] - 0s 13ms/step - loss: nan\n",
            "Epoch 438/500\n",
            "1/1 [==============================] - 0s 13ms/step - loss: nan\n",
            "Epoch 439/500\n",
            "1/1 [==============================] - 0s 12ms/step - loss: nan\n",
            "Epoch 440/500\n",
            "1/1 [==============================] - 0s 8ms/step - loss: nan\n",
            "Epoch 441/500\n",
            "1/1 [==============================] - 0s 9ms/step - loss: nan\n",
            "Epoch 442/500\n",
            "1/1 [==============================] - 0s 9ms/step - loss: nan\n",
            "Epoch 443/500\n",
            "1/1 [==============================] - 0s 11ms/step - loss: nan\n",
            "Epoch 444/500\n",
            "1/1 [==============================] - 0s 10ms/step - loss: nan\n",
            "Epoch 445/500\n",
            "1/1 [==============================] - 0s 8ms/step - loss: nan\n",
            "Epoch 446/500\n",
            "1/1 [==============================] - 0s 8ms/step - loss: nan\n",
            "Epoch 447/500\n",
            "1/1 [==============================] - 0s 10ms/step - loss: nan\n",
            "Epoch 448/500\n",
            "1/1 [==============================] - 0s 11ms/step - loss: nan\n",
            "Epoch 449/500\n",
            "1/1 [==============================] - 0s 10ms/step - loss: nan\n",
            "Epoch 450/500\n",
            "1/1 [==============================] - 0s 10ms/step - loss: nan\n",
            "Epoch 451/500\n",
            "1/1 [==============================] - 0s 10ms/step - loss: nan\n",
            "Epoch 452/500\n",
            "1/1 [==============================] - 0s 12ms/step - loss: nan\n",
            "Epoch 453/500\n",
            "1/1 [==============================] - 0s 12ms/step - loss: nan\n",
            "Epoch 454/500\n",
            "1/1 [==============================] - 0s 11ms/step - loss: nan\n",
            "Epoch 455/500\n",
            "1/1 [==============================] - 0s 8ms/step - loss: nan\n",
            "Epoch 456/500\n",
            "1/1 [==============================] - 0s 11ms/step - loss: nan\n",
            "Epoch 457/500\n",
            "1/1 [==============================] - 0s 10ms/step - loss: nan\n",
            "Epoch 458/500\n",
            "1/1 [==============================] - 0s 10ms/step - loss: nan\n",
            "Epoch 459/500\n",
            "1/1 [==============================] - 0s 10ms/step - loss: nan\n",
            "Epoch 460/500\n",
            "1/1 [==============================] - 0s 11ms/step - loss: nan\n",
            "Epoch 461/500\n",
            "1/1 [==============================] - 0s 9ms/step - loss: nan\n",
            "Epoch 462/500\n",
            "1/1 [==============================] - 0s 9ms/step - loss: nan\n",
            "Epoch 463/500\n",
            "1/1 [==============================] - 0s 11ms/step - loss: nan\n",
            "Epoch 464/500\n",
            "1/1 [==============================] - 0s 11ms/step - loss: nan\n",
            "Epoch 465/500\n",
            "1/1 [==============================] - 0s 11ms/step - loss: nan\n",
            "Epoch 466/500\n",
            "1/1 [==============================] - 0s 10ms/step - loss: nan\n",
            "Epoch 467/500\n",
            "1/1 [==============================] - 0s 8ms/step - loss: nan\n",
            "Epoch 468/500\n",
            "1/1 [==============================] - 0s 11ms/step - loss: nan\n",
            "Epoch 469/500\n",
            "1/1 [==============================] - 0s 11ms/step - loss: nan\n",
            "Epoch 470/500\n",
            "1/1 [==============================] - 0s 13ms/step - loss: nan\n",
            "Epoch 471/500\n",
            "1/1 [==============================] - 0s 10ms/step - loss: nan\n",
            "Epoch 472/500\n",
            "1/1 [==============================] - 0s 12ms/step - loss: nan\n",
            "Epoch 473/500\n",
            "1/1 [==============================] - 0s 11ms/step - loss: nan\n",
            "Epoch 474/500\n",
            "1/1 [==============================] - 0s 12ms/step - loss: nan\n",
            "Epoch 475/500\n",
            "1/1 [==============================] - 0s 12ms/step - loss: nan\n",
            "Epoch 476/500\n",
            "1/1 [==============================] - 0s 12ms/step - loss: nan\n",
            "Epoch 477/500\n",
            "1/1 [==============================] - 0s 12ms/step - loss: nan\n",
            "Epoch 478/500\n",
            "1/1 [==============================] - 0s 11ms/step - loss: nan\n",
            "Epoch 479/500\n",
            "1/1 [==============================] - 0s 8ms/step - loss: nan\n",
            "Epoch 480/500\n",
            "1/1 [==============================] - 0s 11ms/step - loss: nan\n",
            "Epoch 481/500\n",
            "1/1 [==============================] - 0s 71ms/step - loss: nan\n",
            "Epoch 482/500\n",
            "1/1 [==============================] - 0s 9ms/step - loss: nan\n",
            "Epoch 483/500\n",
            "1/1 [==============================] - 0s 12ms/step - loss: nan\n",
            "Epoch 484/500\n",
            "1/1 [==============================] - 0s 11ms/step - loss: nan\n",
            "Epoch 485/500\n",
            "1/1 [==============================] - 0s 9ms/step - loss: nan\n",
            "Epoch 486/500\n",
            "1/1 [==============================] - 0s 9ms/step - loss: nan\n",
            "Epoch 487/500\n",
            "1/1 [==============================] - 0s 12ms/step - loss: nan\n",
            "Epoch 488/500\n",
            "1/1 [==============================] - 0s 13ms/step - loss: nan\n",
            "Epoch 489/500\n",
            "1/1 [==============================] - 0s 9ms/step - loss: nan\n",
            "Epoch 490/500\n",
            "1/1 [==============================] - 0s 12ms/step - loss: nan\n",
            "Epoch 491/500\n",
            "1/1 [==============================] - 0s 11ms/step - loss: nan\n",
            "Epoch 492/500\n",
            "1/1 [==============================] - 0s 11ms/step - loss: nan\n",
            "Epoch 493/500\n",
            "1/1 [==============================] - 0s 8ms/step - loss: nan\n",
            "Epoch 494/500\n",
            "1/1 [==============================] - 0s 10ms/step - loss: nan\n",
            "Epoch 495/500\n",
            "1/1 [==============================] - 0s 8ms/step - loss: nan\n",
            "Epoch 496/500\n",
            "1/1 [==============================] - 0s 9ms/step - loss: nan\n",
            "Epoch 497/500\n",
            "1/1 [==============================] - 0s 12ms/step - loss: nan\n",
            "Epoch 498/500\n",
            "1/1 [==============================] - 0s 11ms/step - loss: nan\n",
            "Epoch 499/500\n",
            "1/1 [==============================] - 0s 12ms/step - loss: nan\n",
            "Epoch 500/500\n",
            "1/1 [==============================] - 0s 11ms/step - loss: nan\n"
          ],
          "name": "stdout"
        }
      ]
    },
    {
      "cell_type": "code",
      "metadata": {
        "id": "AtU2nCodFNzR",
        "colab_type": "code",
        "outputId": "62836cbf-322f-4765-8953-da0cc03ffa89",
        "colab": {
          "base_uri": "https://localhost:8080/",
          "height": 35
        }
      },
      "source": [
        "y_b_test_pred.shape, y_b_test.shape"
      ],
      "execution_count": 0,
      "outputs": [
        {
          "output_type": "execute_result",
          "data": {
            "text/plain": [
              "((39, 1), (44, 1))"
            ]
          },
          "metadata": {
            "tags": []
          },
          "execution_count": 43
        }
      ]
    },
    {
      "cell_type": "code",
      "metadata": {
        "id": "3ZiNxKKnFNzT",
        "colab_type": "code",
        "outputId": "3b429ed3-a8fa-4975-8d97-44f434149eb2",
        "colab": {
          "base_uri": "https://localhost:8080/",
          "height": 35
        }
      },
      "source": [
        "metrics.mean_squared_error(y_b_test[n_input:] * 10.0, y_b_test_pred * 10.0) ** 0.5"
      ],
      "execution_count": 0,
      "outputs": [
        {
          "output_type": "execute_result",
          "data": {
            "text/plain": [
              "0.020102595359782715"
            ]
          },
          "metadata": {
            "tags": []
          },
          "execution_count": 90
        }
      ]
    },
    {
      "cell_type": "code",
      "metadata": {
        "id": "uyF4QJQfFNzV",
        "colab_type": "code",
        "colab": {}
      },
      "source": [
        ""
      ],
      "execution_count": 0,
      "outputs": []
    },
    {
      "cell_type": "code",
      "metadata": {
        "id": "KMOrlhkWFNzZ",
        "colab_type": "code",
        "colab": {}
      },
      "source": [
        ""
      ],
      "execution_count": 0,
      "outputs": []
    }
  ]
}