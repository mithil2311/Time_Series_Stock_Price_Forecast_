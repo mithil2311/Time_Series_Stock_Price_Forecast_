{
  "nbformat": 4,
  "nbformat_minor": 0,
  "metadata": {
    "kernelspec": {
      "display_name": "Python 3",
      "language": "python",
      "name": "python3"
    },
    "language_info": {
      "codemirror_mode": {
        "name": "ipython",
        "version": 3
      },
      "file_extension": ".py",
      "mimetype": "text/x-python",
      "name": "python",
      "nbconvert_exporter": "python",
      "pygments_lexer": "ipython3",
      "version": "3.7.3"
    },
    "colab": {
      "name": "Time Series - Stock Price Forecast using ARIMA.ipynb",
      "version": "0.3.2",
      "provenance": [],
      "include_colab_link": true
    }
  },
  "cells": [
    {
      "cell_type": "markdown",
      "metadata": {
        "id": "view-in-github",
        "colab_type": "text"
      },
      "source": [
        "<a href=\"https://colab.research.google.com/github/mithil2311/Time_Series_Stock_Price_Forecast_/blob/master/Time_Series_Stock_Price_Forecast_using_ARIMA.ipynb\" target=\"_parent\"><img src=\"https://colab.research.google.com/assets/colab-badge.svg\" alt=\"Open In Colab\"/></a>"
      ]
    },
    {
      "cell_type": "code",
      "metadata": {
        "id": "a1Y_6AnEFNxl",
        "colab_type": "code",
        "colab": {}
      },
      "source": [
        "import pandas as pd\n",
        "import numpy as np\n",
        "import matplotlib.pyplot as plt\n",
        "\n",
        "from sklearn import metrics\n",
        "\n",
        "plt.style.use(\"ggplot\")\n",
        "\n",
        "%matplotlib inline"
      ],
      "execution_count": 0,
      "outputs": []
    },
    {
      "cell_type": "code",
      "metadata": {
        "id": "s9LJl5yOFNxq",
        "colab_type": "code",
        "colab": {}
      },
      "source": [
        "plt.rcParams[\"figure.figsize\"] = (12, 6)"
      ],
      "execution_count": 0,
      "outputs": []
    },
    {
      "cell_type": "markdown",
      "metadata": {
        "id": "rKof6OFmFNxs",
        "colab_type": "text"
      },
      "source": [
        "Download stock price data from NSE [website](https://www.nseindia.com/products/content/equities/equities/eq_security.htm). Here I download stock price data for TCS stock.\n"
      ]
    },
    {
      "cell_type": "code",
      "metadata": {
        "id": "_yeVM2w-FNxt",
        "colab_type": "code",
        "outputId": "f2071c95-1d14-4430-bbf4-561a3bfa9e63",
        "colab": {
          "base_uri": "https://localhost:8080/",
          "height": 443
        }
      },
      "source": [
        "df = pd.read_csv(\"https://raw.githubusercontent.com/abulbasar/data/master/tcs-stock.csv\")\n",
        "df.head()\n",
        "\n"
      ],
      "execution_count": 101,
      "outputs": [
        {
          "output_type": "execute_result",
          "data": {
            "text/html": [
              "<div>\n",
              "<style scoped>\n",
              "    .dataframe tbody tr th:only-of-type {\n",
              "        vertical-align: middle;\n",
              "    }\n",
              "\n",
              "    .dataframe tbody tr th {\n",
              "        vertical-align: top;\n",
              "    }\n",
              "\n",
              "    .dataframe thead th {\n",
              "        text-align: right;\n",
              "    }\n",
              "</style>\n",
              "<table border=\"1\" class=\"dataframe\">\n",
              "  <thead>\n",
              "    <tr style=\"text-align: right;\">\n",
              "      <th></th>\n",
              "      <th>Symbol</th>\n",
              "      <th>Series</th>\n",
              "      <th>Date</th>\n",
              "      <th>Prev Close</th>\n",
              "      <th>Open Price</th>\n",
              "      <th>High Price</th>\n",
              "      <th>Low Price</th>\n",
              "      <th>Last Price</th>\n",
              "      <th>Close Price</th>\n",
              "      <th>Average Price</th>\n",
              "      <th>Total Traded Quantity</th>\n",
              "      <th>Turnover</th>\n",
              "      <th>No. of Trades</th>\n",
              "      <th>Deliverable Qty</th>\n",
              "      <th>% Dly Qt to Traded Qty</th>\n",
              "    </tr>\n",
              "  </thead>\n",
              "  <tbody>\n",
              "    <tr>\n",
              "      <th>0</th>\n",
              "      <td>TCS</td>\n",
              "      <td>EQ</td>\n",
              "      <td>31-May-2018</td>\n",
              "      <td>3514.10</td>\n",
              "      <td>1734.0</td>\n",
              "      <td>1759.05</td>\n",
              "      <td>1726.10</td>\n",
              "      <td>1748.85</td>\n",
              "      <td>1741.05</td>\n",
              "      <td>1742.44</td>\n",
              "      <td>5049371</td>\n",
              "      <td>8.798250e+09</td>\n",
              "      <td>207998</td>\n",
              "      <td>3447026</td>\n",
              "      <td>68.27</td>\n",
              "    </tr>\n",
              "    <tr>\n",
              "      <th>1</th>\n",
              "      <td>TCS</td>\n",
              "      <td>EQ</td>\n",
              "      <td>01-Jun-2018</td>\n",
              "      <td>1741.05</td>\n",
              "      <td>1754.0</td>\n",
              "      <td>1757.50</td>\n",
              "      <td>1716.30</td>\n",
              "      <td>1732.00</td>\n",
              "      <td>1732.45</td>\n",
              "      <td>1742.29</td>\n",
              "      <td>1603856</td>\n",
              "      <td>2.794386e+09</td>\n",
              "      <td>74272</td>\n",
              "      <td>924751</td>\n",
              "      <td>57.66</td>\n",
              "    </tr>\n",
              "    <tr>\n",
              "      <th>2</th>\n",
              "      <td>TCS</td>\n",
              "      <td>EQ</td>\n",
              "      <td>04-Jun-2018</td>\n",
              "      <td>1732.45</td>\n",
              "      <td>1745.0</td>\n",
              "      <td>1749.00</td>\n",
              "      <td>1712.60</td>\n",
              "      <td>1742.00</td>\n",
              "      <td>1744.25</td>\n",
              "      <td>1730.25</td>\n",
              "      <td>1681483</td>\n",
              "      <td>2.909394e+09</td>\n",
              "      <td>96686</td>\n",
              "      <td>928452</td>\n",
              "      <td>55.22</td>\n",
              "    </tr>\n",
              "    <tr>\n",
              "      <th>3</th>\n",
              "      <td>TCS</td>\n",
              "      <td>EQ</td>\n",
              "      <td>05-Jun-2018</td>\n",
              "      <td>1744.25</td>\n",
              "      <td>1744.0</td>\n",
              "      <td>1751.90</td>\n",
              "      <td>1711.15</td>\n",
              "      <td>1723.00</td>\n",
              "      <td>1721.60</td>\n",
              "      <td>1728.88</td>\n",
              "      <td>2449568</td>\n",
              "      <td>4.235001e+09</td>\n",
              "      <td>133067</td>\n",
              "      <td>1492228</td>\n",
              "      <td>60.92</td>\n",
              "    </tr>\n",
              "    <tr>\n",
              "      <th>4</th>\n",
              "      <td>TCS</td>\n",
              "      <td>EQ</td>\n",
              "      <td>06-Jun-2018</td>\n",
              "      <td>1721.60</td>\n",
              "      <td>1723.0</td>\n",
              "      <td>1734.90</td>\n",
              "      <td>1715.20</td>\n",
              "      <td>1725.00</td>\n",
              "      <td>1725.75</td>\n",
              "      <td>1725.85</td>\n",
              "      <td>2236512</td>\n",
              "      <td>3.859875e+09</td>\n",
              "      <td>73770</td>\n",
              "      <td>1573892</td>\n",
              "      <td>70.37</td>\n",
              "    </tr>\n",
              "  </tbody>\n",
              "</table>\n",
              "</div>"
            ],
            "text/plain": [
              "  Symbol Series  ... Deliverable Qty  % Dly Qt to Traded Qty\n",
              "0    TCS     EQ  ...         3447026                   68.27\n",
              "1    TCS     EQ  ...          924751                   57.66\n",
              "2    TCS     EQ  ...          928452                   55.22\n",
              "3    TCS     EQ  ...         1492228                   60.92\n",
              "4    TCS     EQ  ...         1573892                   70.37\n",
              "\n",
              "[5 rows x 15 columns]"
            ]
          },
          "metadata": {
            "tags": []
          },
          "execution_count": 101
        }
      ]
    },
    {
      "cell_type": "markdown",
      "metadata": {
        "id": "Rm9oEbtRFNxw",
        "colab_type": "text"
      },
      "source": [
        "Check whether you have duplicate data on by date. It looks like 11/2/2019, 18/2/2019, 25/2/2019 etc. have duplicate data. Not sure why there are duplicates by date. It could be ammendment to the data."
      ]
    },
    {
      "cell_type": "code",
      "metadata": {
        "id": "Q2LX2zApFNxx",
        "colab_type": "code",
        "outputId": "8db0c8b4-b3b0-4967-8b5d-3605c0c47f65",
        "colab": {
          "base_uri": "https://localhost:8080/",
          "height": 636
        }
      },
      "source": [
        "df[df[\"Date\"].duplicated(keep = False)]"
      ],
      "execution_count": 58,
      "outputs": [
        {
          "output_type": "execute_result",
          "data": {
            "text/html": [
              "<div>\n",
              "<style scoped>\n",
              "    .dataframe tbody tr th:only-of-type {\n",
              "        vertical-align: middle;\n",
              "    }\n",
              "\n",
              "    .dataframe tbody tr th {\n",
              "        vertical-align: top;\n",
              "    }\n",
              "\n",
              "    .dataframe thead th {\n",
              "        text-align: right;\n",
              "    }\n",
              "</style>\n",
              "<table border=\"1\" class=\"dataframe\">\n",
              "  <thead>\n",
              "    <tr style=\"text-align: right;\">\n",
              "      <th></th>\n",
              "      <th>Symbol</th>\n",
              "      <th>Series</th>\n",
              "      <th>Date</th>\n",
              "      <th>Prev Close</th>\n",
              "      <th>Open Price</th>\n",
              "      <th>High Price</th>\n",
              "      <th>Low Price</th>\n",
              "      <th>Last Price</th>\n",
              "      <th>Close Price</th>\n",
              "      <th>Average Price</th>\n",
              "      <th>Total Traded Quantity</th>\n",
              "      <th>Turnover</th>\n",
              "      <th>No. of Trades</th>\n",
              "      <th>Deliverable Qty</th>\n",
              "      <th>% Dly Qt to Traded Qty</th>\n",
              "    </tr>\n",
              "  </thead>\n",
              "  <tbody>\n",
              "    <tr>\n",
              "      <th>173</th>\n",
              "      <td>TCS</td>\n",
              "      <td>BL</td>\n",
              "      <td>11-Feb-2019</td>\n",
              "      <td>2604.20</td>\n",
              "      <td>2061.40</td>\n",
              "      <td>2061.40</td>\n",
              "      <td>2061.40</td>\n",
              "      <td>2061.40</td>\n",
              "      <td>2061.40</td>\n",
              "      <td>2061.40</td>\n",
              "      <td>376308</td>\n",
              "      <td>7.757213e+08</td>\n",
              "      <td>1</td>\n",
              "      <td>0</td>\n",
              "      <td>0.00</td>\n",
              "    </tr>\n",
              "    <tr>\n",
              "      <th>174</th>\n",
              "      <td>TCS</td>\n",
              "      <td>EQ</td>\n",
              "      <td>11-Feb-2019</td>\n",
              "      <td>2061.40</td>\n",
              "      <td>2060.00</td>\n",
              "      <td>2096.00</td>\n",
              "      <td>2048.90</td>\n",
              "      <td>2065.60</td>\n",
              "      <td>2065.90</td>\n",
              "      <td>2077.11</td>\n",
              "      <td>1778730</td>\n",
              "      <td>3.694622e+09</td>\n",
              "      <td>83603</td>\n",
              "      <td>901516</td>\n",
              "      <td>50.68</td>\n",
              "    </tr>\n",
              "    <tr>\n",
              "      <th>179</th>\n",
              "      <td>TCS</td>\n",
              "      <td>BL</td>\n",
              "      <td>18-Feb-2019</td>\n",
              "      <td>2061.40</td>\n",
              "      <td>2029.70</td>\n",
              "      <td>2029.70</td>\n",
              "      <td>2029.70</td>\n",
              "      <td>2029.70</td>\n",
              "      <td>2029.70</td>\n",
              "      <td>2029.70</td>\n",
              "      <td>2474600</td>\n",
              "      <td>5.022696e+09</td>\n",
              "      <td>1</td>\n",
              "      <td>0</td>\n",
              "      <td>0.00</td>\n",
              "    </tr>\n",
              "    <tr>\n",
              "      <th>180</th>\n",
              "      <td>TCS</td>\n",
              "      <td>EQ</td>\n",
              "      <td>18-Feb-2019</td>\n",
              "      <td>2029.70</td>\n",
              "      <td>2037.60</td>\n",
              "      <td>2041.95</td>\n",
              "      <td>1962.65</td>\n",
              "      <td>1969.60</td>\n",
              "      <td>1970.30</td>\n",
              "      <td>1988.87</td>\n",
              "      <td>2942184</td>\n",
              "      <td>5.851634e+09</td>\n",
              "      <td>100585</td>\n",
              "      <td>1668905</td>\n",
              "      <td>56.72</td>\n",
              "    </tr>\n",
              "    <tr>\n",
              "      <th>185</th>\n",
              "      <td>TCS</td>\n",
              "      <td>BL</td>\n",
              "      <td>25-Feb-2019</td>\n",
              "      <td>2029.70</td>\n",
              "      <td>1925.65</td>\n",
              "      <td>1925.65</td>\n",
              "      <td>1925.65</td>\n",
              "      <td>1925.65</td>\n",
              "      <td>1925.65</td>\n",
              "      <td>1925.65</td>\n",
              "      <td>1057509</td>\n",
              "      <td>2.036392e+09</td>\n",
              "      <td>2</td>\n",
              "      <td>0</td>\n",
              "      <td>0.00</td>\n",
              "    </tr>\n",
              "    <tr>\n",
              "      <th>186</th>\n",
              "      <td>TCS</td>\n",
              "      <td>EQ</td>\n",
              "      <td>25-Feb-2019</td>\n",
              "      <td>1925.65</td>\n",
              "      <td>1932.50</td>\n",
              "      <td>1990.00</td>\n",
              "      <td>1930.50</td>\n",
              "      <td>1987.00</td>\n",
              "      <td>1985.15</td>\n",
              "      <td>1961.61</td>\n",
              "      <td>2934880</td>\n",
              "      <td>5.757095e+09</td>\n",
              "      <td>140541</td>\n",
              "      <td>1341508</td>\n",
              "      <td>45.71</td>\n",
              "    </tr>\n",
              "    <tr>\n",
              "      <th>203</th>\n",
              "      <td>TCS</td>\n",
              "      <td>BL</td>\n",
              "      <td>22-Mar-2019</td>\n",
              "      <td>1925.65</td>\n",
              "      <td>2015.05</td>\n",
              "      <td>2015.05</td>\n",
              "      <td>2015.05</td>\n",
              "      <td>2015.05</td>\n",
              "      <td>2015.05</td>\n",
              "      <td>2015.05</td>\n",
              "      <td>264913</td>\n",
              "      <td>5.338129e+08</td>\n",
              "      <td>1</td>\n",
              "      <td>264913</td>\n",
              "      <td>100.00</td>\n",
              "    </tr>\n",
              "    <tr>\n",
              "      <th>204</th>\n",
              "      <td>TCS</td>\n",
              "      <td>EQ</td>\n",
              "      <td>22-Mar-2019</td>\n",
              "      <td>2015.05</td>\n",
              "      <td>2015.00</td>\n",
              "      <td>2016.00</td>\n",
              "      <td>1983.30</td>\n",
              "      <td>2010.00</td>\n",
              "      <td>2005.65</td>\n",
              "      <td>1998.96</td>\n",
              "      <td>3148149</td>\n",
              "      <td>6.293032e+09</td>\n",
              "      <td>155770</td>\n",
              "      <td>1787595</td>\n",
              "      <td>56.78</td>\n",
              "    </tr>\n",
              "  </tbody>\n",
              "</table>\n",
              "</div>"
            ],
            "text/plain": [
              "    Symbol Series  ... Deliverable Qty  % Dly Qt to Traded Qty\n",
              "173    TCS     BL  ...               0                    0.00\n",
              "174    TCS     EQ  ...          901516                   50.68\n",
              "179    TCS     BL  ...               0                    0.00\n",
              "180    TCS     EQ  ...         1668905                   56.72\n",
              "185    TCS     BL  ...               0                    0.00\n",
              "186    TCS     EQ  ...         1341508                   45.71\n",
              "203    TCS     BL  ...          264913                  100.00\n",
              "204    TCS     EQ  ...         1787595                   56.78\n",
              "\n",
              "[8 rows x 15 columns]"
            ]
          },
          "metadata": {
            "tags": []
          },
          "execution_count": 58
        }
      ]
    },
    {
      "cell_type": "markdown",
      "metadata": {
        "id": "xBj54o8BFNxz",
        "colab_type": "text"
      },
      "source": [
        "Drop the duplicate from the dataset."
      ]
    },
    {
      "cell_type": "code",
      "metadata": {
        "id": "3NJDViYzFNx0",
        "colab_type": "code",
        "colab": {}
      },
      "source": [
        "df = df[~df[\"Date\"].duplicated()]"
      ],
      "execution_count": 0,
      "outputs": []
    },
    {
      "cell_type": "markdown",
      "metadata": {
        "id": "NAPDI9DZFNx2",
        "colab_type": "text"
      },
      "source": [
        "Convert the dataset into time series data by undating the index to time series index. "
      ]
    },
    {
      "cell_type": "code",
      "metadata": {
        "id": "lpSVA0-KFNx3",
        "colab_type": "code",
        "outputId": "ce9b8d8c-58d3-456c-834f-2308b946f00f",
        "colab": {
          "base_uri": "https://localhost:8080/",
          "height": 473
        }
      },
      "source": [
        "df.index = pd.to_datetime(df[\"Date\"])\n",
        "df.head()"
      ],
      "execution_count": 60,
      "outputs": [
        {
          "output_type": "execute_result",
          "data": {
            "text/html": [
              "<div>\n",
              "<style scoped>\n",
              "    .dataframe tbody tr th:only-of-type {\n",
              "        vertical-align: middle;\n",
              "    }\n",
              "\n",
              "    .dataframe tbody tr th {\n",
              "        vertical-align: top;\n",
              "    }\n",
              "\n",
              "    .dataframe thead th {\n",
              "        text-align: right;\n",
              "    }\n",
              "</style>\n",
              "<table border=\"1\" class=\"dataframe\">\n",
              "  <thead>\n",
              "    <tr style=\"text-align: right;\">\n",
              "      <th></th>\n",
              "      <th>Symbol</th>\n",
              "      <th>Series</th>\n",
              "      <th>Date</th>\n",
              "      <th>Prev Close</th>\n",
              "      <th>Open Price</th>\n",
              "      <th>High Price</th>\n",
              "      <th>Low Price</th>\n",
              "      <th>Last Price</th>\n",
              "      <th>Close Price</th>\n",
              "      <th>Average Price</th>\n",
              "      <th>Total Traded Quantity</th>\n",
              "      <th>Turnover</th>\n",
              "      <th>No. of Trades</th>\n",
              "      <th>Deliverable Qty</th>\n",
              "      <th>% Dly Qt to Traded Qty</th>\n",
              "    </tr>\n",
              "    <tr>\n",
              "      <th>Date</th>\n",
              "      <th></th>\n",
              "      <th></th>\n",
              "      <th></th>\n",
              "      <th></th>\n",
              "      <th></th>\n",
              "      <th></th>\n",
              "      <th></th>\n",
              "      <th></th>\n",
              "      <th></th>\n",
              "      <th></th>\n",
              "      <th></th>\n",
              "      <th></th>\n",
              "      <th></th>\n",
              "      <th></th>\n",
              "      <th></th>\n",
              "    </tr>\n",
              "  </thead>\n",
              "  <tbody>\n",
              "    <tr>\n",
              "      <th>2018-05-31</th>\n",
              "      <td>TCS</td>\n",
              "      <td>EQ</td>\n",
              "      <td>31-May-2018</td>\n",
              "      <td>3514.10</td>\n",
              "      <td>1734.0</td>\n",
              "      <td>1759.05</td>\n",
              "      <td>1726.10</td>\n",
              "      <td>1748.85</td>\n",
              "      <td>1741.05</td>\n",
              "      <td>1742.44</td>\n",
              "      <td>5049371</td>\n",
              "      <td>8.798250e+09</td>\n",
              "      <td>207998</td>\n",
              "      <td>3447026</td>\n",
              "      <td>68.27</td>\n",
              "    </tr>\n",
              "    <tr>\n",
              "      <th>2018-06-01</th>\n",
              "      <td>TCS</td>\n",
              "      <td>EQ</td>\n",
              "      <td>01-Jun-2018</td>\n",
              "      <td>1741.05</td>\n",
              "      <td>1754.0</td>\n",
              "      <td>1757.50</td>\n",
              "      <td>1716.30</td>\n",
              "      <td>1732.00</td>\n",
              "      <td>1732.45</td>\n",
              "      <td>1742.29</td>\n",
              "      <td>1603856</td>\n",
              "      <td>2.794386e+09</td>\n",
              "      <td>74272</td>\n",
              "      <td>924751</td>\n",
              "      <td>57.66</td>\n",
              "    </tr>\n",
              "    <tr>\n",
              "      <th>2018-06-04</th>\n",
              "      <td>TCS</td>\n",
              "      <td>EQ</td>\n",
              "      <td>04-Jun-2018</td>\n",
              "      <td>1732.45</td>\n",
              "      <td>1745.0</td>\n",
              "      <td>1749.00</td>\n",
              "      <td>1712.60</td>\n",
              "      <td>1742.00</td>\n",
              "      <td>1744.25</td>\n",
              "      <td>1730.25</td>\n",
              "      <td>1681483</td>\n",
              "      <td>2.909394e+09</td>\n",
              "      <td>96686</td>\n",
              "      <td>928452</td>\n",
              "      <td>55.22</td>\n",
              "    </tr>\n",
              "    <tr>\n",
              "      <th>2018-06-05</th>\n",
              "      <td>TCS</td>\n",
              "      <td>EQ</td>\n",
              "      <td>05-Jun-2018</td>\n",
              "      <td>1744.25</td>\n",
              "      <td>1744.0</td>\n",
              "      <td>1751.90</td>\n",
              "      <td>1711.15</td>\n",
              "      <td>1723.00</td>\n",
              "      <td>1721.60</td>\n",
              "      <td>1728.88</td>\n",
              "      <td>2449568</td>\n",
              "      <td>4.235001e+09</td>\n",
              "      <td>133067</td>\n",
              "      <td>1492228</td>\n",
              "      <td>60.92</td>\n",
              "    </tr>\n",
              "    <tr>\n",
              "      <th>2018-06-06</th>\n",
              "      <td>TCS</td>\n",
              "      <td>EQ</td>\n",
              "      <td>06-Jun-2018</td>\n",
              "      <td>1721.60</td>\n",
              "      <td>1723.0</td>\n",
              "      <td>1734.90</td>\n",
              "      <td>1715.20</td>\n",
              "      <td>1725.00</td>\n",
              "      <td>1725.75</td>\n",
              "      <td>1725.85</td>\n",
              "      <td>2236512</td>\n",
              "      <td>3.859875e+09</td>\n",
              "      <td>73770</td>\n",
              "      <td>1573892</td>\n",
              "      <td>70.37</td>\n",
              "    </tr>\n",
              "  </tbody>\n",
              "</table>\n",
              "</div>"
            ],
            "text/plain": [
              "           Symbol Series  ... Deliverable Qty  % Dly Qt to Traded Qty\n",
              "Date                      ...                                        \n",
              "2018-05-31    TCS     EQ  ...         3447026                   68.27\n",
              "2018-06-01    TCS     EQ  ...          924751                   57.66\n",
              "2018-06-04    TCS     EQ  ...          928452                   55.22\n",
              "2018-06-05    TCS     EQ  ...         1492228                   60.92\n",
              "2018-06-06    TCS     EQ  ...         1573892                   70.37\n",
              "\n",
              "[5 rows x 15 columns]"
            ]
          },
          "metadata": {
            "tags": []
          },
          "execution_count": 60
        }
      ]
    },
    {
      "cell_type": "code",
      "metadata": {
        "id": "oeUjvDmUFNx5",
        "colab_type": "code",
        "outputId": "09af49c1-71a2-4e0e-fb4f-2e8ca707848f",
        "colab": {
          "base_uri": "https://localhost:8080/",
          "height": 163
        }
      },
      "source": [
        "df.index"
      ],
      "execution_count": 61,
      "outputs": [
        {
          "output_type": "execute_result",
          "data": {
            "text/plain": [
              "DatetimeIndex(['2018-05-31', '2018-06-01', '2018-06-04', '2018-06-05',\n",
              "               '2018-06-06', '2018-06-07', '2018-06-08', '2018-06-11',\n",
              "               '2018-06-12', '2018-06-13',\n",
              "               ...\n",
              "               '2019-05-17', '2019-05-20', '2019-05-21', '2019-05-22',\n",
              "               '2019-05-23', '2019-05-24', '2019-05-27', '2019-05-28',\n",
              "               '2019-05-29', '2019-05-30'],\n",
              "              dtype='datetime64[ns]', name='Date', length=246, freq=None)"
            ]
          },
          "metadata": {
            "tags": []
          },
          "execution_count": 61
        }
      ]
    },
    {
      "cell_type": "code",
      "metadata": {
        "id": "k6PBSfhsFNx7",
        "colab_type": "code",
        "outputId": "0ef075ca-7fd9-4d4c-deb3-31325c62fae5",
        "colab": {
          "base_uri": "https://localhost:8080/",
          "height": 303
        }
      },
      "source": [
        "y = np.log(df[\"Close Price\"])\n",
        "y.plot()"
      ],
      "execution_count": 62,
      "outputs": [
        {
          "output_type": "execute_result",
          "data": {
            "text/plain": [
              "<matplotlib.axes._subplots.AxesSubplot at 0x7f1bbcd06b00>"
            ]
          },
          "metadata": {
            "tags": []
          },
          "execution_count": 62
        },
        {
          "output_type": "display_data",
          "data": {
            "image/png": "[encoded data removed]",
            "text/plain": [
              "<Figure size 432x288 with 1 Axes>"
            ]
          },
          "metadata": {
            "tags": []
          }
        }
      ]
    },
    {
      "cell_type": "code",
      "metadata": {
        "id": "5T3AzUUDFNx9",
        "colab_type": "code",
        "outputId": "5699dbe6-9b1b-499d-ed06-b4a3a77dea28",
        "colab": {
          "base_uri": "https://localhost:8080/",
          "height": 163
        }
      },
      "source": [
        "y.index"
      ],
      "execution_count": 64,
      "outputs": [
        {
          "output_type": "execute_result",
          "data": {
            "text/plain": [
              "DatetimeIndex(['2018-05-31', '2018-06-01', '2018-06-04', '2018-06-05',\n",
              "               '2018-06-06', '2018-06-07', '2018-06-08', '2018-06-11',\n",
              "               '2018-06-12', '2018-06-13',\n",
              "               ...\n",
              "               '2019-05-17', '2019-05-20', '2019-05-21', '2019-05-22',\n",
              "               '2019-05-23', '2019-05-24', '2019-05-27', '2019-05-28',\n",
              "               '2019-05-29', '2019-05-30'],\n",
              "              dtype='datetime64[ns]', name='Date', length=246, freq=None)"
            ]
          },
          "metadata": {
            "tags": []
          },
          "execution_count": 64
        }
      ]
    },
    {
      "cell_type": "markdown",
      "metadata": {
        "id": "gu3VrP8-FNx_",
        "colab_type": "text"
      },
      "source": [
        "Let's see if there are gaps in the data in terms of date range. Trading does not happen on weekends or national holidays. So there is no data on those days. "
      ]
    },
    {
      "cell_type": "code",
      "metadata": {
        "id": "TmV_rjcAFNyA",
        "colab_type": "code",
        "outputId": "7bec58e8-eb4c-4d31-b317-90d7c61e6050",
        "colab": {
          "base_uri": "https://localhost:8080/",
          "height": 199
        }
      },
      "source": [
        "list(y.index[:10])"
      ],
      "execution_count": 65,
      "outputs": [
        {
          "output_type": "execute_result",
          "data": {
            "text/plain": [
              "[Timestamp('2018-05-31 00:00:00'),\n",
              " Timestamp('2018-06-01 00:00:00'),\n",
              " Timestamp('2018-06-04 00:00:00'),\n",
              " Timestamp('2018-06-05 00:00:00'),\n",
              " Timestamp('2018-06-06 00:00:00'),\n",
              " Timestamp('2018-06-07 00:00:00'),\n",
              " Timestamp('2018-06-08 00:00:00'),\n",
              " Timestamp('2018-06-11 00:00:00'),\n",
              " Timestamp('2018-06-12 00:00:00'),\n",
              " Timestamp('2018-06-13 00:00:00')]"
            ]
          },
          "metadata": {
            "tags": []
          },
          "execution_count": 65
        }
      ]
    },
    {
      "cell_type": "code",
      "metadata": {
        "id": "YwVAfzHDFNyC",
        "colab_type": "code",
        "outputId": "89033fa2-b425-4766-b4ed-aea315eff1ae",
        "colab": {
          "base_uri": "https://localhost:8080/",
          "height": 326
        }
      },
      "source": [
        "y.asfreq(\"D\")[:15]"
      ],
      "execution_count": 66,
      "outputs": [
        {
          "output_type": "execute_result",
          "data": {
            "text/plain": [
              "Date\n",
              "2018-05-31    7.462244\n",
              "2018-06-01    7.457292\n",
              "2018-06-02         NaN\n",
              "2018-06-03         NaN\n",
              "2018-06-04    7.464080\n",
              "2018-06-05    7.451009\n",
              "2018-06-06    7.453417\n",
              "2018-06-07    7.459080\n",
              "2018-06-08    7.465713\n",
              "2018-06-09         NaN\n",
              "2018-06-10         NaN\n",
              "2018-06-11    7.467200\n",
              "2018-06-12    7.484930\n",
              "2018-06-13    7.508842\n",
              "2018-06-14    7.488601\n",
              "Freq: D, Name: Close Price, dtype: float64"
            ]
          },
          "metadata": {
            "tags": []
          },
          "execution_count": 66
        }
      ]
    },
    {
      "cell_type": "markdown",
      "metadata": {
        "id": "ehtzDcurFNyE",
        "colab_type": "text"
      },
      "source": [
        "Let's impute the missing data by forward fill using asfreq method."
      ]
    },
    {
      "cell_type": "code",
      "metadata": {
        "scrolled": false,
        "id": "l_-rBTydFNyF",
        "colab_type": "code",
        "outputId": "fca2ebec-a51f-4e63-a2ba-21d4c43dd215",
        "colab": {
          "base_uri": "https://localhost:8080/",
          "height": 326
        }
      },
      "source": [
        "y.asfreq(\"D\", method=\"ffill\")[:15]"
      ],
      "execution_count": 67,
      "outputs": [
        {
          "output_type": "execute_result",
          "data": {
            "text/plain": [
              "Date\n",
              "2018-05-31    7.462244\n",
              "2018-06-01    7.457292\n",
              "2018-06-02    7.457292\n",
              "2018-06-03    7.457292\n",
              "2018-06-04    7.464080\n",
              "2018-06-05    7.451009\n",
              "2018-06-06    7.453417\n",
              "2018-06-07    7.459080\n",
              "2018-06-08    7.465713\n",
              "2018-06-09    7.465713\n",
              "2018-06-10    7.465713\n",
              "2018-06-11    7.467200\n",
              "2018-06-12    7.484930\n",
              "2018-06-13    7.508842\n",
              "2018-06-14    7.488601\n",
              "Freq: D, Name: Close Price, dtype: float64"
            ]
          },
          "metadata": {
            "tags": []
          },
          "execution_count": 67
        }
      ]
    },
    {
      "cell_type": "markdown",
      "metadata": {
        "id": "EyJ1scXpFNyH",
        "colab_type": "text"
      },
      "source": [
        "For legitimate gaps, we can also set frequency to business days (\"B\")"
      ]
    },
    {
      "cell_type": "code",
      "metadata": {
        "id": "DIP-GEZxFNyI",
        "colab_type": "code",
        "outputId": "e48b3296-7c64-44ff-ea77-8f24466b84bf",
        "colab": {
          "base_uri": "https://localhost:8080/",
          "height": 163
        }
      },
      "source": [
        "y = y.asfreq(\"B\")\n",
        "y.index"
      ],
      "execution_count": 68,
      "outputs": [
        {
          "output_type": "execute_result",
          "data": {
            "text/plain": [
              "DatetimeIndex(['2018-05-31', '2018-06-01', '2018-06-04', '2018-06-05',\n",
              "               '2018-06-06', '2018-06-07', '2018-06-08', '2018-06-11',\n",
              "               '2018-06-12', '2018-06-13',\n",
              "               ...\n",
              "               '2019-05-17', '2019-05-20', '2019-05-21', '2019-05-22',\n",
              "               '2019-05-23', '2019-05-24', '2019-05-27', '2019-05-28',\n",
              "               '2019-05-29', '2019-05-30'],\n",
              "              dtype='datetime64[ns]', name='Date', length=261, freq='B')"
            ]
          },
          "metadata": {
            "tags": []
          },
          "execution_count": 68
        }
      ]
    },
    {
      "cell_type": "markdown",
      "metadata": {
        "id": "Sdh69tjaFNyK",
        "colab_type": "text"
      },
      "source": [
        "Calculate quarterly high, low etc. "
      ]
    },
    {
      "cell_type": "code",
      "metadata": {
        "id": "SHhxZGGOFNyL",
        "colab_type": "code",
        "outputId": "720fabfc-0664-4fd8-bf18-6d3e9aafba53",
        "colab": {
          "base_uri": "https://localhost:8080/",
          "height": 228
        }
      },
      "source": [
        "pd.DataFrame(dict(low=y.resample(\"Q\").min(), \n",
        "                  high=y.resample(\"Q\").max(), \n",
        "                  first = y.resample(\"Q\").first(), \n",
        "                  last = y.resample(\"Q\").last(),\n",
        "                  median = y.resample(\"Q\").median(),\n",
        "                  mean = y.resample(\"Q\").mean()\n",
        "                 ))"
      ],
      "execution_count": 69,
      "outputs": [
        {
          "output_type": "execute_result",
          "data": {
            "text/html": [
              "<div>\n",
              "<style scoped>\n",
              "    .dataframe tbody tr th:only-of-type {\n",
              "        vertical-align: middle;\n",
              "    }\n",
              "\n",
              "    .dataframe tbody tr th {\n",
              "        vertical-align: top;\n",
              "    }\n",
              "\n",
              "    .dataframe thead th {\n",
              "        text-align: right;\n",
              "    }\n",
              "</style>\n",
              "<table border=\"1\" class=\"dataframe\">\n",
              "  <thead>\n",
              "    <tr style=\"text-align: right;\">\n",
              "      <th></th>\n",
              "      <th>low</th>\n",
              "      <th>high</th>\n",
              "      <th>first</th>\n",
              "      <th>last</th>\n",
              "      <th>median</th>\n",
              "      <th>mean</th>\n",
              "    </tr>\n",
              "    <tr>\n",
              "      <th>Date</th>\n",
              "      <th></th>\n",
              "      <th></th>\n",
              "      <th></th>\n",
              "      <th></th>\n",
              "      <th></th>\n",
              "      <th></th>\n",
              "    </tr>\n",
              "  </thead>\n",
              "  <tbody>\n",
              "    <tr>\n",
              "      <th>2018-06-30</th>\n",
              "      <td>7.451009</td>\n",
              "      <td>7.527256</td>\n",
              "      <td>7.462244</td>\n",
              "      <td>7.521724</td>\n",
              "      <td>7.503576</td>\n",
              "      <td>7.491539</td>\n",
              "    </tr>\n",
              "    <tr>\n",
              "      <th>2018-09-30</th>\n",
              "      <td>7.523670</td>\n",
              "      <td>7.695508</td>\n",
              "      <td>7.523670</td>\n",
              "      <td>7.688776</td>\n",
              "      <td>7.602676</td>\n",
              "      <td>7.607829</td>\n",
              "    </tr>\n",
              "    <tr>\n",
              "      <th>2018-12-31</th>\n",
              "      <td>7.495042</td>\n",
              "      <td>7.721149</td>\n",
              "      <td>7.721149</td>\n",
              "      <td>7.545945</td>\n",
              "      <td>7.567837</td>\n",
              "      <td>7.572861</td>\n",
              "    </tr>\n",
              "    <tr>\n",
              "      <th>2019-03-31</th>\n",
              "      <td>7.502876</td>\n",
              "      <td>7.641516</td>\n",
              "      <td>7.551082</td>\n",
              "      <td>7.601727</td>\n",
              "      <td>7.593789</td>\n",
              "      <td>7.585512</td>\n",
              "    </tr>\n",
              "    <tr>\n",
              "      <th>2019-06-30</th>\n",
              "      <td>7.608126</td>\n",
              "      <td>7.723275</td>\n",
              "      <td>7.616604</td>\n",
              "      <td>7.671501</td>\n",
              "      <td>7.654088</td>\n",
              "      <td>7.655684</td>\n",
              "    </tr>\n",
              "  </tbody>\n",
              "</table>\n",
              "</div>"
            ],
            "text/plain": [
              "                 low      high     first      last    median      mean\n",
              "Date                                                                  \n",
              "2018-06-30  7.451009  7.527256  7.462244  7.521724  7.503576  7.491539\n",
              "2018-09-30  7.523670  7.695508  7.523670  7.688776  7.602676  7.607829\n",
              "2018-12-31  7.495042  7.721149  7.721149  7.545945  7.567837  7.572861\n",
              "2019-03-31  7.502876  7.641516  7.551082  7.601727  7.593789  7.585512\n",
              "2019-06-30  7.608126  7.723275  7.616604  7.671501  7.654088  7.655684"
            ]
          },
          "metadata": {
            "tags": []
          },
          "execution_count": 69
        }
      ]
    },
    {
      "cell_type": "markdown",
      "metadata": {
        "id": "7uA0UcnWFNyN",
        "colab_type": "text"
      },
      "source": [
        "Calculate rolling mean, exponentially weighted mean"
      ]
    },
    {
      "cell_type": "code",
      "metadata": {
        "id": "J-FVkjKaFNyO",
        "colab_type": "code",
        "outputId": "035d77f6-44dd-4d35-bdfd-a6e7395b8501",
        "colab": {
          "base_uri": "https://localhost:8080/",
          "height": 378
        }
      },
      "source": [
        "period = 3\n",
        "y_rolling = pd.DataFrame(dict(actual = y, \n",
        "                              rolling_mean = y.rolling(period).mean(), \n",
        "                              ewm = y.ewm(span = period).mean()\n",
        "                             ))\n",
        "y_rolling.head(10)"
      ],
      "execution_count": 70,
      "outputs": [
        {
          "output_type": "execute_result",
          "data": {
            "text/html": [
              "<div>\n",
              "<style scoped>\n",
              "    .dataframe tbody tr th:only-of-type {\n",
              "        vertical-align: middle;\n",
              "    }\n",
              "\n",
              "    .dataframe tbody tr th {\n",
              "        vertical-align: top;\n",
              "    }\n",
              "\n",
              "    .dataframe thead th {\n",
              "        text-align: right;\n",
              "    }\n",
              "</style>\n",
              "<table border=\"1\" class=\"dataframe\">\n",
              "  <thead>\n",
              "    <tr style=\"text-align: right;\">\n",
              "      <th></th>\n",
              "      <th>actual</th>\n",
              "      <th>rolling_mean</th>\n",
              "      <th>ewm</th>\n",
              "    </tr>\n",
              "    <tr>\n",
              "      <th>Date</th>\n",
              "      <th></th>\n",
              "      <th></th>\n",
              "      <th></th>\n",
              "    </tr>\n",
              "  </thead>\n",
              "  <tbody>\n",
              "    <tr>\n",
              "      <th>2018-05-31</th>\n",
              "      <td>7.462244</td>\n",
              "      <td>NaN</td>\n",
              "      <td>7.462244</td>\n",
              "    </tr>\n",
              "    <tr>\n",
              "      <th>2018-06-01</th>\n",
              "      <td>7.457292</td>\n",
              "      <td>NaN</td>\n",
              "      <td>7.458942</td>\n",
              "    </tr>\n",
              "    <tr>\n",
              "      <th>2018-06-04</th>\n",
              "      <td>7.464080</td>\n",
              "      <td>7.461205</td>\n",
              "      <td>7.461878</td>\n",
              "    </tr>\n",
              "    <tr>\n",
              "      <th>2018-06-05</th>\n",
              "      <td>7.451009</td>\n",
              "      <td>7.457460</td>\n",
              "      <td>7.456081</td>\n",
              "    </tr>\n",
              "    <tr>\n",
              "      <th>2018-06-06</th>\n",
              "      <td>7.453417</td>\n",
              "      <td>7.456169</td>\n",
              "      <td>7.454706</td>\n",
              "    </tr>\n",
              "    <tr>\n",
              "      <th>2018-06-07</th>\n",
              "      <td>7.459080</td>\n",
              "      <td>7.454502</td>\n",
              "      <td>7.456928</td>\n",
              "    </tr>\n",
              "    <tr>\n",
              "      <th>2018-06-08</th>\n",
              "      <td>7.465713</td>\n",
              "      <td>7.459403</td>\n",
              "      <td>7.461355</td>\n",
              "    </tr>\n",
              "    <tr>\n",
              "      <th>2018-06-11</th>\n",
              "      <td>7.467200</td>\n",
              "      <td>7.463997</td>\n",
              "      <td>7.464289</td>\n",
              "    </tr>\n",
              "    <tr>\n",
              "      <th>2018-06-12</th>\n",
              "      <td>7.484930</td>\n",
              "      <td>7.472614</td>\n",
              "      <td>7.474630</td>\n",
              "    </tr>\n",
              "    <tr>\n",
              "      <th>2018-06-13</th>\n",
              "      <td>7.508842</td>\n",
              "      <td>7.486991</td>\n",
              "      <td>7.491753</td>\n",
              "    </tr>\n",
              "  </tbody>\n",
              "</table>\n",
              "</div>"
            ],
            "text/plain": [
              "              actual  rolling_mean       ewm\n",
              "Date                                        \n",
              "2018-05-31  7.462244           NaN  7.462244\n",
              "2018-06-01  7.457292           NaN  7.458942\n",
              "2018-06-04  7.464080      7.461205  7.461878\n",
              "2018-06-05  7.451009      7.457460  7.456081\n",
              "2018-06-06  7.453417      7.456169  7.454706\n",
              "2018-06-07  7.459080      7.454502  7.456928\n",
              "2018-06-08  7.465713      7.459403  7.461355\n",
              "2018-06-11  7.467200      7.463997  7.464289\n",
              "2018-06-12  7.484930      7.472614  7.474630\n",
              "2018-06-13  7.508842      7.486991  7.491753"
            ]
          },
          "metadata": {
            "tags": []
          },
          "execution_count": 70
        }
      ]
    },
    {
      "cell_type": "code",
      "metadata": {
        "id": "wNgNtXeZFNyQ",
        "colab_type": "code",
        "outputId": "5025b9e8-b8e1-458c-9231-5237b10dcddf",
        "colab": {
          "base_uri": "https://localhost:8080/",
          "height": 54
        }
      },
      "source": [
        "rolling_dropped = y_rolling.dropna()\n",
        "print(\"rmse over rolling mean: \", metrics.mean_squared_error(rolling_dropped.actual, rolling_dropped.rolling_mean) ** 0.5)\n",
        "print(\"rmse over ewma: \", metrics.mean_squared_error(rolling_dropped.actual, rolling_dropped[\"ewm\"]) ** 0.5)"
      ],
      "execution_count": 71,
      "outputs": [
        {
          "output_type": "stream",
          "text": [
            "rmse over rolling mean:  0.011226801116974697\n",
            "rmse over ewma:  0.008422829060485497\n"
          ],
          "name": "stdout"
        }
      ]
    },
    {
      "cell_type": "markdown",
      "metadata": {
        "id": "x9BHLul-FNyT",
        "colab_type": "text"
      },
      "source": [
        "By visual inspection, we see the time series is not stationary. Let we will see a more formal way of testing using Dickey Fullter Test. "
      ]
    },
    {
      "cell_type": "code",
      "metadata": {
        "id": "1up7X-ndFNyT",
        "colab_type": "code",
        "outputId": "78134c71-bda5-4fe9-a346-75f0fa785b1d",
        "colab": {
          "base_uri": "https://localhost:8080/",
          "height": 315
        }
      },
      "source": [
        "y_rolling.plot()"
      ],
      "execution_count": 72,
      "outputs": [
        {
          "output_type": "execute_result",
          "data": {
            "text/plain": [
              "<matplotlib.axes._subplots.AxesSubplot at 0x7f1bbd67c748>"
            ]
          },
          "metadata": {
            "tags": []
          },
          "execution_count": 72
        },
        {
          "output_type": "display_data",
          "data": {
            "image/png": "[encoded data removed]",
            "text/plain": [
              "<Figure size 432x288 with 1 Axes>"
            ]
          },
          "metadata": {
            "tags": []
          }
        }
      ]
    },
    {
      "cell_type": "markdown",
      "metadata": {
        "id": "iI4rMCkEFNyX",
        "colab_type": "text"
      },
      "source": [
        "Formal of way of test for stationarity. Since the p-value of Augmented Dickey Fullter test is > 0.05, we can say that there is not sufficient proof that the time series is stationary. Loosely speaking, it is non-stationary. We need further transformation to make data stationary. Populary method for making data stationary will be to take \"difference\". Taking difference by lag one, we see the p-val for Dickey Fuller test is < 0.05. So we conclude, diff 1 has made the data stationary. "
      ]
    },
    {
      "cell_type": "code",
      "metadata": {
        "id": "q1KcEBdPFNyb",
        "colab_type": "code",
        "outputId": "d66130fd-55db-45f9-e17f-ab106ccb29bb",
        "colab": {
          "base_uri": "https://localhost:8080/",
          "height": 54
        }
      },
      "source": [
        "from statsmodels.tsa.stattools import adfuller\n",
        "from numpy import log\n",
        "result = adfuller(y.dropna())\n",
        "print('ADF Statistic: %f' % result[0])\n",
        "print('p-value: %f' % result[1])"
      ],
      "execution_count": 73,
      "outputs": [
        {
          "output_type": "stream",
          "text": [
            "ADF Statistic: -2.645513\n",
            "p-value: 0.083951\n"
          ],
          "name": "stdout"
        }
      ]
    },
    {
      "cell_type": "code",
      "metadata": {
        "id": "SkBIWQfWFNyf",
        "colab_type": "code",
        "outputId": "69797516-5f55-49ea-c68d-c0f2f5754351",
        "colab": {
          "base_uri": "https://localhost:8080/",
          "height": 378
        }
      },
      "source": [
        "diff = pd.DataFrame({\"actual\": y, \"diff1\": y.diff(3)}).head(10)\n",
        "diff[\"diff2\"] = diff.diff1.diff(1)\n",
        "diff"
      ],
      "execution_count": 74,
      "outputs": [
        {
          "output_type": "execute_result",
          "data": {
            "text/html": [
              "<div>\n",
              "<style scoped>\n",
              "    .dataframe tbody tr th:only-of-type {\n",
              "        vertical-align: middle;\n",
              "    }\n",
              "\n",
              "    .dataframe tbody tr th {\n",
              "        vertical-align: top;\n",
              "    }\n",
              "\n",
              "    .dataframe thead th {\n",
              "        text-align: right;\n",
              "    }\n",
              "</style>\n",
              "<table border=\"1\" class=\"dataframe\">\n",
              "  <thead>\n",
              "    <tr style=\"text-align: right;\">\n",
              "      <th></th>\n",
              "      <th>actual</th>\n",
              "      <th>diff1</th>\n",
              "      <th>diff2</th>\n",
              "    </tr>\n",
              "    <tr>\n",
              "      <th>Date</th>\n",
              "      <th></th>\n",
              "      <th></th>\n",
              "      <th></th>\n",
              "    </tr>\n",
              "  </thead>\n",
              "  <tbody>\n",
              "    <tr>\n",
              "      <th>2018-05-31</th>\n",
              "      <td>7.462244</td>\n",
              "      <td>NaN</td>\n",
              "      <td>NaN</td>\n",
              "    </tr>\n",
              "    <tr>\n",
              "      <th>2018-06-01</th>\n",
              "      <td>7.457292</td>\n",
              "      <td>NaN</td>\n",
              "      <td>NaN</td>\n",
              "    </tr>\n",
              "    <tr>\n",
              "      <th>2018-06-04</th>\n",
              "      <td>7.464080</td>\n",
              "      <td>NaN</td>\n",
              "      <td>NaN</td>\n",
              "    </tr>\n",
              "    <tr>\n",
              "      <th>2018-06-05</th>\n",
              "      <td>7.451009</td>\n",
              "      <td>-0.011234</td>\n",
              "      <td>NaN</td>\n",
              "    </tr>\n",
              "    <tr>\n",
              "      <th>2018-06-06</th>\n",
              "      <td>7.453417</td>\n",
              "      <td>-0.003875</td>\n",
              "      <td>0.007359</td>\n",
              "    </tr>\n",
              "    <tr>\n",
              "      <th>2018-06-07</th>\n",
              "      <td>7.459080</td>\n",
              "      <td>-0.005000</td>\n",
              "      <td>-0.001125</td>\n",
              "    </tr>\n",
              "    <tr>\n",
              "      <th>2018-06-08</th>\n",
              "      <td>7.465713</td>\n",
              "      <td>0.014703</td>\n",
              "      <td>0.019703</td>\n",
              "    </tr>\n",
              "    <tr>\n",
              "      <th>2018-06-11</th>\n",
              "      <td>7.467200</td>\n",
              "      <td>0.013783</td>\n",
              "      <td>-0.000921</td>\n",
              "    </tr>\n",
              "    <tr>\n",
              "      <th>2018-06-12</th>\n",
              "      <td>7.484930</td>\n",
              "      <td>0.025851</td>\n",
              "      <td>0.012068</td>\n",
              "    </tr>\n",
              "    <tr>\n",
              "      <th>2018-06-13</th>\n",
              "      <td>7.508842</td>\n",
              "      <td>0.043129</td>\n",
              "      <td>0.017279</td>\n",
              "    </tr>\n",
              "  </tbody>\n",
              "</table>\n",
              "</div>"
            ],
            "text/plain": [
              "              actual     diff1     diff2\n",
              "Date                                    \n",
              "2018-05-31  7.462244       NaN       NaN\n",
              "2018-06-01  7.457292       NaN       NaN\n",
              "2018-06-04  7.464080       NaN       NaN\n",
              "2018-06-05  7.451009 -0.011234       NaN\n",
              "2018-06-06  7.453417 -0.003875  0.007359\n",
              "2018-06-07  7.459080 -0.005000 -0.001125\n",
              "2018-06-08  7.465713  0.014703  0.019703\n",
              "2018-06-11  7.467200  0.013783 -0.000921\n",
              "2018-06-12  7.484930  0.025851  0.012068\n",
              "2018-06-13  7.508842  0.043129  0.017279"
            ]
          },
          "metadata": {
            "tags": []
          },
          "execution_count": 74
        }
      ]
    },
    {
      "cell_type": "code",
      "metadata": {
        "id": "5IspviqeFNyi",
        "colab_type": "code",
        "outputId": "2ea33efe-08e4-47ea-938e-3f17a10fb66c",
        "colab": {
          "base_uri": "https://localhost:8080/",
          "height": 54
        }
      },
      "source": [
        "result = adfuller(y.diff(periods=1).dropna())\n",
        "print('ADF Statistic: %f' % result[0])\n",
        "print('p-value: %f' % result[1])"
      ],
      "execution_count": 75,
      "outputs": [
        {
          "output_type": "stream",
          "text": [
            "ADF Statistic: -16.354529\n",
            "p-value: 0.000000\n"
          ],
          "name": "stdout"
        }
      ]
    },
    {
      "cell_type": "code",
      "metadata": {
        "id": "LMlKiRP0FNyk",
        "colab_type": "code",
        "outputId": "65f5988c-5980-4645-e2b7-97916d1a009c",
        "colab": {
          "base_uri": "https://localhost:8080/",
          "height": 315
        }
      },
      "source": [
        "y.diff(periods=1).plot()"
      ],
      "execution_count": 76,
      "outputs": [
        {
          "output_type": "execute_result",
          "data": {
            "text/plain": [
              "<matplotlib.axes._subplots.AxesSubplot at 0x7f1bbd592860>"
            ]
          },
          "metadata": {
            "tags": []
          },
          "execution_count": 76
        },
        {
          "output_type": "display_data",
          "data": {
            "image/png": "[encoded data removed]",
            "text/plain": [
              "<Figure size 432x288 with 1 Axes>"
            ]
          },
          "metadata": {
            "tags": []
          }
        }
      ]
    },
    {
      "cell_type": "markdown",
      "metadata": {
        "id": "HOW_ypcEFNym",
        "colab_type": "text"
      },
      "source": [
        "Use pandas's auto correlation plot. Here is a nice explanation of the [autocorrelation plot](https://stats.stackexchange.com/questions/357300/what-does-pandas-autocorrelation-graph-show) "
      ]
    },
    {
      "cell_type": "code",
      "metadata": {
        "id": "1At-iSo6FNyn",
        "colab_type": "code",
        "outputId": "876da6c1-725a-4609-c56c-984427c3c030",
        "colab": {
          "base_uri": "https://localhost:8080/",
          "height": 305
        }
      },
      "source": [
        "from pandas.plotting import autocorrelation_plot\n",
        "autocorrelation_plot(y)"
      ],
      "execution_count": 77,
      "outputs": [
        {
          "output_type": "execute_result",
          "data": {
            "text/plain": [
              "<matplotlib.axes._subplots.AxesSubplot at 0x7f1bbd533c50>"
            ]
          },
          "metadata": {
            "tags": []
          },
          "execution_count": 77
        },
        {
          "output_type": "display_data",
          "data": {
            "image/png": "[encoded data removed]",
            "text/plain": [
              "<Figure size 432x288 with 1 Axes>"
            ]
          },
          "metadata": {
            "tags": []
          }
        }
      ]
    },
    {
      "cell_type": "code",
      "metadata": {
        "id": "e9-l4Yr4FNyp",
        "colab_type": "code",
        "colab": {}
      },
      "source": [
        "y = y.dropna()"
      ],
      "execution_count": 0,
      "outputs": []
    },
    {
      "cell_type": "code",
      "metadata": {
        "id": "8DH9KLwIFNyq",
        "colab_type": "code",
        "outputId": "57d490de-b528-4429-de03-2790be0c6e2b",
        "colab": {
          "base_uri": "https://localhost:8080/",
          "height": 793
        }
      },
      "source": [
        "from statsmodels.tsa.arima_model import ARIMA\n",
        "\n",
        "# fit model\n",
        "model = ARIMA(y, order=(5,1,0)) # p, d, q\n",
        "model_fit = model.fit(disp=0)\n",
        "#print(model_fit.summary())\n",
        "\n",
        "# plot residual erros\n",
        "residuals = pd.DataFrame(model_fit.resid)\n",
        "residuals.plot()\n",
        "residuals.plot(kind='kde')\n",
        "print(residuals.describe())"
      ],
      "execution_count": 79,
      "outputs": [
        {
          "output_type": "stream",
          "text": [
            "/usr/local/lib/python3.6/dist-packages/statsmodels/tsa/base/tsa_model.py:219: ValueWarning: A date index has been provided, but it has no associated frequency information and so will be ignored when e.g. forecasting.\n",
            "  ' ignored when e.g. forecasting.', ValueWarning)\n",
            "/usr/local/lib/python3.6/dist-packages/statsmodels/tsa/base/tsa_model.py:219: ValueWarning: A date index has been provided, but it has no associated frequency information and so will be ignored when e.g. forecasting.\n",
            "  ' ignored when e.g. forecasting.', ValueWarning)\n"
          ],
          "name": "stderr"
        },
        {
          "output_type": "stream",
          "text": [
            "                0\n",
            "count  245.000000\n",
            "mean    -0.000001\n",
            "std      0.015648\n",
            "min     -0.064712\n",
            "25%     -0.007517\n",
            "50%      0.000321\n",
            "75%      0.007957\n",
            "max      0.060259\n"
          ],
          "name": "stdout"
        },
        {
          "output_type": "display_data",
          "data": {
            "image/png": "[encoded data removed]",
            "text/plain": [
              "<Figure size 432x288 with 1 Axes>"
            ]
          },
          "metadata": {
            "tags": []
          }
        },
        {
          "output_type": "display_data",
          "data": {
            "image/png": "[encoded data removed]",
            "text/plain": [
              "<Figure size 432x288 with 1 Axes>"
            ]
          },
          "metadata": {
            "tags": []
          }
        }
      ]
    },
    {
      "cell_type": "code",
      "metadata": {
        "id": "KLuXGt9TFNys",
        "colab_type": "code",
        "outputId": "842afc80-215d-4160-d0f8-0dd395e553f1",
        "colab": {
          "base_uri": "https://localhost:8080/",
          "height": 458
        }
      },
      "source": [
        "model_fit.summary()"
      ],
      "execution_count": 80,
      "outputs": [
        {
          "output_type": "execute_result",
          "data": {
            "text/html": [
              "<table class=\"simpletable\">\n",
              "<caption>ARIMA Model Results</caption>\n",
              "<tr>\n",
              "  <th>Dep. Variable:</th>   <td>D.Close Price</td>  <th>  No. Observations:  </th>    <td>245</td>   \n",
              "</tr>\n",
              "<tr>\n",
              "  <th>Model:</th>          <td>ARIMA(5, 1, 0)</td>  <th>  Log Likelihood     </th>  <td>671.412</td> \n",
              "</tr>\n",
              "<tr>\n",
              "  <th>Method:</th>             <td>css-mle</td>     <th>  S.D. of innovations</th>   <td>0.016</td>  \n",
              "</tr>\n",
              "<tr>\n",
              "  <th>Date:</th>          <td>Tue, 27 Aug 2019</td> <th>  AIC                </th> <td>-1328.824</td>\n",
              "</tr>\n",
              "<tr>\n",
              "  <th>Time:</th>              <td>09:33:42</td>     <th>  BIC                </th> <td>-1304.315</td>\n",
              "</tr>\n",
              "<tr>\n",
              "  <th>Sample:</th>                <td>1</td>        <th>  HQIC               </th> <td>-1318.954</td>\n",
              "</tr>\n",
              "<tr>\n",
              "  <th></th>                       <td> </td>        <th>                     </th>     <td> </td>    \n",
              "</tr>\n",
              "</table>\n",
              "<table class=\"simpletable\">\n",
              "<tr>\n",
              "           <td></td>              <th>coef</th>     <th>std err</th>      <th>z</th>      <th>P>|z|</th>  <th>[0.025</th>    <th>0.975]</th>  \n",
              "</tr>\n",
              "<tr>\n",
              "  <th>const</th>               <td>    0.0008</td> <td>    0.001</td> <td>    0.922</td> <td> 0.357</td> <td>   -0.001</td> <td>    0.003</td>\n",
              "</tr>\n",
              "<tr>\n",
              "  <th>ar.L1.D.Close Price</th> <td>   -0.0124</td> <td>    0.064</td> <td>   -0.193</td> <td> 0.847</td> <td>   -0.138</td> <td>    0.113</td>\n",
              "</tr>\n",
              "<tr>\n",
              "  <th>ar.L2.D.Close Price</th> <td>   -0.0835</td> <td>    0.064</td> <td>   -1.307</td> <td> 0.193</td> <td>   -0.209</td> <td>    0.042</td>\n",
              "</tr>\n",
              "<tr>\n",
              "  <th>ar.L3.D.Close Price</th> <td>   -0.0153</td> <td>    0.064</td> <td>   -0.239</td> <td> 0.812</td> <td>   -0.141</td> <td>    0.110</td>\n",
              "</tr>\n",
              "<tr>\n",
              "  <th>ar.L4.D.Close Price</th> <td>   -0.0336</td> <td>    0.064</td> <td>   -0.526</td> <td> 0.599</td> <td>   -0.158</td> <td>    0.091</td>\n",
              "</tr>\n",
              "<tr>\n",
              "  <th>ar.L5.D.Close Price</th> <td>    0.0545</td> <td>    0.064</td> <td>    0.857</td> <td> 0.393</td> <td>   -0.070</td> <td>    0.179</td>\n",
              "</tr>\n",
              "</table>\n",
              "<table class=\"simpletable\">\n",
              "<caption>Roots</caption>\n",
              "<tr>\n",
              "    <td></td>   <th>            Real</th>  <th>         Imaginary</th> <th>         Modulus</th>  <th>        Frequency</th>\n",
              "</tr>\n",
              "<tr>\n",
              "  <th>AR.1</th> <td>          -1.3265</td> <td>          -1.1035j</td> <td>           1.7255</td> <td>          -0.3896</td>\n",
              "</tr>\n",
              "<tr>\n",
              "  <th>AR.2</th> <td>          -1.3265</td> <td>          +1.1035j</td> <td>           1.7255</td> <td>           0.3896</td>\n",
              "</tr>\n",
              "<tr>\n",
              "  <th>AR.3</th> <td>           0.5898</td> <td>          -1.6129j</td> <td>           1.7173</td> <td>          -0.1942</td>\n",
              "</tr>\n",
              "<tr>\n",
              "  <th>AR.4</th> <td>           0.5898</td> <td>          +1.6129j</td> <td>           1.7173</td> <td>           0.1942</td>\n",
              "</tr>\n",
              "<tr>\n",
              "  <th>AR.5</th> <td>           2.0889</td> <td>          -0.0000j</td> <td>           2.0889</td> <td>          -0.0000</td>\n",
              "</tr>\n",
              "</table>"
            ],
            "text/plain": [
              "<class 'statsmodels.iolib.summary.Summary'>\n",
              "\"\"\"\n",
              "                             ARIMA Model Results                              \n",
              "==============================================================================\n",
              "Dep. Variable:          D.Close Price   No. Observations:                  245\n",
              "Model:                 ARIMA(5, 1, 0)   Log Likelihood                 671.412\n",
              "Method:                       css-mle   S.D. of innovations              0.016\n",
              "Date:                Tue, 27 Aug 2019   AIC                          -1328.824\n",
              "Time:                        09:33:42   BIC                          -1304.315\n",
              "Sample:                             1   HQIC                         -1318.954\n",
              "                                                                              \n",
              "=======================================================================================\n",
              "                          coef    std err          z      P>|z|      [0.025      0.975]\n",
              "---------------------------------------------------------------------------------------\n",
              "const                   0.0008      0.001      0.922      0.357      -0.001       0.003\n",
              "ar.L1.D.Close Price    -0.0124      0.064     -0.193      0.847      -0.138       0.113\n",
              "ar.L2.D.Close Price    -0.0835      0.064     -1.307      0.193      -0.209       0.042\n",
              "ar.L3.D.Close Price    -0.0153      0.064     -0.239      0.812      -0.141       0.110\n",
              "ar.L4.D.Close Price    -0.0336      0.064     -0.526      0.599      -0.158       0.091\n",
              "ar.L5.D.Close Price     0.0545      0.064      0.857      0.393      -0.070       0.179\n",
              "                                    Roots                                    \n",
              "=============================================================================\n",
              "                  Real          Imaginary           Modulus         Frequency\n",
              "-----------------------------------------------------------------------------\n",
              "AR.1           -1.3265           -1.1035j            1.7255           -0.3896\n",
              "AR.2           -1.3265           +1.1035j            1.7255            0.3896\n",
              "AR.3            0.5898           -1.6129j            1.7173           -0.1942\n",
              "AR.4            0.5898           +1.6129j            1.7173            0.1942\n",
              "AR.5            2.0889           -0.0000j            2.0889           -0.0000\n",
              "-----------------------------------------------------------------------------\n",
              "\"\"\""
            ]
          },
          "metadata": {
            "tags": []
          },
          "execution_count": 80
        }
      ]
    },
    {
      "cell_type": "code",
      "metadata": {
        "id": "lNcjHzdOFNyu",
        "colab_type": "code",
        "outputId": "e018cc1d-e025-4137-86d3-27ffa66b6fd5",
        "colab": {
          "base_uri": "https://localhost:8080/",
          "height": 287
        }
      },
      "source": [
        "model = ARIMA(y.values, order=(5,1,0))\n",
        "model_fit = model.fit(disp=0)\n",
        "predictions, error, conf_interval = model_fit.forecast(150)\n",
        "plt.plot(predictions)\n",
        "plt.fill_between(range(len(predictions)), conf_interval[:,0], conf_interval[:,1], alpha = 0.3)"
      ],
      "execution_count": 81,
      "outputs": [
        {
          "output_type": "execute_result",
          "data": {
            "text/plain": [
              "<matplotlib.collections.PolyCollection at 0x7f1bbd405630>"
            ]
          },
          "metadata": {
            "tags": []
          },
          "execution_count": 81
        },
        {
          "output_type": "display_data",
          "data": {
            "image/png": "[encoded data removed]",
            "text/plain": [
              "<Figure size 432x288 with 1 Axes>"
            ]
          },
          "metadata": {
            "tags": []
          }
        }
      ]
    },
    {
      "cell_type": "code",
      "metadata": {
        "id": "IedK1nU3FNyw",
        "colab_type": "code",
        "outputId": "155d184b-9d10-417e-bb6d-f8399b2964ec",
        "colab": {
          "base_uri": "https://localhost:8080/",
          "height": 54
        }
      },
      "source": [
        "predictions[:10]"
      ],
      "execution_count": 82,
      "outputs": [
        {
          "output_type": "execute_result",
          "data": {
            "text/plain": [
              "array([7.67043094, 7.66948429, 7.67017584, 7.67145334, 7.67334406,\n",
              "       7.67409747, 7.67475654, 7.67557197, 7.67642212, 7.67733182])"
            ]
          },
          "metadata": {
            "tags": []
          },
          "execution_count": 82
        }
      ]
    },
    {
      "cell_type": "code",
      "metadata": {
        "id": "0DsK25eMFNyy",
        "colab_type": "code",
        "outputId": "e124ab7b-f0f1-4fb4-c4d8-8ceb91426f45",
        "colab": {
          "base_uri": "https://localhost:8080/",
          "height": 54
        }
      },
      "source": [
        "error[:10]"
      ],
      "execution_count": 83,
      "outputs": [
        {
          "output_type": "execute_result",
          "data": {
            "text/plain": [
              "array([0.0156159 , 0.02194815, 0.02609877, 0.0295766 , 0.03251409,\n",
              "       0.03556231, 0.03839146, 0.04097907, 0.0434079 , 0.04569467])"
            ]
          },
          "metadata": {
            "tags": []
          },
          "execution_count": 83
        }
      ]
    },
    {
      "cell_type": "code",
      "metadata": {
        "scrolled": false,
        "id": "Zv4039KGFNy0",
        "colab_type": "code",
        "outputId": "0d3e3f9c-25b8-45b6-9c64-405563c7fdc8",
        "colab": {
          "base_uri": "https://localhost:8080/",
          "height": 199
        }
      },
      "source": [
        "conf_interval[:10]"
      ],
      "execution_count": 84,
      "outputs": [
        {
          "output_type": "execute_result",
          "data": {
            "text/plain": [
              "array([[7.63982434, 7.70103754],\n",
              "       [7.62646671, 7.71250187],\n",
              "       [7.61902319, 7.72132849],\n",
              "       [7.61348427, 7.72942241],\n",
              "       [7.60961761, 7.7370705 ],\n",
              "       [7.60439662, 7.74379832],\n",
              "       [7.59951065, 7.75000242],\n",
              "       [7.59525447, 7.75588947],\n",
              "       [7.5913442 , 7.76150003],\n",
              "       [7.58777191, 7.76689172]])"
            ]
          },
          "metadata": {
            "tags": []
          },
          "execution_count": 84
        }
      ]
    },
    {
      "cell_type": "code",
      "metadata": {
        "id": "viuLIaUsFNy2",
        "colab_type": "code",
        "outputId": "c10aeb7d-a05e-46fe-d3e0-a1e1dba89654",
        "colab": {
          "base_uri": "https://localhost:8080/",
          "height": 908
        }
      },
      "source": [
        "model.endog"
      ],
      "execution_count": 85,
      "outputs": [
        {
          "output_type": "execute_result",
          "data": {
            "text/plain": [
              "array([-0.00495179,  0.00678807, -0.01307057,  0.00240765,  0.00566263,\n",
              "        0.0066329 ,  0.00148707,  0.01773066,  0.02391171, -0.02024075,\n",
              "        0.02894678, -0.00602338, -0.00246339, -0.00112423, -0.00170246,\n",
              "       -0.00526295,  0.00520799,  0.01784181,  0.0032345 , -0.00826875,\n",
              "        0.0027368 ,  0.00194642,  0.01218676, -0.00422438,  0.00755385,\n",
              "        0.01721521, -0.0157803 , -0.00420426,  0.05438435, -0.00432775,\n",
              "        0.00493366,  0.0040803 ,  0.00648906, -0.00094943, -0.00946851,\n",
              "        0.00764207,  0.00452246, -0.00332114, -0.00879292, -0.00851457,\n",
              "       -0.01072046,  0.0004372 , -0.00226524,  0.01853654, -0.01431908,\n",
              "        0.01581051, -0.00197219, -0.00415938,  0.00337448,  0.00017729,\n",
              "        0.00945199,  0.00353096,  0.00169843,  0.00246757,  0.00211377,\n",
              "       -0.0013921 ,  0.00382362,  0.00861149,  0.00387436,  0.00385941,\n",
              "        0.00888334,  0.00135227,  0.00500675, -0.00192271, -0.01234494,\n",
              "        0.02215997, -0.00940615, -0.00190153,  0.00219005,  0.00043263,\n",
              "       -0.01671956, -0.00112464,  0.0104397 ,  0.00422752, -0.00164057,\n",
              "        0.00344691,  0.01207845,  0.04431635, -0.00696088, -0.01898169,\n",
              "        0.02156629, -0.00235561,  0.03237316, -0.04196705, -0.04639343,\n",
              "        0.01816508, -0.01200914,  0.00683562, -0.02331198, -0.03164137,\n",
              "       -0.03163221,  0.01613355,  0.00654433, -0.01690818, -0.00843184,\n",
              "       -0.00534564, -0.03168429,  0.0026272 ,  0.00243145, -0.02951941,\n",
              "        0.03918651,  0.01264024,  0.02262062, -0.00123906, -0.01158695,\n",
              "       -0.01188143,  0.02189153,  0.00487762, -0.0171113 ,  0.00295498,\n",
              "        0.0104422 , -0.02846402, -0.00415613,  0.00731493,  0.00836626,\n",
              "       -0.01280204, -0.03590928,  0.00030349,  0.01834061,  0.02363379,\n",
              "        0.04835551, -0.01183956,  0.00391978,  0.00716341,  0.01424929,\n",
              "       -0.00204102, -0.00702599,  0.00125379, -0.00977092,  0.0121738 ,\n",
              "        0.00836492, -0.01710298,  0.00359989,  0.00228411, -0.00323946,\n",
              "       -0.00980722, -0.00734229, -0.03026323,  0.01190272, -0.01539017,\n",
              "        0.01039989, -0.00678058, -0.00158349,  0.0051372 ,  0.01071598,\n",
              "       -0.01221489, -0.01223273,  0.01115317, -0.00229464, -0.00349161,\n",
              "        0.00084757, -0.02465886, -0.01602967,  0.02964045,  0.00125737,\n",
              "        0.01283074,  0.00334656,  0.00422645, -0.003569  , -0.01392478,\n",
              "        0.01374073,  0.01007242,  0.01764843,  0.01409458, -0.0006811 ,\n",
              "        0.01636878,  0.00783872,  0.00995057, -0.00278402,  0.01468705,\n",
              "        0.00389639, -0.01037579,  0.        , -0.00476539,  0.00670394,\n",
              "       -0.01012174, -0.00731417,  0.        , -0.06351098,  0.00521005,\n",
              "       -0.00028729,  0.00596379,  0.        ,  0.05704878,  0.00947088,\n",
              "       -0.03694547,  0.00600678, -0.00366512,  0.00576775,  0.00682801,\n",
              "        0.00465809, -0.00391332, -0.00116705, -0.00595574, -0.0065699 ,\n",
              "        0.02609805, -0.00844261,  0.        , -0.00383868,  0.        ,\n",
              "       -0.015403  , -0.00080668, -0.00746735,  0.01633018,  0.00067467,\n",
              "        0.01487643,  0.02318303,  0.        , -0.03166027,  0.01663916,\n",
              "        0.01090068,  0.00997065, -0.02480916, -0.01022239, -0.00247893,\n",
              "        0.04787968,  0.00871599,  0.0085244 ,  0.0052882 , -0.00296537,\n",
              "        0.01309227,  0.00527585,  0.01964629,  0.00969133, -0.02008669,\n",
              "       -0.03837247,  0.01205185, -0.00273795,  0.00041814,  0.00910905,\n",
              "       -0.01706031, -0.00330633, -0.01724712,  0.00145663,  0.00635089,\n",
              "       -0.00632703,  0.02288159, -0.01608046, -0.01336057, -0.01339543,\n",
              "       -0.00294975,  0.00348513,  0.00900972,  0.01616757,  0.01821929])"
            ]
          },
          "metadata": {
            "tags": []
          },
          "execution_count": 85
        }
      ]
    },
    {
      "cell_type": "code",
      "metadata": {
        "id": "lXQe4UE7FNy5",
        "colab_type": "code",
        "outputId": "76f44373-7959-498a-9b47-5bd287607951",
        "colab": {
          "base_uri": "https://localhost:8080/",
          "height": 54
        }
      },
      "source": [
        "(predictions + 1.96 * error)[:10]"
      ],
      "execution_count": 86,
      "outputs": [
        {
          "output_type": "execute_result",
          "data": {
            "text/plain": [
              "array([7.7010381 , 7.71250267, 7.72132943, 7.72942348, 7.73707167,\n",
              "       7.7437996 , 7.75000381, 7.75589094, 7.7615016 , 7.76689337])"
            ]
          },
          "metadata": {
            "tags": []
          },
          "execution_count": 86
        }
      ]
    },
    {
      "cell_type": "code",
      "metadata": {
        "id": "71W3yR1UFNy6",
        "colab_type": "code",
        "outputId": "8285f9a6-8188-41ff-a7f6-eeaced9c175b",
        "colab": {
          "base_uri": "https://localhost:8080/",
          "height": 54
        }
      },
      "source": [
        "(predictions - 1.96 * error)[:10]"
      ],
      "execution_count": 87,
      "outputs": [
        {
          "output_type": "execute_result",
          "data": {
            "text/plain": [
              "array([7.63982378, 7.62646592, 7.61902225, 7.6134832 , 7.60961644,\n",
              "       7.60439533, 7.59950926, 7.595253  , 7.59134264, 7.58777027])"
            ]
          },
          "metadata": {
            "tags": []
          },
          "execution_count": 87
        }
      ]
    },
    {
      "cell_type": "code",
      "metadata": {
        "scrolled": false,
        "id": "2tk6cbfKFNy8",
        "colab_type": "code",
        "outputId": "41df968b-1e85-4346-ae5e-7086e3cd90d5",
        "colab": {
          "base_uri": "https://localhost:8080/",
          "height": 1000
        }
      },
      "source": [
        "from sklearn.metrics import mean_squared_error\n",
        "\n",
        "x = y.values\n",
        "train_size = int(len(x) * 0.7)\n",
        "train, test = x[0:train_size], x[train_size:]\n",
        "history = [x for x in train]\n",
        "predictions = []\n",
        "for t in range(len(test)):\n",
        "    model = ARIMA(history, order=(5,1,0))\n",
        "    model_fit = model.fit(disp=0)\n",
        "    output = model_fit.forecast()\n",
        "    yhat = output[0][0]\n",
        "    predictions.append(yhat)\n",
        "    obs = test[t]\n",
        "    history.append(obs)\n",
        "    print('predicted=%f, actual=%f' % (yhat, obs))\n",
        "error = mean_squared_error(test, predictions)\n",
        "print('Test RMSE: %.3f' % np.sqrt(error))\n",
        "\n",
        "plt.plot(test)\n",
        "plt.plot(predictions, color='red')\n"
      ],
      "execution_count": 88,
      "outputs": [
        {
          "output_type": "stream",
          "text": [
            "predicted=7.642313, actual=7.631141\n",
            "predicted=7.634232, actual=7.631141\n",
            "predicted=7.632516, actual=7.626375\n",
            "predicted=7.629072, actual=7.633079\n",
            "predicted=7.634839, actual=7.622957\n",
            "predicted=7.621720, actual=7.615643\n",
            "predicted=7.617704, actual=7.615643\n",
            "predicted=7.615724, actual=7.552132\n",
            "predicted=7.554593, actual=7.557342\n",
            "predicted=7.560087, actual=7.557055\n",
            "predicted=7.551836, actual=7.563019\n",
            "predicted=7.564309, actual=7.563019\n",
            "predicted=7.552747, actual=7.620068\n",
            "predicted=7.619829, actual=7.629539\n",
            "predicted=7.627589, actual=7.592593\n",
            "predicted=7.596197, actual=7.598600\n",
            "predicted=7.602220, actual=7.594935\n",
            "predicted=7.597300, actual=7.600702\n",
            "predicted=7.603198, actual=7.607530\n",
            "predicted=7.604694, actual=7.612189\n",
            "predicted=7.613020, actual=7.608275\n",
            "predicted=7.608681, actual=7.607108\n",
            "predicted=7.608652, actual=7.601152\n",
            "predicted=7.602319, actual=7.594583\n",
            "predicted=7.596263, actual=7.620681\n",
            "predicted=7.620880, actual=7.612238\n",
            "predicted=7.610899, actual=7.612238\n",
            "predicted=7.614528, actual=7.608399\n",
            "predicted=7.607916, actual=7.608399\n",
            "predicted=7.611421, actual=7.592996\n",
            "predicted=7.593551, actual=7.592190\n",
            "predicted=7.594197, actual=7.584722\n",
            "predicted=7.584855, actual=7.601052\n",
            "predicted=7.602042, actual=7.601727\n",
            "predicted=7.600058, actual=7.616604\n",
            "predicted=7.617376, actual=7.639787\n",
            "predicted=7.638202, actual=7.639787\n",
            "predicted=7.640333, actual=7.608126\n",
            "predicted=7.610033, actual=7.624765\n",
            "predicted=7.627836, actual=7.635666\n",
            "predicted=7.634644, actual=7.645637\n",
            "predicted=7.646219, actual=7.620828\n",
            "predicted=7.620353, actual=7.610605\n",
            "predicted=7.615017, actual=7.608126\n",
            "predicted=7.609976, actual=7.656006\n",
            "predicted=7.656009, actual=7.664722\n",
            "predicted=7.659212, actual=7.673246\n",
            "predicted=7.672306, actual=7.678535\n",
            "predicted=7.678270, actual=7.675569\n",
            "predicted=7.678589, actual=7.688661\n",
            "predicted=7.690101, actual=7.693937\n",
            "predicted=7.694241, actual=7.713584\n",
            "predicted=7.714129, actual=7.723275\n",
            "predicted=7.722398, actual=7.703188\n",
            "predicted=7.704747, actual=7.664816\n",
            "predicted=7.668089, actual=7.676868\n",
            "predicted=7.682775, actual=7.674130\n",
            "predicted=7.675242, actual=7.674548\n",
            "predicted=7.675004, actual=7.683657\n",
            "predicted=7.682369, actual=7.666597\n",
            "predicted=7.667849, actual=7.663290\n",
            "predicted=7.665677, actual=7.646043\n",
            "predicted=7.647540, actual=7.647500\n",
            "predicted=7.650776, actual=7.653851\n",
            "predicted=7.653663, actual=7.647524\n",
            "predicted=7.648021, actual=7.670405\n",
            "predicted=7.670248, actual=7.654325\n",
            "predicted=7.653655, actual=7.640964\n",
            "predicted=7.643984, actual=7.627569\n",
            "predicted=7.628996, actual=7.624619\n",
            "predicted=7.628661, actual=7.628104\n",
            "predicted=7.628498, actual=7.637114\n",
            "predicted=7.637006, actual=7.653281\n",
            "predicted=7.652325, actual=7.671501\n",
            "Test RMSE: 0.018\n"
          ],
          "name": "stdout"
        },
        {
          "output_type": "execute_result",
          "data": {
            "text/plain": [
              "[<matplotlib.lines.Line2D at 0x7f1bbd307be0>]"
            ]
          },
          "metadata": {
            "tags": []
          },
          "execution_count": 88
        },
        {
          "output_type": "display_data",
          "data": {
            "image/png": "[encoded data removed]",
            "text/plain": [
              "<Figure size 432x288 with 1 Axes>"
            ]
          },
          "metadata": {
            "tags": []
          }
        }
      ]
    },
    {
      "cell_type": "code",
      "metadata": {
        "id": "TuNG-zynFNy-",
        "colab_type": "code",
        "outputId": "c3810225-0530-4355-904b-22347832badc",
        "colab": {
          "base_uri": "https://localhost:8080/",
          "height": 1000
        }
      },
      "source": [
        "result = pd.DataFrame(y)[train_size:]\n",
        "result.columns = [\"actual\"]\n",
        "result[\"prediction\"] = predictions\n",
        "result"
      ],
      "execution_count": 89,
      "outputs": [
        {
          "output_type": "execute_result",
          "data": {
            "text/html": [
              "<div>\n",
              "<style scoped>\n",
              "    .dataframe tbody tr th:only-of-type {\n",
              "        vertical-align: middle;\n",
              "    }\n",
              "\n",
              "    .dataframe tbody tr th {\n",
              "        vertical-align: top;\n",
              "    }\n",
              "\n",
              "    .dataframe thead th {\n",
              "        text-align: right;\n",
              "    }\n",
              "</style>\n",
              "<table border=\"1\" class=\"dataframe\">\n",
              "  <thead>\n",
              "    <tr style=\"text-align: right;\">\n",
              "      <th></th>\n",
              "      <th>actual</th>\n",
              "      <th>prediction</th>\n",
              "    </tr>\n",
              "    <tr>\n",
              "      <th>Date</th>\n",
              "      <th></th>\n",
              "      <th></th>\n",
              "    </tr>\n",
              "  </thead>\n",
              "  <tbody>\n",
              "    <tr>\n",
              "      <th>2019-02-08</th>\n",
              "      <td>7.631141</td>\n",
              "      <td>7.642313</td>\n",
              "    </tr>\n",
              "    <tr>\n",
              "      <th>2019-02-11</th>\n",
              "      <td>7.631141</td>\n",
              "      <td>7.634232</td>\n",
              "    </tr>\n",
              "    <tr>\n",
              "      <th>2019-02-12</th>\n",
              "      <td>7.626375</td>\n",
              "      <td>7.632516</td>\n",
              "    </tr>\n",
              "    <tr>\n",
              "      <th>2019-02-13</th>\n",
              "      <td>7.633079</td>\n",
              "      <td>7.629072</td>\n",
              "    </tr>\n",
              "    <tr>\n",
              "      <th>2019-02-14</th>\n",
              "      <td>7.622957</td>\n",
              "      <td>7.634839</td>\n",
              "    </tr>\n",
              "    <tr>\n",
              "      <th>2019-02-15</th>\n",
              "      <td>7.615643</td>\n",
              "      <td>7.621720</td>\n",
              "    </tr>\n",
              "    <tr>\n",
              "      <th>2019-02-18</th>\n",
              "      <td>7.615643</td>\n",
              "      <td>7.617704</td>\n",
              "    </tr>\n",
              "    <tr>\n",
              "      <th>2019-02-19</th>\n",
              "      <td>7.552132</td>\n",
              "      <td>7.615724</td>\n",
              "    </tr>\n",
              "    <tr>\n",
              "      <th>2019-02-20</th>\n",
              "      <td>7.557342</td>\n",
              "      <td>7.554593</td>\n",
              "    </tr>\n",
              "    <tr>\n",
              "      <th>2019-02-21</th>\n",
              "      <td>7.557055</td>\n",
              "      <td>7.560087</td>\n",
              "    </tr>\n",
              "    <tr>\n",
              "      <th>2019-02-22</th>\n",
              "      <td>7.563019</td>\n",
              "      <td>7.551836</td>\n",
              "    </tr>\n",
              "    <tr>\n",
              "      <th>2019-02-25</th>\n",
              "      <td>7.563019</td>\n",
              "      <td>7.564309</td>\n",
              "    </tr>\n",
              "    <tr>\n",
              "      <th>2019-02-26</th>\n",
              "      <td>7.620068</td>\n",
              "      <td>7.552747</td>\n",
              "    </tr>\n",
              "    <tr>\n",
              "      <th>2019-02-27</th>\n",
              "      <td>7.629539</td>\n",
              "      <td>7.619829</td>\n",
              "    </tr>\n",
              "    <tr>\n",
              "      <th>2019-02-28</th>\n",
              "      <td>7.592593</td>\n",
              "      <td>7.627589</td>\n",
              "    </tr>\n",
              "    <tr>\n",
              "      <th>2019-03-01</th>\n",
              "      <td>7.598600</td>\n",
              "      <td>7.596197</td>\n",
              "    </tr>\n",
              "    <tr>\n",
              "      <th>2019-03-05</th>\n",
              "      <td>7.594935</td>\n",
              "      <td>7.602220</td>\n",
              "    </tr>\n",
              "    <tr>\n",
              "      <th>2019-03-06</th>\n",
              "      <td>7.600702</td>\n",
              "      <td>7.597300</td>\n",
              "    </tr>\n",
              "    <tr>\n",
              "      <th>2019-03-07</th>\n",
              "      <td>7.607530</td>\n",
              "      <td>7.603198</td>\n",
              "    </tr>\n",
              "    <tr>\n",
              "      <th>2019-03-08</th>\n",
              "      <td>7.612189</td>\n",
              "      <td>7.604694</td>\n",
              "    </tr>\n",
              "    <tr>\n",
              "      <th>2019-03-11</th>\n",
              "      <td>7.608275</td>\n",
              "      <td>7.613020</td>\n",
              "    </tr>\n",
              "    <tr>\n",
              "      <th>2019-03-12</th>\n",
              "      <td>7.607108</td>\n",
              "      <td>7.608681</td>\n",
              "    </tr>\n",
              "    <tr>\n",
              "      <th>2019-03-13</th>\n",
              "      <td>7.601152</td>\n",
              "      <td>7.608652</td>\n",
              "    </tr>\n",
              "    <tr>\n",
              "      <th>2019-03-14</th>\n",
              "      <td>7.594583</td>\n",
              "      <td>7.602319</td>\n",
              "    </tr>\n",
              "    <tr>\n",
              "      <th>2019-03-15</th>\n",
              "      <td>7.620681</td>\n",
              "      <td>7.596263</td>\n",
              "    </tr>\n",
              "    <tr>\n",
              "      <th>2019-03-18</th>\n",
              "      <td>7.612238</td>\n",
              "      <td>7.620880</td>\n",
              "    </tr>\n",
              "    <tr>\n",
              "      <th>2019-03-19</th>\n",
              "      <td>7.612238</td>\n",
              "      <td>7.610899</td>\n",
              "    </tr>\n",
              "    <tr>\n",
              "      <th>2019-03-20</th>\n",
              "      <td>7.608399</td>\n",
              "      <td>7.614528</td>\n",
              "    </tr>\n",
              "    <tr>\n",
              "      <th>2019-03-22</th>\n",
              "      <td>7.608399</td>\n",
              "      <td>7.607916</td>\n",
              "    </tr>\n",
              "    <tr>\n",
              "      <th>2019-03-25</th>\n",
              "      <td>7.592996</td>\n",
              "      <td>7.611421</td>\n",
              "    </tr>\n",
              "    <tr>\n",
              "      <th>...</th>\n",
              "      <td>...</td>\n",
              "      <td>...</td>\n",
              "    </tr>\n",
              "    <tr>\n",
              "      <th>2019-04-15</th>\n",
              "      <td>7.656006</td>\n",
              "      <td>7.609976</td>\n",
              "    </tr>\n",
              "    <tr>\n",
              "      <th>2019-04-16</th>\n",
              "      <td>7.664722</td>\n",
              "      <td>7.656009</td>\n",
              "    </tr>\n",
              "    <tr>\n",
              "      <th>2019-04-18</th>\n",
              "      <td>7.673246</td>\n",
              "      <td>7.659212</td>\n",
              "    </tr>\n",
              "    <tr>\n",
              "      <th>2019-04-22</th>\n",
              "      <td>7.678535</td>\n",
              "      <td>7.672306</td>\n",
              "    </tr>\n",
              "    <tr>\n",
              "      <th>2019-04-23</th>\n",
              "      <td>7.675569</td>\n",
              "      <td>7.678270</td>\n",
              "    </tr>\n",
              "    <tr>\n",
              "      <th>2019-04-24</th>\n",
              "      <td>7.688661</td>\n",
              "      <td>7.678589</td>\n",
              "    </tr>\n",
              "    <tr>\n",
              "      <th>2019-04-25</th>\n",
              "      <td>7.693937</td>\n",
              "      <td>7.690101</td>\n",
              "    </tr>\n",
              "    <tr>\n",
              "      <th>2019-04-26</th>\n",
              "      <td>7.713584</td>\n",
              "      <td>7.694241</td>\n",
              "    </tr>\n",
              "    <tr>\n",
              "      <th>2019-04-30</th>\n",
              "      <td>7.723275</td>\n",
              "      <td>7.714129</td>\n",
              "    </tr>\n",
              "    <tr>\n",
              "      <th>2019-05-02</th>\n",
              "      <td>7.703188</td>\n",
              "      <td>7.722398</td>\n",
              "    </tr>\n",
              "    <tr>\n",
              "      <th>2019-05-03</th>\n",
              "      <td>7.664816</td>\n",
              "      <td>7.704747</td>\n",
              "    </tr>\n",
              "    <tr>\n",
              "      <th>2019-05-06</th>\n",
              "      <td>7.676868</td>\n",
              "      <td>7.668089</td>\n",
              "    </tr>\n",
              "    <tr>\n",
              "      <th>2019-05-07</th>\n",
              "      <td>7.674130</td>\n",
              "      <td>7.682775</td>\n",
              "    </tr>\n",
              "    <tr>\n",
              "      <th>2019-05-08</th>\n",
              "      <td>7.674548</td>\n",
              "      <td>7.675242</td>\n",
              "    </tr>\n",
              "    <tr>\n",
              "      <th>2019-05-09</th>\n",
              "      <td>7.683657</td>\n",
              "      <td>7.675004</td>\n",
              "    </tr>\n",
              "    <tr>\n",
              "      <th>2019-05-10</th>\n",
              "      <td>7.666597</td>\n",
              "      <td>7.682369</td>\n",
              "    </tr>\n",
              "    <tr>\n",
              "      <th>2019-05-13</th>\n",
              "      <td>7.663290</td>\n",
              "      <td>7.667849</td>\n",
              "    </tr>\n",
              "    <tr>\n",
              "      <th>2019-05-14</th>\n",
              "      <td>7.646043</td>\n",
              "      <td>7.665677</td>\n",
              "    </tr>\n",
              "    <tr>\n",
              "      <th>2019-05-15</th>\n",
              "      <td>7.647500</td>\n",
              "      <td>7.647540</td>\n",
              "    </tr>\n",
              "    <tr>\n",
              "      <th>2019-05-16</th>\n",
              "      <td>7.653851</td>\n",
              "      <td>7.650776</td>\n",
              "    </tr>\n",
              "    <tr>\n",
              "      <th>2019-05-17</th>\n",
              "      <td>7.647524</td>\n",
              "      <td>7.653663</td>\n",
              "    </tr>\n",
              "    <tr>\n",
              "      <th>2019-05-20</th>\n",
              "      <td>7.670405</td>\n",
              "      <td>7.648021</td>\n",
              "    </tr>\n",
              "    <tr>\n",
              "      <th>2019-05-21</th>\n",
              "      <td>7.654325</td>\n",
              "      <td>7.670248</td>\n",
              "    </tr>\n",
              "    <tr>\n",
              "      <th>2019-05-22</th>\n",
              "      <td>7.640964</td>\n",
              "      <td>7.653655</td>\n",
              "    </tr>\n",
              "    <tr>\n",
              "      <th>2019-05-23</th>\n",
              "      <td>7.627569</td>\n",
              "      <td>7.643984</td>\n",
              "    </tr>\n",
              "    <tr>\n",
              "      <th>2019-05-24</th>\n",
              "      <td>7.624619</td>\n",
              "      <td>7.628996</td>\n",
              "    </tr>\n",
              "    <tr>\n",
              "      <th>2019-05-27</th>\n",
              "      <td>7.628104</td>\n",
              "      <td>7.628661</td>\n",
              "    </tr>\n",
              "    <tr>\n",
              "      <th>2019-05-28</th>\n",
              "      <td>7.637114</td>\n",
              "      <td>7.628498</td>\n",
              "    </tr>\n",
              "    <tr>\n",
              "      <th>2019-05-29</th>\n",
              "      <td>7.653281</td>\n",
              "      <td>7.637006</td>\n",
              "    </tr>\n",
              "    <tr>\n",
              "      <th>2019-05-30</th>\n",
              "      <td>7.671501</td>\n",
              "      <td>7.652325</td>\n",
              "    </tr>\n",
              "  </tbody>\n",
              "</table>\n",
              "<p>74 rows × 2 columns</p>\n",
              "</div>"
            ],
            "text/plain": [
              "              actual  prediction\n",
              "Date                            \n",
              "2019-02-08  7.631141    7.642313\n",
              "2019-02-11  7.631141    7.634232\n",
              "2019-02-12  7.626375    7.632516\n",
              "2019-02-13  7.633079    7.629072\n",
              "2019-02-14  7.622957    7.634839\n",
              "2019-02-15  7.615643    7.621720\n",
              "2019-02-18  7.615643    7.617704\n",
              "2019-02-19  7.552132    7.615724\n",
              "2019-02-20  7.557342    7.554593\n",
              "2019-02-21  7.557055    7.560087\n",
              "2019-02-22  7.563019    7.551836\n",
              "2019-02-25  7.563019    7.564309\n",
              "2019-02-26  7.620068    7.552747\n",
              "2019-02-27  7.629539    7.619829\n",
              "2019-02-28  7.592593    7.627589\n",
              "2019-03-01  7.598600    7.596197\n",
              "2019-03-05  7.594935    7.602220\n",
              "2019-03-06  7.600702    7.597300\n",
              "2019-03-07  7.607530    7.603198\n",
              "2019-03-08  7.612189    7.604694\n",
              "2019-03-11  7.608275    7.613020\n",
              "2019-03-12  7.607108    7.608681\n",
              "2019-03-13  7.601152    7.608652\n",
              "2019-03-14  7.594583    7.602319\n",
              "2019-03-15  7.620681    7.596263\n",
              "2019-03-18  7.612238    7.620880\n",
              "2019-03-19  7.612238    7.610899\n",
              "2019-03-20  7.608399    7.614528\n",
              "2019-03-22  7.608399    7.607916\n",
              "2019-03-25  7.592996    7.611421\n",
              "...              ...         ...\n",
              "2019-04-15  7.656006    7.609976\n",
              "2019-04-16  7.664722    7.656009\n",
              "2019-04-18  7.673246    7.659212\n",
              "2019-04-22  7.678535    7.672306\n",
              "2019-04-23  7.675569    7.678270\n",
              "2019-04-24  7.688661    7.678589\n",
              "2019-04-25  7.693937    7.690101\n",
              "2019-04-26  7.713584    7.694241\n",
              "2019-04-30  7.723275    7.714129\n",
              "2019-05-02  7.703188    7.722398\n",
              "2019-05-03  7.664816    7.704747\n",
              "2019-05-06  7.676868    7.668089\n",
              "2019-05-07  7.674130    7.682775\n",
              "2019-05-08  7.674548    7.675242\n",
              "2019-05-09  7.683657    7.675004\n",
              "2019-05-10  7.666597    7.682369\n",
              "2019-05-13  7.663290    7.667849\n",
              "2019-05-14  7.646043    7.665677\n",
              "2019-05-15  7.647500    7.647540\n",
              "2019-05-16  7.653851    7.650776\n",
              "2019-05-17  7.647524    7.653663\n",
              "2019-05-20  7.670405    7.648021\n",
              "2019-05-21  7.654325    7.670248\n",
              "2019-05-22  7.640964    7.653655\n",
              "2019-05-23  7.627569    7.643984\n",
              "2019-05-24  7.624619    7.628996\n",
              "2019-05-27  7.628104    7.628661\n",
              "2019-05-28  7.637114    7.628498\n",
              "2019-05-29  7.653281    7.637006\n",
              "2019-05-30  7.671501    7.652325\n",
              "\n",
              "[74 rows x 2 columns]"
            ]
          },
          "metadata": {
            "tags": []
          },
          "execution_count": 89
        }
      ]
    },
    {
      "cell_type": "code",
      "metadata": {
        "id": "psd4UAfSFNy_",
        "colab_type": "code",
        "colab": {}
      },
      "source": [
        "from numpy import array\n",
        "import keras\n",
        "import tensorflow as tf\n",
        "from keras.preprocessing.sequence import TimeseriesGenerator"
      ],
      "execution_count": 0,
      "outputs": []
    },
    {
      "cell_type": "code",
      "metadata": {
        "id": "fBno1CjXFNzB",
        "colab_type": "code",
        "outputId": "b398e550-e736-4efb-c378-129d36b80b84",
        "colab": {
          "base_uri": "https://localhost:8080/",
          "height": 235
        }
      },
      "source": [
        "y_b = np.log(df[\"Close Price\"])\n",
        "y_b = y_b.asfreq(\"B\").dropna()/10.0\n",
        "print(\"%s\" % y_b[:10])"
      ],
      "execution_count": 91,
      "outputs": [
        {
          "output_type": "stream",
          "text": [
            "Date\n",
            "2018-05-31    0.746224\n",
            "2018-06-01    0.745729\n",
            "2018-06-04    0.746408\n",
            "2018-06-05    0.745101\n",
            "2018-06-06    0.745342\n",
            "2018-06-07    0.745908\n",
            "2018-06-08    0.746571\n",
            "2018-06-11    0.746720\n",
            "2018-06-12    0.748493\n",
            "2018-06-13    0.750884\n",
            "Name: Close Price, dtype: float64\n"
          ],
          "name": "stdout"
        }
      ]
    },
    {
      "cell_type": "code",
      "metadata": {
        "scrolled": false,
        "id": "vRCdUC3TFNzD",
        "colab_type": "code",
        "outputId": "db549276-4c6e-47f7-a84b-ae39cec07e99",
        "colab": {
          "base_uri": "https://localhost:8080/",
          "height": 90
        }
      },
      "source": [
        "n_input = 5\n",
        "train_size = int(0.7 * len(y_b))\n",
        "y_b_train = y_b[:train_size]\n",
        "y_b_test = y_b[train_size:]\n",
        "generator_train = TimeseriesGenerator(y_b_train, y_b_train, length=n_input, batch_size=1, )\n",
        "generator_test = TimeseriesGenerator(y_b_test, y_b_test, length=n_input, batch_size=1)\n",
        "print('Samples: %d' % len(generator_train))\n",
        "for i in range(3):\n",
        "    x, y = generator_train[i]\n",
        "    print('%s => %s' % (x, y))"
      ],
      "execution_count": 92,
      "outputs": [
        {
          "output_type": "stream",
          "text": [
            "Samples: 167\n",
            "[[0.74622437 0.74572919 0.74640799 0.74510094 0.7453417 ]] => [0.74590796]\n",
            "[[0.74572919 0.74640799 0.74510094 0.7453417  0.74590796]] => [0.74657125]\n",
            "[[0.74640799 0.74510094 0.7453417  0.74590796 0.74657125]] => [0.74671996]\n"
          ],
          "name": "stdout"
        }
      ]
    },
    {
      "cell_type": "code",
      "metadata": {
        "scrolled": false,
        "id": "2S8vVkFgFNzF",
        "colab_type": "code",
        "outputId": "ba5468f8-a1f0-44fe-bf9d-5281b9aa053f",
        "colab": {
          "base_uri": "https://localhost:8080/",
          "height": 272
        }
      },
      "source": [
        "tf.set_random_seed(1)\n",
        "np.random.seed(1)\n",
        "\n",
        "\n",
        "model = keras.Sequential([\n",
        "    keras.layers.InputLayer(input_shape = (n_input,)),\n",
        "    keras.layers.Dense(1, activation = None, kernel_initializer = keras.initializers.he_uniform(seed = 1.0))\n",
        "])\n",
        "model.compile(loss = \"mse\", optimizer = keras.optimizers.SGD(lr = 0.1))\n",
        "model.summary()\n",
        "\n",
        "model.fit_generator(generator_train, steps_per_epoch=1, epochs=500, verbose=0)\n",
        "y_b_test_pred = model.predict_generator(generator_test, use_multiprocessing = True)\n",
        "layer = model.layers[0]\n",
        "print(layer.get_weights())"
      ],
      "execution_count": 93,
      "outputs": [
        {
          "output_type": "stream",
          "text": [
            "_________________________________________________________________\n",
            "Layer (type)                 Output Shape              Param #   \n",
            "=================================================================\n",
            "dense_5 (Dense)              (None, 1)                 6         \n",
            "=================================================================\n",
            "Total params: 6\n",
            "Trainable params: 6\n",
            "Non-trainable params: 0\n",
            "_________________________________________________________________\n",
            "[array([[-0.3600253 ],\n",
            "       [-0.4411793 ],\n",
            "       [-0.32764933],\n",
            "       [ 0.112325  ],\n",
            "       [ 0.94929117]], dtype=float32), array([0.80706626], dtype=float32)]\n"
          ],
          "name": "stdout"
        }
      ]
    },
    {
      "cell_type": "code",
      "metadata": {
        "id": "3QIRK6mCFNzH",
        "colab_type": "code",
        "outputId": "9009768b-2734-4187-f839-d355958eec8e",
        "colab": {
          "base_uri": "https://localhost:8080/",
          "height": 35
        }
      },
      "source": [
        "y_b_test_pred.shape, y_b_test.shape"
      ],
      "execution_count": 94,
      "outputs": [
        {
          "output_type": "execute_result",
          "data": {
            "text/plain": [
              "((69, 1), (74,))"
            ]
          },
          "metadata": {
            "tags": []
          },
          "execution_count": 94
        }
      ]
    },
    {
      "cell_type": "code",
      "metadata": {
        "id": "hordyhvxFNzJ",
        "colab_type": "code",
        "outputId": "8afa0e90-b577-4055-b5fb-a20178685ca3",
        "colab": {
          "base_uri": "https://localhost:8080/",
          "height": 35
        }
      },
      "source": [
        "metrics.mean_squared_error(y_b_test[n_input:] * 10.0, y_b_test_pred * 10.0) ** 0.5"
      ],
      "execution_count": 95,
      "outputs": [
        {
          "output_type": "execute_result",
          "data": {
            "text/plain": [
              "0.08352339863386041"
            ]
          },
          "metadata": {
            "tags": []
          },
          "execution_count": 95
        }
      ]
    },
    {
      "cell_type": "code",
      "metadata": {
        "id": "uyF4QJQfFNzV",
        "colab_type": "code",
        "colab": {}
      },
      "source": [
        ""
      ],
      "execution_count": 0,
      "outputs": []
    },
    {
      "cell_type": "code",
      "metadata": {
        "id": "HdS6Fv4SiXWv",
        "colab_type": "code",
        "colab": {}
      },
      "source": [
        ""
      ],
      "execution_count": 0,
      "outputs": []
    },
    {
      "cell_type": "code",
      "metadata": {
        "id": "KMOrlhkWFNzZ",
        "colab_type": "code",
        "colab": {}
      },
      "source": [
        ""
      ],
      "execution_count": 0,
      "outputs": []
    }
  ]
}